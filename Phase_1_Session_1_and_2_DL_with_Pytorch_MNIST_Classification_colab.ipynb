{
  "nbformat": 4,
  "nbformat_minor": 0,
  "metadata": {
    "colab": {
      "name": " Phase - 1_Session-1 and 2_DL_with_Pytorch_MNIST_Classification_colab.ipynb",
      "version": "0.3.2",
      "provenance": [],
      "collapsed_sections": [
        "xlkpF1m_4DBw",
        "mdd4kzZa4DBy",
        "BybjWD-B4DCg",
        "Gj48dSJg4DCm",
        "Hf9bGVDH4DCn",
        "TUVHsCvR4DCp",
        "R5TxccEk4DCq",
        "0c7XjTMH4DCs",
        "0ZOWCRtq4DCw",
        "_hGrdIVq4DCy",
        "wr91w0-X4DCz",
        "_vC0Y7z34DC1",
        "9zyso_in4DC4",
        "B-j6vcfk4DC9",
        "4ZwCEHs24DC_",
        "dMLPVy7c4DDB"
      ],
      "include_colab_link": true
    },
    "language_info": {
      "codemirror_mode": {
        "name": "ipython",
        "version": 3
      },
      "file_extension": ".py",
      "mimetype": "text/x-python",
      "name": "python",
      "nbconvert_exporter": "python",
      "pygments_lexer": "ipython3",
      "version": "3.5.5"
    },
    "kernelspec": {
      "name": "python3",
      "display_name": "Python 3"
    },
    "accelerator": "GPU"
  },
  "cells": [
    {
      "cell_type": "markdown",
      "metadata": {
        "id": "view-in-github",
        "colab_type": "text"
      },
      "source": [
        "<a href=\"https://colab.research.google.com/github/maheshwarineha/Deep-Learning/blob/master/Phase_1_Session_1_and_2_DL_with_Pytorch_MNIST_Classification_colab.ipynb\" target=\"_parent\"><img src=\"https://colab.research.google.com/assets/colab-badge.svg\" alt=\"Open In Colab\"/></a>"
      ]
    },
    {
      "cell_type": "markdown",
      "metadata": {
        "_uuid": "1a991e7f539673da033393d34767c7335318ab9a",
        "colab_type": "text",
        "id": "9Vvp6QLz4C9y"
      },
      "source": [
        "**Agenda:**\n",
        "<br>\n",
        "For this tutorial in  Deep Learning(DL) with Pytorch, we are going to explore Multi Layered Perceptron architecture and learn Pytorch by implementing  algorithms under a certain usecase.We will cover the following:\n",
        "1. Deep Learning basics with Pytorch\n",
        "2. Multilayered Perceptron (MLP) implemention on  MNIST\n",
        "<br>\n",
        "\n",
        "Lets get started !!\n"
      ]
    },
    {
      "cell_type": "markdown",
      "metadata": {
        "_uuid": "8f02da80b362a4233b75cb0f9e9656525e37befa",
        "colab_type": "text",
        "id": "L45gM0dy4C9z"
      },
      "source": [
        "![](images/mlp.png)"
      ]
    },
    {
      "cell_type": "markdown",
      "metadata": {
        "_uuid": "6145a827010b47e713d5bcdb6f89d8042040d75f",
        "colab_type": "text",
        "id": "FtyNV4e_4C91"
      },
      "source": [
        "# **1. Deep Learning basics with Pytorch**\n",
        "<br>\n",
        "In this part we will cover the following:\n",
        "\n",
        "1. Learn to play with tensors on numpy and pytorch \n",
        "2. Learn to build a simple feed forward network from scratch with random data \n",
        "3. Learn to build an end to end MLP for MNIST dataset"
      ]
    },
    {
      "cell_type": "markdown",
      "metadata": {
        "colab_type": "text",
        "id": "vDr4q0SY4C93"
      },
      "source": [
        "##  Imports"
      ]
    },
    {
      "cell_type": "code",
      "metadata": {
        "ExecuteTime": {
          "end_time": "2019-06-29T06:23:59.969638Z",
          "start_time": "2019-06-29T06:22:56.981582Z"
        },
        "_cell_guid": "b1076dfc-b9ad-4769-8c92-a6c4dae69d19",
        "_uuid": "8f2839f25d086af736a60e9eeb907d3b93b6e0e5",
        "colab_type": "code",
        "id": "FqzxX9Xy4C94",
        "outputId": "2abfe5c7-a408-40a7-e592-ab4ef7b17d34",
        "colab": {
          "base_uri": "https://localhost:8080/",
          "height": 34
        }
      },
      "source": [
        "#!pip3 install torch torchvision\n",
        "\n",
        "# This Python 3 environment comes with many helpful analytics libraries installed\n",
        "# It is defined by the kaggle/python docker image: https://github.com/kaggle/docker-python\n",
        "# For example, here's several helpful packages to load in \n",
        "\n",
        "import numpy as np # linear algebra\n",
        "import pandas as pd # data processing, CSV file I/O (e.g. pd.read_csv)\n",
        "\n",
        "# Input data files are available in the \"../input/\" directory.\n",
        "# For example, running this (by clicking run or pressing Shift+Enter) will list the files in the input directory\n",
        "\n",
        "import os\n",
        "#print(\"List of files\",os.listdir(\"../input\"))\n",
        "import torch\n",
        "import numpy as np\n",
        "print(\"Torch Version:\",torch.__version__)\n",
        "# Any results you write to the current directory are saved as output."
      ],
      "execution_count": 0,
      "outputs": [
        {
          "output_type": "stream",
          "text": [
            "Torch Version: 1.1.0\n"
          ],
          "name": "stdout"
        }
      ]
    },
    {
      "cell_type": "markdown",
      "metadata": {
        "_uuid": "1e8017c3ed94f083df4e2bf071f7f5f422c40ca1",
        "colab_type": "text",
        "id": "XZ1sqauc4C98"
      },
      "source": [
        "## Helper Functions"
      ]
    },
    {
      "cell_type": "code",
      "metadata": {
        "_uuid": "8f08b918b1e2513ad7c1f382cfba39b0205aba6e",
        "colab_type": "code",
        "id": "m4BiKJI74C99",
        "colab": {}
      },
      "source": [
        "import matplotlib.pyplot as plt\n",
        "import numpy as np\n",
        "from torch import nn, optim\n",
        "from torch.autograd import Variable\n",
        "\n",
        "\n",
        "def test_network(net, trainloader):\n",
        "\n",
        "    criterion = nn.MSELoss()\n",
        "    optimizer = optim.Adam(net.parameters(), lr=0.001)\n",
        "\n",
        "    dataiter = iter(trainloader)\n",
        "    images, labels = dataiter.next()\n",
        "\n",
        "    # Create Variables for the inputs and targets\n",
        "    inputs = Variable(images)\n",
        "    targets = Variable(images)\n",
        "\n",
        "    # Clear the gradients from all Variables\n",
        "    optimizer.zero_grad()\n",
        "\n",
        "    # Forward pass, then backward pass, then update weights\n",
        "    output = net.forward(inputs)\n",
        "    loss = criterion(output, targets)\n",
        "    loss.backward()\n",
        "    optimizer.step()\n",
        "\n",
        "    return True\n",
        "\n",
        "\n",
        "def imshow(image, ax=None, title=None, normalize=True):\n",
        "    \"\"\"Imshow for Tensor.\"\"\"\n",
        "    if ax is None:\n",
        "        fig, ax = plt.subplots()\n",
        "    image = image.numpy().transpose((1, 2, 0))\n",
        "\n",
        "    if normalize:\n",
        "        mean = np.array([0.485, 0.456, 0.406])\n",
        "        std = np.array([0.229, 0.224, 0.225])\n",
        "        image = std * image + mean\n",
        "        image = np.clip(image, 0, 1)\n",
        "\n",
        "    ax.imshow(image)\n",
        "    ax.spines['top'].set_visible(False)\n",
        "    ax.spines['right'].set_visible(False)\n",
        "    ax.spines['left'].set_visible(False)\n",
        "    ax.spines['bottom'].set_visible(False)\n",
        "    ax.tick_params(axis='both', length=0)\n",
        "    ax.set_xticklabels('')\n",
        "    ax.set_yticklabels('')\n",
        "\n",
        "    return ax\n",
        "\n",
        "\n",
        "def view_recon(img, recon):\n",
        "    ''' Function for displaying an image (as a PyTorch Tensor) and its\n",
        "        reconstruction also a PyTorch Tensor\n",
        "    '''\n",
        "\n",
        "    fig, axes = plt.subplots(ncols=2, sharex=True, sharey=True)\n",
        "    axes[0].imshow(img.numpy().squeeze())\n",
        "    axes[1].imshow(recon.data.numpy().squeeze())\n",
        "    for ax in axes:\n",
        "        ax.axis('off')\n",
        "        ax.set_adjustable('box-forced')\n",
        "\n",
        "def view_classify(img, ps, version=\"MNIST\"):\n",
        "    ''' Function for viewing an image and it's predicted classes.\n",
        "    '''\n",
        "    ps = ps.data.numpy().squeeze()\n",
        "\n",
        "    fig, (ax1, ax2) = plt.subplots(figsize=(6,9), ncols=2)\n",
        "    ax1.imshow(img.resize_(1, 28, 28).numpy().squeeze())\n",
        "    ax1.axis('off')\n",
        "    ax2.barh(np.arange(10), ps)\n",
        "    ax2.set_aspect(0.1)\n",
        "    ax2.set_yticks(np.arange(10))\n",
        "    if version == \"MNIST\":\n",
        "        ax2.set_yticklabels(np.arange(10))\n",
        "    elif version == \"Fashion\":\n",
        "        ax2.set_yticklabels(['T-shirt/top',\n",
        "                            'Trouser',\n",
        "                            'Pullover',\n",
        "                            'Dress',\n",
        "                            'Coat',\n",
        "                            'Sandal',\n",
        "                            'Shirt',\n",
        "                            'Sneaker',\n",
        "                            'Bag',\n",
        "                            'Ankle Boot'], size='small');\n",
        "    ax2.set_title('Class Probability')\n",
        "    ax2.set_xlim(0, 1.1)\n",
        "\n",
        "    plt.tight_layout()\n"
      ],
      "execution_count": 0,
      "outputs": []
    },
    {
      "cell_type": "markdown",
      "metadata": {
        "_uuid": "cc2337505994f4530913183436b9f4bf8a118599",
        "colab_type": "text",
        "id": "YAYW22Rh4C-B"
      },
      "source": [
        "## Tensors\n",
        "It turns out neural network computations are just a bunch of linear algebra operations on *tensors*, a generalization of matrices. A vector is a 1-dimensional tensor, a matrix is a 2-dimensional tensor, an array with three indices is a 3-dimensional tensor (RGB color images for example). The fundamental data structure for neural networks are tensors and PyTorch (as well as pretty much every other deep learning framework) is built around tensors.\n",
        "\n",
        "Tensors are similar to NumPy’s ndarrays, with the addition being that Tensors can also be used on a GPU to accelerate computing.\n",
        "\n",
        "<img src=\"images/tensor_examples.svg\" width=600px>\n"
      ]
    },
    {
      "cell_type": "markdown",
      "metadata": {
        "colab_type": "text",
        "id": "iB71Npbp4C-C"
      },
      "source": [
        "### Construct a randomly initialized 5x3 matrix:\n",
        "\n",
        "\n"
      ]
    },
    {
      "cell_type": "code",
      "metadata": {
        "ExecuteTime": {
          "end_time": "2019-02-04T11:21:36.971841Z",
          "start_time": "2019-02-04T11:21:36.623384Z"
        },
        "colab_type": "code",
        "id": "oLdA8qkA4C-D",
        "outputId": "81006928-3527-4a42-8aa6-4ec5f14a6d24",
        "colab": {
          "base_uri": "https://localhost:8080/",
          "height": 102
        }
      },
      "source": [
        "x = torch.rand(5, 3)\n",
        "print(x)"
      ],
      "execution_count": 0,
      "outputs": [
        {
          "output_type": "stream",
          "text": [
            "tensor([[0.9851, 0.6832, 0.9869],\n",
            "        [0.1555, 0.4745, 0.9280],\n",
            "        [0.2278, 0.5239, 0.2541],\n",
            "        [0.8145, 0.5786, 0.3488],\n",
            "        [0.2095, 0.9761, 0.7823]])\n"
          ],
          "name": "stdout"
        }
      ]
    },
    {
      "cell_type": "markdown",
      "metadata": {
        "colab_type": "text",
        "id": "FdMjupDY4C-H"
      },
      "source": [
        "### Construct a tensor directly from data:"
      ]
    },
    {
      "cell_type": "code",
      "metadata": {
        "ExecuteTime": {
          "end_time": "2019-02-04T11:22:21.040158Z",
          "start_time": "2019-02-04T11:22:21.033606Z"
        },
        "colab_type": "code",
        "id": "7KjxFCsl4C-I",
        "outputId": "0f7b3ea8-72ba-40a3-86b5-5badd1e49533",
        "colab": {
          "base_uri": "https://localhost:8080/",
          "height": 34
        }
      },
      "source": [
        "x = torch.tensor([5.5, 3])\n",
        "print(x)"
      ],
      "execution_count": 0,
      "outputs": [
        {
          "output_type": "stream",
          "text": [
            "tensor([5.5000, 3.0000])\n"
          ],
          "name": "stdout"
        }
      ]
    },
    {
      "cell_type": "markdown",
      "metadata": {
        "_uuid": "1afe587702c9d925968dc34d4e7f515b700d9089",
        "colab_type": "text",
        "id": "N2_NMiwy4C-M"
      },
      "source": [
        "### Numpy to Torch and back\n",
        "\n",
        "PyTorch has a great feature for converting between Numpy arrays and Torch tensors. Let us see how easy it is to switch between the two\n",
        "\n",
        "### Ceate a tensor using numpy array"
      ]
    },
    {
      "cell_type": "code",
      "metadata": {
        "_uuid": "35d8b903e1564ee833e2d0ed2ea00d40b61aa16e",
        "colab_type": "code",
        "id": "lfm27TeL4C-M",
        "outputId": "a34dbdb2-0374-45a1-8b3a-fa0c164438eb",
        "colab": {
          "base_uri": "https://localhost:8080/",
          "height": 119
        }
      },
      "source": [
        "np_array=np.random.randn(5,3)\n",
        "print(f' Numpy array:\\n {np_array}')"
      ],
      "execution_count": 0,
      "outputs": [
        {
          "output_type": "stream",
          "text": [
            " Numpy array:\n",
            " [[ 0.26660052 -0.22044432 -1.01680903]\n",
            " [-0.17214221 -1.3084805  -0.64798087]\n",
            " [ 0.4426491   0.46883342  0.66498608]\n",
            " [-0.1843081  -0.70312533 -0.53220558]\n",
            " [-0.07415495  0.11957473 -0.83134379]]\n"
          ],
          "name": "stdout"
        }
      ]
    },
    {
      "cell_type": "markdown",
      "metadata": {
        "_uuid": "1d82db999b723fa737510352cf47d96a62b8d63b",
        "colab_type": "text",
        "id": "Nq9cmqeH4C-S"
      },
      "source": [
        "### Convert to torch tensor"
      ]
    },
    {
      "cell_type": "code",
      "metadata": {
        "_uuid": "1cbd6fd48cf54645f924d354fc9fb5856bf1ddc1",
        "colab_type": "code",
        "id": "yTcHR5qk4C-U",
        "outputId": "02c90319-3e07-4da7-87d9-290b4e19a5a8",
        "colab": {
          "base_uri": "https://localhost:8080/",
          "height": 119
        }
      },
      "source": [
        "torch_tensor=torch.from_numpy(np_array)\n",
        "print(f'Torch tensor:\\n {torch_tensor}')"
      ],
      "execution_count": 0,
      "outputs": [
        {
          "output_type": "stream",
          "text": [
            "Torch tensor:\n",
            " tensor([[ 0.2666, -0.2204, -1.0168],\n",
            "        [-0.1721, -1.3085, -0.6480],\n",
            "        [ 0.4426,  0.4688,  0.6650],\n",
            "        [-0.1843, -0.7031, -0.5322],\n",
            "        [-0.0742,  0.1196, -0.8313]], dtype=torch.float64)\n"
          ],
          "name": "stdout"
        }
      ]
    },
    {
      "cell_type": "markdown",
      "metadata": {
        "_uuid": "31fe8979751ba061cc81055bbc5079bed1cb0124",
        "colab_type": "text",
        "id": "13IACWyu4C-Y"
      },
      "source": [
        "### Convert back to numpy array"
      ]
    },
    {
      "cell_type": "code",
      "metadata": {
        "_uuid": "e72bac0d8c4870f97b1d1724c0bce3fd84b50450",
        "colab_type": "code",
        "id": "403oY_8S4C-Z",
        "outputId": "211d5065-3ec4-494f-a07b-1e1a007fcae6",
        "colab": {
          "base_uri": "https://localhost:8080/",
          "height": 102
        }
      },
      "source": [
        "torch_tensor.numpy()"
      ],
      "execution_count": 0,
      "outputs": [
        {
          "output_type": "execute_result",
          "data": {
            "text/plain": [
              "array([[ 0.26660052, -0.22044432, -1.01680903],\n",
              "       [-0.17214221, -1.3084805 , -0.64798087],\n",
              "       [ 0.4426491 ,  0.46883342,  0.66498608],\n",
              "       [-0.1843081 , -0.70312533, -0.53220558],\n",
              "       [-0.07415495,  0.11957473, -0.83134379]])"
            ]
          },
          "metadata": {
            "tags": []
          },
          "execution_count": 6
        }
      ]
    },
    {
      "cell_type": "markdown",
      "metadata": {
        "_uuid": "532f4e612d823389740276fdb2f1d0c9d69cb78d",
        "colab_type": "text",
        "id": "9JtXENQc4C-c"
      },
      "source": [
        "***An important thing to note here is memory is shared between the Numpy array and Torch tensor, so if you change the values in-place of one object, the other will change as well.*       \n",
        "Let see what does it mean**"
      ]
    },
    {
      "cell_type": "code",
      "metadata": {
        "_uuid": "7a08bc968bbb69b18d7d376748f7a5333f931efe",
        "colab_type": "code",
        "id": "OK9LEQa-4C-d",
        "outputId": "589e2c0d-cc35-447f-dfc6-816fb414f2a3",
        "colab": {
          "base_uri": "https://localhost:8080/",
          "height": 102
        }
      },
      "source": [
        "# Add 2 to PyTorch Tensor, in place\n",
        "torch_tensor.add_(2)"
      ],
      "execution_count": 0,
      "outputs": [
        {
          "output_type": "execute_result",
          "data": {
            "text/plain": [
              "tensor([[2.2666, 1.7796, 0.9832],\n",
              "        [1.8279, 0.6915, 1.3520],\n",
              "        [2.4426, 2.4688, 2.6650],\n",
              "        [1.8157, 1.2969, 1.4678],\n",
              "        [1.9258, 2.1196, 1.1687]], dtype=torch.float64)"
            ]
          },
          "metadata": {
            "tags": []
          },
          "execution_count": 7
        }
      ]
    },
    {
      "cell_type": "markdown",
      "metadata": {
        "_uuid": "15c233bd4f3539d1cf8c07878d01802607a6ab89",
        "colab_type": "text",
        "id": "a8gtGecL4C-h"
      },
      "source": [
        "###  Numpy array matches new values from Tensor"
      ]
    },
    {
      "cell_type": "code",
      "metadata": {
        "_uuid": "3d4047f95de1ca8055e276de3246da2c6a01ccee",
        "colab_type": "code",
        "id": "H9FKs6dC4C-j",
        "outputId": "1782201e-17e0-45ac-a47b-bf09841351aa",
        "colab": {
          "base_uri": "https://localhost:8080/",
          "height": 102
        }
      },
      "source": [
        "np_array"
      ],
      "execution_count": 0,
      "outputs": [
        {
          "output_type": "execute_result",
          "data": {
            "text/plain": [
              "array([[2.26660052, 1.77955568, 0.98319097],\n",
              "       [1.82785779, 0.6915195 , 1.35201913],\n",
              "       [2.4426491 , 2.46883342, 2.66498608],\n",
              "       [1.8156919 , 1.29687467, 1.46779442],\n",
              "       [1.92584505, 2.11957473, 1.16865621]])"
            ]
          },
          "metadata": {
            "tags": []
          },
          "execution_count": 8
        }
      ]
    },
    {
      "cell_type": "markdown",
      "metadata": {
        "_uuid": "b183396c1d82a600e1c3b1848e94e3ce5a6fbe28",
        "colab_type": "text",
        "id": "MlIiUgFz4C-o"
      },
      "source": [
        " ## Simple Neural Network using Pytorch \n",
        " Let us see how we can use PyTorch to build a simple neural network.\n",
        "![](images/simple_neuron.PNG)\n",
        "\n",
        "Mathematically this looks like: \n",
        "\n",
        "$$\n",
        "\\begin{align}\n",
        "y &= f(w_1 x_1 + w_2 x_2 + b) \\\\\n",
        "y &= f\\left(\\sum_i w_i x_i +b \\right)\n",
        "\\end{align}\n",
        "$$\n",
        "\n",
        "With vectors this is the dot/inner product of two vectors:\n",
        "\n",
        "$$\n",
        "h = \\begin{bmatrix}\n",
        "x_1 \\, x_2 \\cdots  x_n\n",
        "\\end{bmatrix}\n",
        "\\cdot \n",
        "\\begin{bmatrix}\n",
        "           w_1 \\\\\n",
        "           w_2 \\\\\n",
        "           \\vdots \\\\\n",
        "           w_n\n",
        "\\end{bmatrix}\n",
        "$$"
      ]
    },
    {
      "cell_type": "markdown",
      "metadata": {
        "_uuid": "496c485f3e7f43a27bdce042df78fa11eb296631",
        "colab_type": "text",
        "id": "-YeLMTFM4C-p"
      },
      "source": [
        "With the basics covered, it's time to explore how we can use PyTorch to build a simple neural network."
      ]
    },
    {
      "cell_type": "markdown",
      "metadata": {
        "_uuid": "93562b119ff2797b3660bb0968bc6c31e890b7e5",
        "colab_type": "text",
        "id": "08TbB9Sm4C-q"
      },
      "source": [
        "###  Generate some random data \n",
        " We will create a tensor with shape (1, 5), one row and five columns, that contains values randomly distributed according to the normal distribution with a mean of zero and standard deviation of one."
      ]
    },
    {
      "cell_type": "code",
      "metadata": {
        "_uuid": "fd1ee538877f19c8a2cfac8ea123ecbdb2f4a94d",
        "colab_type": "code",
        "id": "NWB4MQuu4C-r",
        "outputId": "26f278dc-50bb-4234-b036-cc54c0b4ca42",
        "colab": {
          "base_uri": "https://localhost:8080/",
          "height": 34
        }
      },
      "source": [
        "features=torch.randn(1,3)\n",
        "print(f'Number of Inout features:{features.shape[1]}')"
      ],
      "execution_count": 0,
      "outputs": [
        {
          "output_type": "stream",
          "text": [
            "Number of Inout features:3\n"
          ],
          "name": "stdout"
        }
      ]
    },
    {
      "cell_type": "markdown",
      "metadata": {
        "_uuid": "b0673d28508dd5eed49da6731c4cc1408f1efd5c",
        "colab_type": "text",
        "id": "oABNl_OM4C-x"
      },
      "source": [
        "### Initialize Weights and Biases "
      ]
    },
    {
      "cell_type": "markdown",
      "metadata": {
        "_uuid": "7f39730f8dbaff0834b223744d0bab6bfc516e2c",
        "colab_type": "text",
        "id": "rBChM5NH4C-y"
      },
      "source": [
        "Weights = torch.randn_like(features) creates another tensor with the same shape as features, again containing values from a normal distribution.\n",
        "\n",
        "Finally, bias = torch.randn((1, 1)) creates a single value from a normal distribution."
      ]
    },
    {
      "cell_type": "code",
      "metadata": {
        "_uuid": "3d2b5d527e0650f3d3c1942a5ee1da56bbbac7de",
        "colab_type": "code",
        "id": "i92IlQIC4C-z",
        "colab": {}
      },
      "source": [
        "n_input=features.shape[1]   #3 input neuron\n",
        "n_hidden=2     #two hidden neuron\n",
        "n_output=1     #one output neuron\n",
        "#Weights for input to hidden layer\n",
        "W1=torch.randn(n_input,n_hidden)\n",
        "W2=torch.randn(n_hidden,n_output)\n",
        "#Bias term for hidden and output layer\n",
        "B1=torch.randn(n_hidden)\n",
        "B2=torch.randn(n_output)"
      ],
      "execution_count": 0,
      "outputs": []
    },
    {
      "cell_type": "code",
      "metadata": {
        "_uuid": "cd62c805fb7363693b56ec9dbcd00a8c404adcba",
        "colab_type": "code",
        "id": "hjlSRWiu4C-3",
        "colab": {}
      },
      "source": [
        "#Using a Sigmoid Activation Function\n",
        "def activation(x):\n",
        "    return(1/1+torch.exp(-x))"
      ],
      "execution_count": 0,
      "outputs": []
    },
    {
      "cell_type": "markdown",
      "metadata": {
        "_uuid": "fbfeec62cfa4a35cb829897b71a4450b70ec8392",
        "colab_type": "text",
        "id": "DrWzkrnk4C-7"
      },
      "source": [
        "### Calculate Weight and Biases\n",
        "We will calculate the output for this multi-layer network using the weights `W1` & `W2`, and the biases, `B1` & `B2`."
      ]
    },
    {
      "cell_type": "code",
      "metadata": {
        "_uuid": "bd98acc8aa8bb1d2fe06cb77ffd4a5054c07a40b",
        "colab_type": "code",
        "id": "zC2QQjr24C-8",
        "outputId": "a0442f80-59e9-4eb2-bc96-9df1f949d29f",
        "colab": {
          "base_uri": "https://localhost:8080/"
        }
      },
      "source": [
        "h1=activation(torch.matmul(features,W1)+B1)\n",
        "print(f'Hidden Layer activations:{h1}')\n",
        "out=activation(torch.matmul(h1,W2)+B2)\n",
        "print(f'Output of the network:{out}')"
      ],
      "execution_count": 0,
      "outputs": [
        {
          "output_type": "stream",
          "text": [
            "Hidden Layer activations:tensor([[2.9791, 1.2008]])\n",
            "Output of the network:tensor([[1.1576]])\n"
          ],
          "name": "stdout"
        }
      ]
    },
    {
      "cell_type": "markdown",
      "metadata": {
        "_uuid": "21b8946d94159fc86b191a82bbbb4e34d2289f53",
        "colab_type": "text",
        "id": "xe4vu51K4C_I"
      },
      "source": [
        "## Building our Network\n",
        "Now we're going to build a larger network that can solve a (formerly) difficult problem, identifying text in an image using MNIST data\n",
        "For now our goal will be to build a neural network that can take one of these images and predict the digit in the image.First, let's try to build this network for this dataset using weight matrices and matrix multiplications. Then, we'll see how to do it using PyTorch's `nn` module which provides a much more convenient and powerful method for defining network architectures."
      ]
    },
    {
      "cell_type": "markdown",
      "metadata": {
        "_uuid": "c4c2229e3f3534db73e8d22ba73485022765f3af",
        "colab_type": "text",
        "id": "rsLM8Yc14C_J"
      },
      "source": [
        "![](images/mnist.png)"
      ]
    },
    {
      "cell_type": "code",
      "metadata": {
        "_uuid": "d2974386321060bd66905127f3a48b9f1b177310",
        "colab_type": "code",
        "id": "uoGmSr6P4C_K",
        "colab": {}
      },
      "source": [
        "# Import necessary packages\n",
        "\n",
        "%matplotlib inline\n",
        "%config InlineBackend.figure_format = 'retina'\n",
        "\n",
        "import numpy as np\n",
        "import torch\n",
        "import helper\n",
        "import matplotlib.pyplot as plt"
      ],
      "execution_count": 0,
      "outputs": []
    },
    {
      "cell_type": "markdown",
      "metadata": {
        "_uuid": "237092ef839e8201ecc710f53ed7154e0f865b2e",
        "colab_type": "text",
        "id": "jMGNnSoA4C_O"
      },
      "source": [
        "### Load Dataset \n",
        "First up, we need to get our dataset.Right now we will be using MNIST dataset which is already in`torchvision` package. The code below will download the MNIST dataset, then create training and test datasets for us. "
      ]
    },
    {
      "cell_type": "code",
      "metadata": {
        "ExecuteTime": {
          "end_time": "2019-02-04T11:27:05.872957Z",
          "start_time": "2019-02-04T11:26:45.305539Z"
        },
        "_uuid": "45cde9b49e2c0e1802ff640ebab0d766233e6abe",
        "colab_type": "code",
        "id": "Gt1AQ86c4C_P",
        "outputId": "7888366f-0185-4996-aeee-22b5d80608b3",
        "colab": {
          "base_uri": "https://localhost:8080/",
          "height": 275
        }
      },
      "source": [
        "from torchvision import datasets, transforms\n",
        "\n",
        "# Define a transform to normalize the data\n",
        "transform = transforms.Compose([transforms.ToTensor(),\n",
        "                              ])\n",
        "\n",
        "# Download and load the training data\n",
        "trainset = datasets.MNIST('MNIST_data/', download=True, train=True, transform=transform)\n",
        "trainloader = torch.utils.data.DataLoader(trainset, batch_size=64, shuffle=True)"
      ],
      "execution_count": 0,
      "outputs": [
        {
          "output_type": "stream",
          "text": [
            "  0%|          | 16384/9912422 [00:00<01:29, 111191.17it/s]"
          ],
          "name": "stderr"
        },
        {
          "output_type": "stream",
          "text": [
            "Downloading http://yann.lecun.com/exdb/mnist/train-images-idx3-ubyte.gz to MNIST_data/MNIST/raw/train-images-idx3-ubyte.gz\n"
          ],
          "name": "stdout"
        },
        {
          "output_type": "stream",
          "text": [
            "9920512it [00:00, 28002406.01it/s]                           \n"
          ],
          "name": "stderr"
        },
        {
          "output_type": "stream",
          "text": [
            "Extracting MNIST_data/MNIST/raw/train-images-idx3-ubyte.gz\n"
          ],
          "name": "stdout"
        },
        {
          "output_type": "stream",
          "text": [
            "32768it [00:00, 451892.23it/s]\n",
            "  1%|          | 16384/1648877 [00:00<00:11, 144448.76it/s]"
          ],
          "name": "stderr"
        },
        {
          "output_type": "stream",
          "text": [
            "Downloading http://yann.lecun.com/exdb/mnist/train-labels-idx1-ubyte.gz to MNIST_data/MNIST/raw/train-labels-idx1-ubyte.gz\n",
            "Extracting MNIST_data/MNIST/raw/train-labels-idx1-ubyte.gz\n",
            "Downloading http://yann.lecun.com/exdb/mnist/t10k-images-idx3-ubyte.gz to MNIST_data/MNIST/raw/t10k-images-idx3-ubyte.gz\n"
          ],
          "name": "stdout"
        },
        {
          "output_type": "stream",
          "text": [
            "1654784it [00:00, 7125151.57it/s]                           \n",
            "8192it [00:00, 179623.07it/s]\n"
          ],
          "name": "stderr"
        },
        {
          "output_type": "stream",
          "text": [
            "Extracting MNIST_data/MNIST/raw/t10k-images-idx3-ubyte.gz\n",
            "Downloading http://yann.lecun.com/exdb/mnist/t10k-labels-idx1-ubyte.gz to MNIST_data/MNIST/raw/t10k-labels-idx1-ubyte.gz\n",
            "Extracting MNIST_data/MNIST/raw/t10k-labels-idx1-ubyte.gz\n",
            "Processing...\n",
            "Done!\n"
          ],
          "name": "stdout"
        }
      ]
    },
    {
      "cell_type": "markdown",
      "metadata": {
        "colab_type": "text",
        "id": "jExiHh8b4C_T"
      },
      "source": [
        "#### what is dataset ?\n",
        "Dataset contains two data methods `__getitem__` and `__len__` so using these methods. we can directly call a single data with index"
      ]
    },
    {
      "cell_type": "code",
      "metadata": {
        "ExecuteTime": {
          "end_time": "2019-02-04T11:31:37.364338Z",
          "start_time": "2019-02-04T11:31:37.283418Z"
        },
        "colab_type": "code",
        "id": "_vzZQG7M4C_U",
        "outputId": "33596699-7b86-4ae5-f875-de89a5703d1a",
        "colab": {
          "base_uri": "https://localhost:8080/",
          "height": 1000
        }
      },
      "source": [
        "# like this way\n",
        "trainset[0]"
      ],
      "execution_count": 0,
      "outputs": [
        {
          "output_type": "execute_result",
          "data": {
            "text/plain": [
              "(tensor([[[0.0000, 0.0000, 0.0000, 0.0000, 0.0000, 0.0000, 0.0000, 0.0000,\n",
              "           0.0000, 0.0000, 0.0000, 0.0000, 0.0000, 0.0000, 0.0000, 0.0000,\n",
              "           0.0000, 0.0000, 0.0000, 0.0000, 0.0000, 0.0000, 0.0000, 0.0000,\n",
              "           0.0000, 0.0000, 0.0000, 0.0000],\n",
              "          [0.0000, 0.0000, 0.0000, 0.0000, 0.0000, 0.0000, 0.0000, 0.0000,\n",
              "           0.0000, 0.0000, 0.0000, 0.0000, 0.0000, 0.0000, 0.0000, 0.0000,\n",
              "           0.0000, 0.0000, 0.0000, 0.0000, 0.0000, 0.0000, 0.0000, 0.0000,\n",
              "           0.0000, 0.0000, 0.0000, 0.0000],\n",
              "          [0.0000, 0.0000, 0.0000, 0.0000, 0.0000, 0.0000, 0.0000, 0.0000,\n",
              "           0.0000, 0.0000, 0.0000, 0.0000, 0.0000, 0.0000, 0.0000, 0.0000,\n",
              "           0.0000, 0.0000, 0.0000, 0.0000, 0.0000, 0.0000, 0.0000, 0.0000,\n",
              "           0.0000, 0.0000, 0.0000, 0.0000],\n",
              "          [0.0000, 0.0000, 0.0000, 0.0000, 0.0000, 0.0000, 0.0000, 0.0000,\n",
              "           0.0000, 0.0000, 0.0000, 0.0000, 0.0000, 0.0000, 0.0000, 0.0000,\n",
              "           0.0000, 0.0000, 0.0000, 0.0000, 0.0000, 0.0000, 0.0000, 0.0000,\n",
              "           0.0000, 0.0000, 0.0000, 0.0000],\n",
              "          [0.0000, 0.0000, 0.0000, 0.0000, 0.0000, 0.0000, 0.0000, 0.0000,\n",
              "           0.0000, 0.0000, 0.0000, 0.0000, 0.0000, 0.0000, 0.0000, 0.0000,\n",
              "           0.0000, 0.0000, 0.0000, 0.0000, 0.0000, 0.0000, 0.0000, 0.0000,\n",
              "           0.0000, 0.0000, 0.0000, 0.0000],\n",
              "          [0.0000, 0.0000, 0.0000, 0.0000, 0.0000, 0.0000, 0.0000, 0.0000,\n",
              "           0.0000, 0.0000, 0.0000, 0.0000, 0.0118, 0.0706, 0.0706, 0.0706,\n",
              "           0.4941, 0.5333, 0.6863, 0.1020, 0.6510, 1.0000, 0.9686, 0.4980,\n",
              "           0.0000, 0.0000, 0.0000, 0.0000],\n",
              "          [0.0000, 0.0000, 0.0000, 0.0000, 0.0000, 0.0000, 0.0000, 0.0000,\n",
              "           0.1176, 0.1412, 0.3686, 0.6039, 0.6667, 0.9922, 0.9922, 0.9922,\n",
              "           0.9922, 0.9922, 0.8824, 0.6745, 0.9922, 0.9490, 0.7647, 0.2510,\n",
              "           0.0000, 0.0000, 0.0000, 0.0000],\n",
              "          [0.0000, 0.0000, 0.0000, 0.0000, 0.0000, 0.0000, 0.0000, 0.1922,\n",
              "           0.9333, 0.9922, 0.9922, 0.9922, 0.9922, 0.9922, 0.9922, 0.9922,\n",
              "           0.9922, 0.9843, 0.3647, 0.3216, 0.3216, 0.2196, 0.1529, 0.0000,\n",
              "           0.0000, 0.0000, 0.0000, 0.0000],\n",
              "          [0.0000, 0.0000, 0.0000, 0.0000, 0.0000, 0.0000, 0.0000, 0.0706,\n",
              "           0.8588, 0.9922, 0.9922, 0.9922, 0.9922, 0.9922, 0.7765, 0.7137,\n",
              "           0.9686, 0.9451, 0.0000, 0.0000, 0.0000, 0.0000, 0.0000, 0.0000,\n",
              "           0.0000, 0.0000, 0.0000, 0.0000],\n",
              "          [0.0000, 0.0000, 0.0000, 0.0000, 0.0000, 0.0000, 0.0000, 0.0000,\n",
              "           0.3137, 0.6118, 0.4196, 0.9922, 0.9922, 0.8039, 0.0431, 0.0000,\n",
              "           0.1686, 0.6039, 0.0000, 0.0000, 0.0000, 0.0000, 0.0000, 0.0000,\n",
              "           0.0000, 0.0000, 0.0000, 0.0000],\n",
              "          [0.0000, 0.0000, 0.0000, 0.0000, 0.0000, 0.0000, 0.0000, 0.0000,\n",
              "           0.0000, 0.0549, 0.0039, 0.6039, 0.9922, 0.3529, 0.0000, 0.0000,\n",
              "           0.0000, 0.0000, 0.0000, 0.0000, 0.0000, 0.0000, 0.0000, 0.0000,\n",
              "           0.0000, 0.0000, 0.0000, 0.0000],\n",
              "          [0.0000, 0.0000, 0.0000, 0.0000, 0.0000, 0.0000, 0.0000, 0.0000,\n",
              "           0.0000, 0.0000, 0.0000, 0.5451, 0.9922, 0.7451, 0.0078, 0.0000,\n",
              "           0.0000, 0.0000, 0.0000, 0.0000, 0.0000, 0.0000, 0.0000, 0.0000,\n",
              "           0.0000, 0.0000, 0.0000, 0.0000],\n",
              "          [0.0000, 0.0000, 0.0000, 0.0000, 0.0000, 0.0000, 0.0000, 0.0000,\n",
              "           0.0000, 0.0000, 0.0000, 0.0431, 0.7451, 0.9922, 0.2745, 0.0000,\n",
              "           0.0000, 0.0000, 0.0000, 0.0000, 0.0000, 0.0000, 0.0000, 0.0000,\n",
              "           0.0000, 0.0000, 0.0000, 0.0000],\n",
              "          [0.0000, 0.0000, 0.0000, 0.0000, 0.0000, 0.0000, 0.0000, 0.0000,\n",
              "           0.0000, 0.0000, 0.0000, 0.0000, 0.1373, 0.9451, 0.8824, 0.6275,\n",
              "           0.4235, 0.0039, 0.0000, 0.0000, 0.0000, 0.0000, 0.0000, 0.0000,\n",
              "           0.0000, 0.0000, 0.0000, 0.0000],\n",
              "          [0.0000, 0.0000, 0.0000, 0.0000, 0.0000, 0.0000, 0.0000, 0.0000,\n",
              "           0.0000, 0.0000, 0.0000, 0.0000, 0.0000, 0.3176, 0.9412, 0.9922,\n",
              "           0.9922, 0.4667, 0.0980, 0.0000, 0.0000, 0.0000, 0.0000, 0.0000,\n",
              "           0.0000, 0.0000, 0.0000, 0.0000],\n",
              "          [0.0000, 0.0000, 0.0000, 0.0000, 0.0000, 0.0000, 0.0000, 0.0000,\n",
              "           0.0000, 0.0000, 0.0000, 0.0000, 0.0000, 0.0000, 0.1765, 0.7294,\n",
              "           0.9922, 0.9922, 0.5882, 0.1059, 0.0000, 0.0000, 0.0000, 0.0000,\n",
              "           0.0000, 0.0000, 0.0000, 0.0000],\n",
              "          [0.0000, 0.0000, 0.0000, 0.0000, 0.0000, 0.0000, 0.0000, 0.0000,\n",
              "           0.0000, 0.0000, 0.0000, 0.0000, 0.0000, 0.0000, 0.0000, 0.0627,\n",
              "           0.3647, 0.9882, 0.9922, 0.7333, 0.0000, 0.0000, 0.0000, 0.0000,\n",
              "           0.0000, 0.0000, 0.0000, 0.0000],\n",
              "          [0.0000, 0.0000, 0.0000, 0.0000, 0.0000, 0.0000, 0.0000, 0.0000,\n",
              "           0.0000, 0.0000, 0.0000, 0.0000, 0.0000, 0.0000, 0.0000, 0.0000,\n",
              "           0.0000, 0.9765, 0.9922, 0.9765, 0.2510, 0.0000, 0.0000, 0.0000,\n",
              "           0.0000, 0.0000, 0.0000, 0.0000],\n",
              "          [0.0000, 0.0000, 0.0000, 0.0000, 0.0000, 0.0000, 0.0000, 0.0000,\n",
              "           0.0000, 0.0000, 0.0000, 0.0000, 0.0000, 0.0000, 0.1804, 0.5098,\n",
              "           0.7176, 0.9922, 0.9922, 0.8118, 0.0078, 0.0000, 0.0000, 0.0000,\n",
              "           0.0000, 0.0000, 0.0000, 0.0000],\n",
              "          [0.0000, 0.0000, 0.0000, 0.0000, 0.0000, 0.0000, 0.0000, 0.0000,\n",
              "           0.0000, 0.0000, 0.0000, 0.0000, 0.1529, 0.5804, 0.8980, 0.9922,\n",
              "           0.9922, 0.9922, 0.9804, 0.7137, 0.0000, 0.0000, 0.0000, 0.0000,\n",
              "           0.0000, 0.0000, 0.0000, 0.0000],\n",
              "          [0.0000, 0.0000, 0.0000, 0.0000, 0.0000, 0.0000, 0.0000, 0.0000,\n",
              "           0.0000, 0.0000, 0.0941, 0.4471, 0.8667, 0.9922, 0.9922, 0.9922,\n",
              "           0.9922, 0.7882, 0.3059, 0.0000, 0.0000, 0.0000, 0.0000, 0.0000,\n",
              "           0.0000, 0.0000, 0.0000, 0.0000],\n",
              "          [0.0000, 0.0000, 0.0000, 0.0000, 0.0000, 0.0000, 0.0000, 0.0000,\n",
              "           0.0902, 0.2588, 0.8353, 0.9922, 0.9922, 0.9922, 0.9922, 0.7765,\n",
              "           0.3176, 0.0078, 0.0000, 0.0000, 0.0000, 0.0000, 0.0000, 0.0000,\n",
              "           0.0000, 0.0000, 0.0000, 0.0000],\n",
              "          [0.0000, 0.0000, 0.0000, 0.0000, 0.0000, 0.0000, 0.0706, 0.6706,\n",
              "           0.8588, 0.9922, 0.9922, 0.9922, 0.9922, 0.7647, 0.3137, 0.0353,\n",
              "           0.0000, 0.0000, 0.0000, 0.0000, 0.0000, 0.0000, 0.0000, 0.0000,\n",
              "           0.0000, 0.0000, 0.0000, 0.0000],\n",
              "          [0.0000, 0.0000, 0.0000, 0.0000, 0.2157, 0.6745, 0.8863, 0.9922,\n",
              "           0.9922, 0.9922, 0.9922, 0.9569, 0.5216, 0.0431, 0.0000, 0.0000,\n",
              "           0.0000, 0.0000, 0.0000, 0.0000, 0.0000, 0.0000, 0.0000, 0.0000,\n",
              "           0.0000, 0.0000, 0.0000, 0.0000],\n",
              "          [0.0000, 0.0000, 0.0000, 0.0000, 0.5333, 0.9922, 0.9922, 0.9922,\n",
              "           0.8314, 0.5294, 0.5176, 0.0627, 0.0000, 0.0000, 0.0000, 0.0000,\n",
              "           0.0000, 0.0000, 0.0000, 0.0000, 0.0000, 0.0000, 0.0000, 0.0000,\n",
              "           0.0000, 0.0000, 0.0000, 0.0000],\n",
              "          [0.0000, 0.0000, 0.0000, 0.0000, 0.0000, 0.0000, 0.0000, 0.0000,\n",
              "           0.0000, 0.0000, 0.0000, 0.0000, 0.0000, 0.0000, 0.0000, 0.0000,\n",
              "           0.0000, 0.0000, 0.0000, 0.0000, 0.0000, 0.0000, 0.0000, 0.0000,\n",
              "           0.0000, 0.0000, 0.0000, 0.0000],\n",
              "          [0.0000, 0.0000, 0.0000, 0.0000, 0.0000, 0.0000, 0.0000, 0.0000,\n",
              "           0.0000, 0.0000, 0.0000, 0.0000, 0.0000, 0.0000, 0.0000, 0.0000,\n",
              "           0.0000, 0.0000, 0.0000, 0.0000, 0.0000, 0.0000, 0.0000, 0.0000,\n",
              "           0.0000, 0.0000, 0.0000, 0.0000],\n",
              "          [0.0000, 0.0000, 0.0000, 0.0000, 0.0000, 0.0000, 0.0000, 0.0000,\n",
              "           0.0000, 0.0000, 0.0000, 0.0000, 0.0000, 0.0000, 0.0000, 0.0000,\n",
              "           0.0000, 0.0000, 0.0000, 0.0000, 0.0000, 0.0000, 0.0000, 0.0000,\n",
              "           0.0000, 0.0000, 0.0000, 0.0000]]]), 5)"
            ]
          },
          "metadata": {
            "tags": []
          },
          "execution_count": 15
        }
      ]
    },
    {
      "cell_type": "markdown",
      "metadata": {
        "colab_type": "text",
        "id": "Fx2u1ci_4C_X"
      },
      "source": [
        "#### what is dataloader?\n",
        "\n",
        "It simply uses the generator to provide data giving single- or multi-process iterators over the dataset."
      ]
    },
    {
      "cell_type": "markdown",
      "metadata": {
        "_uuid": "00ab24a0af33038559ec91ea83458558e4d574bf",
        "colab_type": "text",
        "id": "YKA5zpwB4C_X"
      },
      "source": [
        "We have the training data loaded into trainloader \n",
        "\n",
        "With dataloaded we make  an iterator with iter(trainloader). Later, we'll use this to loop through the dataset for training, like below:"
      ]
    },
    {
      "cell_type": "code",
      "metadata": {
        "ExecuteTime": {
          "end_time": "2019-02-04T11:38:04.781132Z",
          "start_time": "2019-02-04T11:38:04.633040Z"
        },
        "_uuid": "9808e8dab8f56248ae40759f20b1e59dad3ede7b",
        "colab_type": "code",
        "id": "kjMIXE_t4C_Y",
        "outputId": "e7c6550d-a4e7-4a7b-a299-e28c53edba65",
        "colab": {
          "base_uri": "https://localhost:8080/",
          "height": 85
        }
      },
      "source": [
        "dataiter = iter(trainloader)\n",
        "images, labels = dataiter.next()\n",
        "print(type(images))\n",
        "print(images.shape)\n",
        "print(labels.shape)\n",
        "#Printing the size of one image\n",
        "print(images[1].numpy().squeeze().shape)"
      ],
      "execution_count": 0,
      "outputs": [
        {
          "output_type": "stream",
          "text": [
            "<class 'torch.Tensor'>\n",
            "torch.Size([64, 1, 28, 28])\n",
            "torch.Size([64])\n",
            "(28, 28)\n"
          ],
          "name": "stdout"
        }
      ]
    },
    {
      "cell_type": "code",
      "metadata": {
        "_uuid": "f544046855f3efd0eb1d88fb11f0e4e27318d5eb",
        "colab_type": "code",
        "id": "FIto5Wet4C_b",
        "outputId": "7cdd1e49-633c-4fde-8dc6-c52849710b28",
        "colab": {
          "base_uri": "https://localhost:8080/",
          "height": 267
        }
      },
      "source": [
        "#Look at the image\n",
        "plt.imshow(images[1].numpy().squeeze(), cmap='Greys_r');"
      ],
      "execution_count": 0,
      "outputs": [
        {
          "output_type": "display_data",
          "data": {
            "image/png": "[encoded data removed]",
            "text/plain": [
              "<Figure size 432x288 with 1 Axes>"
            ]
          },
          "metadata": {
            "tags": [],
            "image/png": {
              "width": 253,
              "height": 250
            }
          }
        }
      ]
    },
    {
      "cell_type": "code",
      "metadata": {
        "ExecuteTime": {
          "end_time": "2019-02-04T11:38:08.273406Z",
          "start_time": "2019-02-04T11:38:08.264208Z"
        },
        "_uuid": "b11c0c543d20cfb96cbb0635eea5f93e37c58cb0",
        "colab_type": "code",
        "id": "UDqvWprf4C_d",
        "colab": {}
      },
      "source": [
        "#Sigmoid Activation Function\n",
        "def activation(x):\n",
        "    return (1/(1+torch.exp(-x)))\n",
        "\n",
        "#Input 64x784\n",
        "inputs=images.view(images.shape[0],-1)\n",
        "#Number of input features-784\n",
        "n_input=inputs.shape[1]\n",
        "#Number of neurons in hidden layer-256\n",
        "n_hidden=256\n",
        "#Number of output neuron-10\n",
        "n_out=10\n",
        "#Weight at hidden neuron-784x256\n",
        "W1=torch.randn(n_input,n_hidden)\n",
        "#Bias at hidden neuron-256\n",
        "B1=torch.randn(n_hidden)\n",
        "#Weight at output neuron-256x10\n",
        "W2=torch.randn(n_hidden,n_out)\n",
        "#Bias at output neuron-10\n",
        "B2=torch.randn(n_out)\n"
      ],
      "execution_count": 0,
      "outputs": []
    },
    {
      "cell_type": "code",
      "metadata": {
        "ExecuteTime": {
          "end_time": "2019-02-04T11:38:13.520858Z",
          "start_time": "2019-02-04T11:38:13.510149Z"
        },
        "_uuid": "e494abcbcf8bf4e1210b1acdc0790ca77f826e21",
        "colab_type": "code",
        "id": "q0RLuvzt4C_h",
        "outputId": "fe7045ff-5eb4-4932-90ae-59494a4d6a71",
        "colab": {
          "base_uri": "https://localhost:8080/",
          "height": 136
        }
      },
      "source": [
        "print(\"Shape of a batch of an image:\",images.shape)\n",
        "print(\"Shape of the input to the network:\",inputs.shape)\n",
        "print(\"Shape of the input features:\",n_input)\n",
        "print(\"Shape of the Weight matrix of neurons in the hidden layer\",W1.shape)\n",
        "print(\"Shape of the Bias vector of neurons in the hidden layer\",B1.shape)\n",
        "print(\"Shape of the Weight matrix of neurons in the output layer\",W2.shape)\n",
        "print(\"Shape of the Bias vector of neurons in the output layer\",W2.shape)\n"
      ],
      "execution_count": 0,
      "outputs": [
        {
          "output_type": "stream",
          "text": [
            "Shape of a batch of an image: torch.Size([64, 1, 28, 28])\n",
            "Shape of the input to the network: torch.Size([64, 784])\n",
            "Shape of the input features: 784\n",
            "Shape of the Weight matrix of neurons in the hidden layer torch.Size([784, 256])\n",
            "Shape of the Bias vector of neurons in the hidden layer torch.Size([256])\n",
            "Shape of the Weight matrix of neurons in the output layer torch.Size([256, 10])\n",
            "Shape of the Bias vector of neurons in the output layer torch.Size([256, 10])\n"
          ],
          "name": "stdout"
        }
      ]
    },
    {
      "cell_type": "code",
      "metadata": {
        "ExecuteTime": {
          "end_time": "2019-02-04T11:38:23.336380Z",
          "start_time": "2019-02-04T11:38:22.958331Z"
        },
        "_uuid": "e751026ecf95253bf33db0462ce8bc250c082bb7",
        "colab_type": "code",
        "id": "lFz3MRF04C_l",
        "colab": {}
      },
      "source": [
        "#Hidden layer activations\n",
        "h1=activation(torch.mm(inputs,W1)+B1)\n",
        "#Output layer activations\n",
        "out=activation(torch.mm(h1,W2)+B2)"
      ],
      "execution_count": 0,
      "outputs": []
    },
    {
      "cell_type": "code",
      "metadata": {
        "ExecuteTime": {
          "end_time": "2019-02-04T11:38:26.658141Z",
          "start_time": "2019-02-04T11:38:26.649686Z"
        },
        "_uuid": "2cb2a0f4a6d9852da5d4811e89734c8906bbb878",
        "colab_type": "code",
        "id": "jkUmaAhH4C_o",
        "outputId": "d933c39a-2ac8-4127-a528-4a3306615044",
        "colab": {
          "base_uri": "https://localhost:8080/",
          "height": 51
        }
      },
      "source": [
        "print(f'Shape of the Hidden activation of the network{h1.shape}')\n",
        "print(f'Shape of the Output of the network{out.shape}')"
      ],
      "execution_count": 0,
      "outputs": [
        {
          "output_type": "stream",
          "text": [
            "Shape of the Hidden activation of the networktorch.Size([64, 256])\n",
            "Shape of the Output of the networktorch.Size([64, 10])\n"
          ],
          "name": "stdout"
        }
      ]
    },
    {
      "cell_type": "code",
      "metadata": {
        "ExecuteTime": {
          "end_time": "2019-02-04T11:38:38.560819Z",
          "start_time": "2019-02-04T11:38:38.553507Z"
        },
        "_uuid": "66671445031ee39d4142f84c832b2ab097f6d14a",
        "colab_type": "code",
        "id": "VPibe5io4C_r",
        "outputId": "7af263e6-14ea-4db3-891c-fec17cf6d602",
        "colab": {
          "base_uri": "https://localhost:8080/",
          "height": 51
        }
      },
      "source": [
        "#Let us see the network output to one of the feeded input image\n",
        "out[1]"
      ],
      "execution_count": 0,
      "outputs": [
        {
          "output_type": "execute_result",
          "data": {
            "text/plain": [
              "tensor([9.9998e-01, 6.2429e-05, 9.9995e-01, 1.0000e+00, 5.7602e-04, 6.3908e-02,\n",
              "        1.8892e-01, 1.0000e+00, 1.0000e+00, 9.9999e-01])"
            ]
          },
          "metadata": {
            "tags": []
          },
          "execution_count": 22
        }
      ]
    },
    {
      "cell_type": "markdown",
      "metadata": {
        "_uuid": "8c7ab4cad2d8a2d619e0b376780e0d5b2dfa7be3",
        "colab_type": "text",
        "id": "XPPcsO9m4C_u"
      },
      "source": [
        "Now we have 10 outputs for our network. This raw output is usually called **logits or scores**.\n",
        "<br>\n",
        "However,We want to pass in an image to our network and get out a probability distribution over the classes that tells us the likely class(es) the image belongs to."
      ]
    },
    {
      "cell_type": "markdown",
      "metadata": {
        "_uuid": "1903f5520e57c8ca69b4252ed7a7c4d5e5beb51a",
        "colab_type": "text",
        "id": "DjJ4RkZZ4C_u"
      },
      "source": [
        "\n",
        "### Probability Distribution using Softmax\n",
        "To calculate this probability distribution, we often use the [softmax function](https://en.wikipedia.org/wiki/Softmax_function)\n",
        "$$\n",
        "\\Large \\sigma(x_i) = \\cfrac{e^{x_i}}{\\sum_k^K{e^{x_k}}}\n",
        "$$\n",
        "What this does is squish each input $x_i$ between 0 and 1 and normalizes the values to give you a proper probability distribution where the probabilites sum up to one."
      ]
    },
    {
      "cell_type": "code",
      "metadata": {
        "ExecuteTime": {
          "end_time": "2019-02-04T11:40:41.701155Z",
          "start_time": "2019-02-04T11:40:41.697492Z"
        },
        "_uuid": "f4d7ba5cc02acf1610fa113490099e51e84978aa",
        "colab_type": "code",
        "id": "S188ENAT4C_v",
        "colab": {}
      },
      "source": [
        "def softmax(x):\n",
        "    return(torch.exp(x)/torch.sum(torch.exp(x),dim=1).view(-1,1))"
      ],
      "execution_count": 0,
      "outputs": []
    },
    {
      "cell_type": "markdown",
      "metadata": {
        "_uuid": "bdf3ab4229b26432555148c0d1b67f6e857055e6",
        "colab_type": "text",
        "id": "3a7zi3F-4C_x"
      },
      "source": [
        "Let us understand what we are doing above by an example\n",
        "<br>\n",
        "Step 1:Calculating the numerator of the softmax function"
      ]
    },
    {
      "cell_type": "code",
      "metadata": {
        "ExecuteTime": {
          "end_time": "2019-02-04T11:40:42.976206Z",
          "start_time": "2019-02-04T11:40:42.970484Z"
        },
        "_uuid": "d06ddfc05e73456929293906a0ee9672cf2f45a6",
        "colab_type": "code",
        "id": "eStL6dvV4C_y",
        "outputId": "e7377417-7d80-41e4-d313-ec5a7747d512",
        "colab": {
          "base_uri": "https://localhost:8080/"
        }
      },
      "source": [
        "torch.exp(out[1:3])"
      ],
      "execution_count": 0,
      "outputs": [
        {
          "output_type": "execute_result",
          "data": {
            "text/plain": [
              "tensor([[2.5132, 1.0000, 2.7183, 2.7177, 2.1420, 1.0013, 2.7183, 1.0000, 1.0007,\n",
              "         2.7183],\n",
              "        [2.7082, 1.0000, 2.7157, 2.7183, 1.0645, 1.0001, 2.7183, 1.0054, 1.0000,\n",
              "         2.7181]])"
            ]
          },
          "metadata": {
            "tags": []
          },
          "execution_count": 25
        }
      ]
    },
    {
      "cell_type": "markdown",
      "metadata": {
        "_uuid": "0fd149046af107a72d73208528b3a5cf1a6eb13e",
        "colab_type": "text",
        "id": "01A27TNB4C_1"
      },
      "source": [
        "Step 2:For every predicted image output, calculate the sum over the predicted values over all classes"
      ]
    },
    {
      "cell_type": "code",
      "metadata": {
        "ExecuteTime": {
          "end_time": "2019-02-04T11:40:45.248689Z",
          "start_time": "2019-02-04T11:40:45.236760Z"
        },
        "_uuid": "2277f07ce4566f91bf8ad70e3969f2c4790e676d",
        "colab_type": "code",
        "id": "52l7XpZ64C_2",
        "outputId": "4f3d8491-2261-413b-bf61-3eccfcac40ee",
        "colab": {
          "base_uri": "https://localhost:8080/"
        }
      },
      "source": [
        "#print(torch.sum(torch.exp(out[1:3])))\n",
        "#Dim=1 says, we want to take the sum across all columns\n",
        "torch.sum(torch.exp(out[1:3]),dim=1)"
      ],
      "execution_count": 0,
      "outputs": [
        {
          "output_type": "execute_result",
          "data": {
            "text/plain": [
              "tensor([19.5298, 18.6485])"
            ]
          },
          "metadata": {
            "tags": []
          },
          "execution_count": 26
        }
      ]
    },
    {
      "cell_type": "markdown",
      "metadata": {
        "_uuid": "e247c285cf5dfdd02702bc79ddc8e49383bc17c1",
        "colab_type": "text",
        "id": "SRB2MTph4C_6"
      },
      "source": [
        "Step3:Rearrange the sums in an order for broadcasting to work"
      ]
    },
    {
      "cell_type": "code",
      "metadata": {
        "ExecuteTime": {
          "end_time": "2019-02-04T11:40:47.116271Z",
          "start_time": "2019-02-04T11:40:47.106860Z"
        },
        "_uuid": "8c226fe7a4a2e9f31f63ddca18ed71959d9a139d",
        "colab_type": "code",
        "id": "CGMlnjDl4C_6",
        "outputId": "e80a3d3c-980b-4527-98f6-19125a487c92",
        "colab": {
          "base_uri": "https://localhost:8080/"
        }
      },
      "source": [
        "torch.sum(torch.exp(out[1:3]),dim=1).view(-1,1)"
      ],
      "execution_count": 0,
      "outputs": [
        {
          "output_type": "execute_result",
          "data": {
            "text/plain": [
              "tensor([[19.5298],\n",
              "        [18.6485]])"
            ]
          },
          "metadata": {
            "tags": []
          },
          "execution_count": 27
        }
      ]
    },
    {
      "cell_type": "markdown",
      "metadata": {
        "_uuid": "ecbcd104b966f3ae051d09048e7d708f992f1a41",
        "colab_type": "text",
        "id": "rM6w5dmi4C_9"
      },
      "source": [
        "Step 3:For every predicted image output, divide the predictions of each class with the sum over all classes."
      ]
    },
    {
      "cell_type": "code",
      "metadata": {
        "ExecuteTime": {
          "end_time": "2019-02-04T11:41:41.871814Z",
          "start_time": "2019-02-04T11:41:41.808608Z"
        },
        "_uuid": "fce3f0e89d812e35f44a46ee5eab0fc85bf05406",
        "colab_type": "code",
        "id": "aDOCWoIb4C__",
        "outputId": "c1f2c861-e946-480d-aeb7-59611908f1a5",
        "colab": {
          "base_uri": "https://localhost:8080/"
        }
      },
      "source": [
        "#print(torch.exp(out[1:3])/torch.sum(torch.exp(out[1:3]),dim=1))\n",
        "temp=torch.exp(out[1:3])/torch.sum(torch.exp(out[1:3]),dim=1).view(-1,1)\n",
        "print(temp)"
      ],
      "execution_count": 0,
      "outputs": [
        {
          "output_type": "stream",
          "text": [
            "tensor([[0.1287, 0.0512, 0.1392, 0.1392, 0.1097, 0.0513, 0.1392, 0.0512, 0.0512,\n",
            "         0.1392],\n",
            "        [0.1452, 0.0536, 0.1456, 0.1458, 0.0571, 0.0536, 0.1458, 0.0539, 0.0536,\n",
            "         0.1458]])\n"
          ],
          "name": "stdout"
        }
      ]
    },
    {
      "cell_type": "markdown",
      "metadata": {
        "_uuid": "0973f2a30eacf6d699df25a24ce00f9487f35559",
        "colab_type": "text",
        "id": "6l9keIdD4DAB"
      },
      "source": [
        "Voila!! We got the softmax output .One last thing to do is check whether the sum across all classes sum to 1 for understanding the predicted class"
      ]
    },
    {
      "cell_type": "code",
      "metadata": {
        "_uuid": "5f899daaaf970fbb7b821a9cf4f70af1b00a9773",
        "colab_type": "code",
        "id": "nalYGtoG4DAC",
        "outputId": "652ae82c-823a-41d1-ffa8-3682f6c45e0a",
        "colab": {
          "base_uri": "https://localhost:8080/"
        }
      },
      "source": [
        "temp.sum(dim=1)"
      ],
      "execution_count": 0,
      "outputs": [
        {
          "output_type": "execute_result",
          "data": {
            "text/plain": [
              "tensor([1., 1.])"
            ]
          },
          "metadata": {
            "tags": []
          },
          "execution_count": 29
        }
      ]
    },
    {
      "cell_type": "code",
      "metadata": {
        "_uuid": "da2f00d033b1ef41cf3941998ef34e24167a08cc",
        "colab_type": "code",
        "id": "QaVOzTEm4DAF",
        "outputId": "4ffeb7aa-2f9e-4c76-ef09-9c6cf1ed066e",
        "colab": {
          "base_uri": "https://localhost:8080/"
        }
      },
      "source": [
        "probabilities = softmax(out)\n",
        "# Does it have the right shape? Should be (64, 10)\n",
        "print(probabilities.shape)\n",
        "# Does it sum to 1?\n",
        "#print(probabilities.sum(dim=1))"
      ],
      "execution_count": 0,
      "outputs": [
        {
          "output_type": "stream",
          "text": [
            "torch.Size([64, 10])\n"
          ],
          "name": "stdout"
        }
      ]
    },
    {
      "cell_type": "markdown",
      "metadata": {
        "_uuid": "f9cd86feb1156d1a7ba69037197aabf876735be6",
        "colab_type": "text",
        "id": "Ecm_JHVC4DAL"
      },
      "source": [
        "## Building our Network with Pytorch\n",
        "\n",
        "![](images/mlp_mnist.png)"
      ]
    },
    {
      "cell_type": "markdown",
      "metadata": {
        "_uuid": "6b0737a96ecaa7d4bcd0f6bc4592961e5ffc8e42",
        "colab_type": "text",
        "id": "dWd6P2hG4DAM"
      },
      "source": [
        "PyTorch provides a module `nn` that makes building networks much simpler. Here I'll show you how to build the same one as above with 784 inputs, 256 hidden units, 10 output units and a softmax output."
      ]
    },
    {
      "cell_type": "code",
      "metadata": {
        "_uuid": "e82cac77674746147dc9dd5d9367b21c1e02d40c",
        "colab_type": "code",
        "id": "DVkq49YW4DAN",
        "colab": {}
      },
      "source": [
        "from torch import nn"
      ],
      "execution_count": 0,
      "outputs": []
    },
    {
      "cell_type": "code",
      "metadata": {
        "_uuid": "72a3786079aa4a387146ff066176d5af56b11b4b",
        "colab_type": "code",
        "id": "Tsob_Rb54DAR",
        "colab": {}
      },
      "source": [
        "class Network(nn.Module):\n",
        "    def __init__(self):\n",
        "        super().__init__()\n",
        "        self.hidden=nn.Linear(784,256)\n",
        "        self.output=nn.Linear(256,10)\n",
        "        self.sigmoid=nn.Sigmoid()\n",
        "        self.softmax=nn.Softmax(dim=1)\n",
        "        \n",
        "    def forward(self,x):\n",
        "        x=self.hidden(x)\n",
        "        x=self.sigmoid(x)\n",
        "        x=self.output(x)\n",
        "        x=self.softmax(x)\n",
        "        return x"
      ],
      "execution_count": 0,
      "outputs": []
    },
    {
      "cell_type": "markdown",
      "metadata": {
        "_uuid": "b1546fd3ac7e6ab35a81dfee3e704817627a5618",
        "colab_type": "text",
        "id": "NmsMC3m_4DAY"
      },
      "source": [
        "Let's go through this bit by bit.\n",
        "\n",
        "```python\n",
        "class Network(nn.Module):\n",
        "```\n",
        "\n",
        "Here we're inheriting from `nn.Module`. Combined with `super().__init__()` this creates a class that tracks the architecture and provides a lot of useful methods and attributes. It is mandatory to inherit from `nn.Module` when you're creating a class for your network. The name of the class itself can be anything.\n",
        "\n",
        "```python\n",
        "self.hidden = nn.Linear(784, 256)\n",
        "```\n",
        "\n",
        "This line creates a module for a linear transformation, $x\\mathbf{W} + b$, with 784 inputs and 256 outputs and assigns it to `self.hidden`. The module automatically creates the weight and bias tensors which we'll use in the `forward` method. You can access the weight and bias tensors once the network once it's create at `net.hidden.weight` and `net.hidden.bias`.\n",
        "\n",
        "```python\n",
        "self.output = nn.Linear(256, 10)\n",
        "```\n",
        "\n",
        "Similarly, this creates another linear transformation with 256 inputs and 10 outputs.\n",
        "\n",
        "```python\n",
        "self.sigmoid = nn.Sigmoid()\n",
        "self.softmax = nn.Softmax(dim=1)\n",
        "```\n",
        "\n",
        "Here I defined operations for the sigmoid activation and softmax output. Setting `dim=1` in `nn.Softmax(dim=1)` calculates softmax across the columns.\n",
        "\n",
        "```python\n",
        "def forward(self, x):\n",
        "```\n",
        "\n",
        "PyTorch networks created with `nn.Module` must have a `forward` method defined. It takes in a tensor `x` and passes it through the operations you defined in the `__init__` method.\n",
        "\n",
        "```python\n",
        "x = self.hidden(x)\n",
        "x = self.sigmoid(x)\n",
        "x = self.output(x)\n",
        "x = self.softmax(x)\n",
        "```\n",
        "\n",
        "Here the input tensor `x` is passed through each operation a reassigned to `x`. We can see that the input tensor goes through the hidden layer, then a sigmoid function, then the output layer, and finally the softmax function. It doesn't matter what you name the variables here, as long as the inputs and outputs of the operations match the network architecture you want to build. The order in which you define things in the `__init__` method doesn't matter, but you'll need to sequence the operations correctly in the `forward` method.\n",
        "\n",
        "Now we can create a `Network` object."
      ]
    },
    {
      "cell_type": "code",
      "metadata": {
        "_uuid": "36bc9a286ffafd0a0b1ac7890906092965f5fee0",
        "colab_type": "code",
        "id": "5mUYbFw94DAZ",
        "outputId": "1e2723e3-3304-4cca-ae40-6d69e06061f9",
        "colab": {
          "base_uri": "https://localhost:8080/",
          "height": 119
        }
      },
      "source": [
        "model=Network()\n",
        "model"
      ],
      "execution_count": 0,
      "outputs": [
        {
          "output_type": "execute_result",
          "data": {
            "text/plain": [
              "Network(\n",
              "  (hidden): Linear(in_features=784, out_features=256, bias=True)\n",
              "  (output): Linear(in_features=256, out_features=10, bias=True)\n",
              "  (sigmoid): Sigmoid()\n",
              "  (softmax): Softmax()\n",
              ")"
            ]
          },
          "metadata": {
            "tags": []
          },
          "execution_count": 25
        }
      ]
    },
    {
      "cell_type": "markdown",
      "metadata": {
        "_uuid": "aae8f6f5e7c42a3df7d79b6e3a20293f3a673b0a",
        "colab_type": "text",
        "id": "xvFaVwHN4DAf"
      },
      "source": [
        "We can define the network somewhat more concisely and clearly using the `torch.nn.functional` module. This is the most common way you'll see networks defined as many operations are simple element-wise functions. We normally import this module as `F`, `import torch.nn.functional as F`.\n"
      ]
    },
    {
      "cell_type": "code",
      "metadata": {
        "_uuid": "1ebea291b4d96d74d435885e60bc2a792c4abd12",
        "colab_type": "code",
        "id": "y1CX1qWJ4DAg",
        "colab": {}
      },
      "source": [
        "import torch.nn.functional as F"
      ],
      "execution_count": 0,
      "outputs": []
    },
    {
      "cell_type": "code",
      "metadata": {
        "_uuid": "41e688fd7486e6ac4ea420cdc23e464a4e2c3432",
        "colab_type": "code",
        "id": "KJU1PQUE4DAi",
        "colab": {}
      },
      "source": [
        "import torch.nn.functional as F\n",
        "\n",
        "class Network(nn.Module):\n",
        "    def __init__(self):\n",
        "        super().__init__()\n",
        "        # Inputs to hidden layer linear transformation\n",
        "        self.hidden = nn.Linear(784, 128)\n",
        "        # Output layer, 10 units - one for each digit\n",
        "        self.output = nn.Linear(128, 10)\n",
        "        \n",
        "    def forward(self, x):\n",
        "        # Hidden layer with sigmoid activation\n",
        "        x = F.sigmoid(self.hidden(x))\n",
        "        # Output layer with softmax activation\n",
        "        x = F.softmax(self.output(x), dim=1)\n",
        "        \n",
        "        return x"
      ],
      "execution_count": 0,
      "outputs": []
    },
    {
      "cell_type": "code",
      "metadata": {
        "_uuid": "30f4a6c129eb490f265d2570e16f86dc96534952",
        "colab_type": "code",
        "id": "zaUQd7194DAj",
        "outputId": "fa32c3a0-a18c-4a12-ca81-2e36715faac0",
        "colab": {
          "base_uri": "https://localhost:8080/",
          "height": 85
        }
      },
      "source": [
        "model=Network()\n",
        "model"
      ],
      "execution_count": 0,
      "outputs": [
        {
          "output_type": "execute_result",
          "data": {
            "text/plain": [
              "Network(\n",
              "  (hidden): Linear(in_features=784, out_features=128, bias=True)\n",
              "  (output): Linear(in_features=128, out_features=10, bias=True)\n",
              ")"
            ]
          },
          "metadata": {
            "tags": []
          },
          "execution_count": 28
        }
      ]
    },
    {
      "cell_type": "markdown",
      "metadata": {
        "_uuid": "8c3820bb60313a368c0a3d8322b21b7d8adeafeb",
        "colab_type": "text",
        "id": "lqLdKq2v4DAq"
      },
      "source": [
        "### Initializing weights and biases\n",
        "\n",
        "The weights and bias are automatically initialized for you, but it's possible to customize how they are initialized. The weights and biases are tensors attached to the layer you defined, you can get them with `model.fc1.weight` for instance."
      ]
    },
    {
      "cell_type": "code",
      "metadata": {
        "_uuid": "d148d7e2446d76d5ca6a8948d23ec513f103cdba",
        "colab_type": "code",
        "id": "BIEIlmhV4DAv",
        "outputId": "023f5445-67c5-41ac-c85f-b6a056afa3ed",
        "colab": {
          "base_uri": "https://localhost:8080/",
          "height": 629
        }
      },
      "source": [
        "print(model.hidden.weight,model.hidden.weight.shape)\n",
        "print(model.hidden.bias,model.hidden.bias.shape)"
      ],
      "execution_count": 0,
      "outputs": [
        {
          "output_type": "stream",
          "text": [
            "Parameter containing:\n",
            "tensor([[-0.0094, -0.0321,  0.0317,  ...,  0.0060,  0.0215, -0.0294],\n",
            "        [-0.0198,  0.0351,  0.0213,  ..., -0.0089, -0.0297,  0.0034],\n",
            "        [ 0.0350,  0.0105,  0.0304,  ...,  0.0304, -0.0081,  0.0094],\n",
            "        ...,\n",
            "        [ 0.0061,  0.0312,  0.0347,  ..., -0.0232, -0.0153,  0.0039],\n",
            "        [ 0.0339, -0.0227,  0.0243,  ...,  0.0334, -0.0054, -0.0325],\n",
            "        [-0.0002,  0.0350, -0.0118,  ..., -0.0110,  0.0245, -0.0089]],\n",
            "       requires_grad=True) torch.Size([128, 784])\n",
            "Parameter containing:\n",
            "tensor([ 3.0184e-02, -3.3155e-02, -2.1110e-03, -1.7361e-02, -1.4367e-02,\n",
            "         3.3259e-02, -1.8731e-02,  2.6308e-02, -2.1619e-02, -2.9367e-02,\n",
            "        -1.8656e-02, -2.9273e-02, -1.0114e-02, -8.2450e-03, -3.2223e-03,\n",
            "        -5.7220e-03,  3.3290e-02,  2.4711e-02,  3.9513e-03,  9.0558e-03,\n",
            "        -3.0110e-02,  1.1570e-02, -3.5993e-03,  2.0162e-03,  3.3010e-02,\n",
            "        -3.2239e-02,  1.3533e-02,  6.5736e-03,  1.5783e-02, -3.0980e-02,\n",
            "         1.6267e-02, -2.4868e-02,  2.3409e-02, -2.7833e-02, -2.8823e-02,\n",
            "         3.3744e-02, -1.8794e-02,  5.8063e-03, -6.4547e-03, -3.1861e-03,\n",
            "        -6.5485e-03,  2.2418e-02, -3.3989e-02, -1.4722e-02, -1.3146e-02,\n",
            "         4.9385e-03,  2.0563e-02, -5.9989e-03,  2.7626e-02, -1.9919e-02,\n",
            "        -1.1617e-02,  2.9277e-02,  2.9418e-02, -1.6826e-02, -2.2159e-02,\n",
            "         2.3152e-02,  1.7359e-02, -1.2575e-02,  2.8086e-02,  2.6587e-02,\n",
            "        -2.7191e-02,  1.2699e-02,  3.2632e-03,  3.3537e-02,  2.8400e-02,\n",
            "         1.8912e-02, -1.8681e-02,  9.7644e-05,  3.2543e-02, -3.9153e-03,\n",
            "        -7.1321e-03, -1.1596e-02, -1.3179e-03,  4.5245e-03,  1.2594e-03,\n",
            "        -1.7501e-02,  3.2968e-02, -2.7981e-02,  8.1926e-03,  1.5501e-02,\n",
            "        -1.4408e-02,  2.5470e-02,  1.6988e-02, -2.0117e-02, -3.0206e-02,\n",
            "         1.8068e-02,  2.0254e-02, -2.0550e-02,  3.0950e-02, -2.5869e-03,\n",
            "         2.6072e-02, -2.4727e-02, -3.1581e-02,  2.3614e-02, -2.5009e-02,\n",
            "        -1.8805e-02,  2.5560e-02, -3.4563e-02,  3.4966e-02, -1.1730e-02,\n",
            "         1.2572e-02,  2.7495e-02,  3.2595e-02,  8.6234e-03,  2.0957e-03,\n",
            "         4.8739e-04, -7.1473e-03,  2.0680e-02, -2.5175e-02, -3.2904e-02,\n",
            "         3.3542e-02, -2.8888e-02,  2.0643e-02,  2.1208e-02,  2.0565e-02,\n",
            "         1.7478e-02, -2.6080e-02, -2.2256e-02,  1.1271e-02, -1.6755e-02,\n",
            "        -5.0183e-03, -1.5889e-03,  1.7369e-03,  1.6175e-02, -2.9982e-02,\n",
            "         3.5475e-02,  2.8421e-02, -1.9441e-02], requires_grad=True) torch.Size([128])\n"
          ],
          "name": "stdout"
        }
      ]
    },
    {
      "cell_type": "markdown",
      "metadata": {
        "_uuid": "1a1989c40df55dd4324cad2736e72481c148299d",
        "colab_type": "text",
        "id": "j3iwfmdl4DA2"
      },
      "source": [
        "For custom initialization, we can these tensors in place."
      ]
    },
    {
      "cell_type": "code",
      "metadata": {
        "_uuid": "dc98f7292fe8d6f40b1ea58b681acf522f500bb2",
        "colab_type": "code",
        "id": "Gut8xqfG4DA4",
        "outputId": "ad4ece78-a0a3-42de-bf96-aebd24826f57",
        "colab": {
          "base_uri": "https://localhost:8080/",
          "height": 119
        }
      },
      "source": [
        "# Set biases to all zeros\n",
        "model.hidden.bias.data.fill_(0)"
      ],
      "execution_count": 0,
      "outputs": [
        {
          "output_type": "execute_result",
          "data": {
            "text/plain": [
              "tensor([0., 0., 0., 0., 0., 0., 0., 0., 0., 0., 0., 0., 0., 0., 0., 0., 0., 0., 0., 0., 0., 0., 0., 0.,\n",
              "        0., 0., 0., 0., 0., 0., 0., 0., 0., 0., 0., 0., 0., 0., 0., 0., 0., 0., 0., 0., 0., 0., 0., 0.,\n",
              "        0., 0., 0., 0., 0., 0., 0., 0., 0., 0., 0., 0., 0., 0., 0., 0., 0., 0., 0., 0., 0., 0., 0., 0.,\n",
              "        0., 0., 0., 0., 0., 0., 0., 0., 0., 0., 0., 0., 0., 0., 0., 0., 0., 0., 0., 0., 0., 0., 0., 0.,\n",
              "        0., 0., 0., 0., 0., 0., 0., 0., 0., 0., 0., 0., 0., 0., 0., 0., 0., 0., 0., 0., 0., 0., 0., 0.,\n",
              "        0., 0., 0., 0., 0., 0., 0., 0.])"
            ]
          },
          "metadata": {
            "tags": []
          },
          "execution_count": 30
        }
      ]
    },
    {
      "cell_type": "code",
      "metadata": {
        "_uuid": "354f3f9fbcf8b0c6808394ea97e794b9f43ffe60",
        "colab_type": "code",
        "id": "mP1_5vXd4DBA",
        "outputId": "d3a7a586-2784-4c0a-bef2-df5c7e61cbec",
        "colab": {
          "base_uri": "https://localhost:8080/",
          "height": 136
        }
      },
      "source": [
        "# sample from random normal with standard dev = 0.01\n",
        "model.hidden.weight.data.normal_(std=0.01)"
      ],
      "execution_count": 0,
      "outputs": [
        {
          "output_type": "execute_result",
          "data": {
            "text/plain": [
              "tensor([[-0.0087, -0.0066,  0.0040,  ...,  0.0082, -0.0022, -0.0074],\n",
              "        [-0.0091,  0.0072, -0.0037,  ..., -0.0036, -0.0111,  0.0136],\n",
              "        [ 0.0055,  0.0038,  0.0046,  ...,  0.0038, -0.0039, -0.0082],\n",
              "        ...,\n",
              "        [ 0.0285,  0.0205, -0.0099,  ..., -0.0035,  0.0028,  0.0033],\n",
              "        [ 0.0073, -0.0072,  0.0006,  ...,  0.0061,  0.0179, -0.0123],\n",
              "        [-0.0026,  0.0061, -0.0005,  ...,  0.0097, -0.0202,  0.0062]])"
            ]
          },
          "metadata": {
            "tags": []
          },
          "execution_count": 31
        }
      ]
    },
    {
      "cell_type": "code",
      "metadata": {
        "_uuid": "e3b948402fbcd6e8529fe5ebcd00347f1db63a1c",
        "colab_type": "code",
        "id": "0c1xeOjL4DBE",
        "colab": {}
      },
      "source": [
        "netowrk=Network()"
      ],
      "execution_count": 0,
      "outputs": []
    },
    {
      "cell_type": "markdown",
      "metadata": {
        "_uuid": "1eb03d730d47d46308e593ff4debbd6899280bbe",
        "colab_type": "text",
        "id": "e5Ked5Lw4DBJ"
      },
      "source": [
        "### Forward pass\n",
        "\n",
        "Now that we have a network, let's see what happens when we pass in an image."
      ]
    },
    {
      "cell_type": "code",
      "metadata": {
        "_uuid": "59df5bda3337698adad159777311294b7f8cfce4",
        "colab_type": "code",
        "id": "hvty_zDW4DBK",
        "outputId": "74971bca-adf3-4209-db74-d1c5cc2e4fdd",
        "colab": {
          "base_uri": "https://localhost:8080/",
          "height": 243
        }
      },
      "source": [
        "# Grab some data \n",
        "dataiter = iter(trainloader)\n",
        "images, labels = dataiter.next()\n",
        "\n",
        "# Resize images into a 1D vector, new shape is (batch size, color channels, image pixels) \n",
        "images.resize_(images.shape[0], 1, 784)\n",
        "\n",
        "# Forward pass through the network\n",
        "img_idx = 0\n",
        "ps = model.forward(images[img_idx,:])\n",
        "\n",
        "img = images[img_idx]\n",
        "view_classify(img.view(1, 28, 28), ps)"
      ],
      "execution_count": 0,
      "outputs": [
        {
          "output_type": "display_data",
          "data": {
            "image/png": "[encoded data removed]",
            "text/plain": [
              "<Figure size 432x648 with 2 Axes>"
            ]
          },
          "metadata": {
            "tags": [],
            "image/png": {
              "width": 423,
              "height": 226
            }
          }
        }
      ]
    },
    {
      "cell_type": "markdown",
      "metadata": {
        "_uuid": "2103e632ea834fcbd4741de8b9ee7edace23ba6b",
        "colab_type": "text",
        "id": "mBnOZK-84DBN"
      },
      "source": [
        "As you can see above, our network has basically no idea what this digit is. It's because we haven't trained it yet, , all the weights are random!"
      ]
    },
    {
      "cell_type": "markdown",
      "metadata": {
        "_uuid": "6d611ac89023080d6ee0e42b9369376ed261a777",
        "colab_type": "text",
        "id": "Tlbgk3-D4DBN"
      },
      "source": [
        "## Add-on: People from the keras would love this!!!\n",
        "PyTorch provides a convenient way to build networks like this where a tensor is passed sequentially through operations, `nn.Sequential`.\n",
        "Lets try to build the above network using this method:"
      ]
    },
    {
      "cell_type": "code",
      "metadata": {
        "_uuid": "e6f5405fe980380825786437c0aa8e94cb8cb92e",
        "colab_type": "code",
        "id": "hzQD5uAK4DBN",
        "outputId": "f633003c-9232-4e30-d30d-88ff273c0b6d",
        "colab": {
          "base_uri": "https://localhost:8080/",
          "height": 136
        }
      },
      "source": [
        "# Hyperparameters for our network\n",
        "input_size = 784\n",
        "hidden_sizes = [128]\n",
        "output_size = 10\n",
        "\n",
        "model=nn.Sequential(nn.Linear(input_size,hidden_sizes[0]),\n",
        "                    nn.ReLU(),\n",
        "                    nn.Linear(hidden_sizes[0],output_size),\n",
        "                   \n",
        "                    nn.Softmax(dim=1))\n",
        "print(model)"
      ],
      "execution_count": 0,
      "outputs": [
        {
          "output_type": "stream",
          "text": [
            "Sequential(\n",
            "  (0): Linear(in_features=784, out_features=128, bias=True)\n",
            "  (1): ReLU()\n",
            "  (2): Linear(in_features=128, out_features=10, bias=True)\n",
            "  (3): ReLU()\n",
            "  (4): Softmax()\n",
            ")\n"
          ],
          "name": "stdout"
        }
      ]
    },
    {
      "cell_type": "code",
      "metadata": {
        "_uuid": "d461b698ae5973918405c9120db6e94194347a27",
        "colab_type": "code",
        "id": "YTGl3o4q4DBQ",
        "outputId": "ada2397b-5edb-479a-ddff-421cfb9451cb",
        "colab": {
          "base_uri": "https://localhost:8080/",
          "height": 243
        }
      },
      "source": [
        "# Forward pass through the network and display output\n",
        "images, labels = next(iter(trainloader))\n",
        "images.resize_(images.shape[0], 1, 784)\n",
        "ps = model.forward(images[0,:])\n",
        "view_classify(images[0].view(1, 28, 28), ps)"
      ],
      "execution_count": 0,
      "outputs": [
        {
          "output_type": "display_data",
          "data": {
            "image/png": "[encoded data removed]",
            "text/plain": [
              "<Figure size 432x648 with 2 Axes>"
            ]
          },
          "metadata": {
            "tags": [],
            "image/png": {
              "width": 423,
              "height": 226
            }
          }
        }
      ]
    },
    {
      "cell_type": "markdown",
      "metadata": {
        "_uuid": "d137ebac2a3367c41e6c001f2edf2a37b0b22211",
        "colab_type": "text",
        "id": "jjHQZNqX4DBS"
      },
      "source": [
        "### Access Layers of the network\n",
        "We can access layers  by integer "
      ]
    },
    {
      "cell_type": "code",
      "metadata": {
        "_uuid": "0cf54881f8e022928a962d1d83fd5614a97a039e",
        "colab_type": "code",
        "id": "Lm58z7bx4DBS",
        "outputId": "53e8b256-325f-4f73-8497-fcdfd503ab42",
        "colab": {
          "base_uri": "https://localhost:8080/",
          "height": 193
        }
      },
      "source": [
        "print(model[0])\n",
        "model[0].weight"
      ],
      "execution_count": 0,
      "outputs": [
        {
          "output_type": "stream",
          "text": [
            "Linear(in_features=784, out_features=128, bias=True)\n"
          ],
          "name": "stdout"
        },
        {
          "output_type": "execute_result",
          "data": {
            "text/plain": [
              "Parameter containing:\n",
              "tensor([[-0.0193,  0.0175, -0.0097,  ..., -0.0264,  0.0135,  0.0245],\n",
              "        [ 0.0010, -0.0323, -0.0246,  ...,  0.0255, -0.0211, -0.0345],\n",
              "        [ 0.0170, -0.0030, -0.0328,  ...,  0.0156, -0.0089, -0.0116],\n",
              "        ...,\n",
              "        [ 0.0051, -0.0267, -0.0117,  ..., -0.0142,  0.0277,  0.0269],\n",
              "        [-0.0048,  0.0291, -0.0253,  ...,  0.0246,  0.0038,  0.0083],\n",
              "        [-0.0341, -0.0225, -0.0207,  ..., -0.0338,  0.0086,  0.0154]],\n",
              "       requires_grad=True)"
            ]
          },
          "metadata": {
            "tags": []
          },
          "execution_count": 44
        }
      ]
    },
    {
      "cell_type": "markdown",
      "metadata": {
        "_uuid": "0499ff7a787fc1885f5998f81f2395fc6bcc4108",
        "colab_type": "text",
        "id": "2csfs3nj4DBU"
      },
      "source": [
        "### Ordered Dict- Better way to create a network\n",
        "We can also pass in an `OrderedDict` to name the individual layers and operations, instead of using incremental integers. Note that dictionary keys must be unique, so _each operation must have a different name_."
      ]
    },
    {
      "cell_type": "code",
      "metadata": {
        "_uuid": "ca7567562b0610e6ec4ec7d98f03032bbe32c061",
        "colab_type": "code",
        "id": "Fh7-9VfL4DBV",
        "outputId": "225f0c75-d213-43b9-8ca5-7ab77fd8ed3c",
        "colab": {
          "base_uri": "https://localhost:8080/",
          "height": 122
        }
      },
      "source": [
        "from collections import OrderedDict\n",
        "model = nn.Sequential(OrderedDict([\n",
        "                      ('hidden', nn.Linear(input_size, hidden_sizes[0])),\n",
        "                      ('relu1', nn.ReLU()),\n",
        "                      ('output', nn.Linear(hidden_sizes[0], output_size)),\n",
        "                      ('softmax', nn.Softmax(dim=1))]))\n",
        "model"
      ],
      "execution_count": 0,
      "outputs": [
        {
          "output_type": "execute_result",
          "data": {
            "text/plain": [
              "Sequential(\n",
              "  (hidden): Linear(in_features=784, out_features=128, bias=True)\n",
              "  (relu1): ReLU()\n",
              "  (output): Linear(in_features=128, out_features=10, bias=True)\n",
              "  (softmax): Softmax()\n",
              ")"
            ]
          },
          "metadata": {
            "tags": []
          },
          "execution_count": 45
        }
      ]
    },
    {
      "cell_type": "markdown",
      "metadata": {
        "_uuid": "c67ffda9a2ace0093371017d9abf4bc02a8656dc",
        "colab_type": "text",
        "id": "fMg2ZNxD4DBX"
      },
      "source": [
        "### Access Layers using integer or name \n",
        "Now we can access layers  either by integer or name"
      ]
    },
    {
      "cell_type": "code",
      "metadata": {
        "_uuid": "6da7947d84c734eea2bf19acc3127bdf87ccce1c",
        "colab_type": "code",
        "id": "ypn65-Ep4DBY",
        "outputId": "89e79723-bfa0-44ed-eb24-ff48c2cb7f63",
        "colab": {
          "base_uri": "https://localhost:8080/",
          "height": 210
        }
      },
      "source": [
        "print(model[0])\n",
        "print(model.hidden)\n",
        "print(model.hidden.weight)"
      ],
      "execution_count": 0,
      "outputs": [
        {
          "output_type": "stream",
          "text": [
            "Linear(in_features=784, out_features=128, bias=True)\n",
            "Linear(in_features=784, out_features=128, bias=True)\n",
            "Parameter containing:\n",
            "tensor([[-0.0213,  0.0055,  0.0044,  ...,  0.0216,  0.0212,  0.0184],\n",
            "        [-0.0282,  0.0110, -0.0335,  ..., -0.0296, -0.0002, -0.0258],\n",
            "        [-0.0075,  0.0346,  0.0275,  ...,  0.0115,  0.0269, -0.0081],\n",
            "        ...,\n",
            "        [-0.0204,  0.0250, -0.0245,  ...,  0.0287,  0.0189,  0.0337],\n",
            "        [-0.0119,  0.0049, -0.0011,  ..., -0.0234, -0.0316,  0.0198],\n",
            "        [ 0.0213, -0.0012, -0.0262,  ...,  0.0164,  0.0224,  0.0268]],\n",
            "       requires_grad=True)\n"
          ],
          "name": "stdout"
        }
      ]
    },
    {
      "cell_type": "markdown",
      "metadata": {
        "_uuid": "df59c9d06c7e7d2ec2b6582c6bb0934e2d49c58f",
        "colab_type": "text",
        "id": "6e3jVOgM4DBa"
      },
      "source": [
        "### Recollect everything \n",
        "Before we go ahead and train a neural network to accuractly predict the numbers appearing in the MNIST images,let us recollect the important modules that is necessary for any model training exercise"
      ]
    },
    {
      "cell_type": "markdown",
      "metadata": {
        "_uuid": "f0df7ddfb84bf00cee50f9b916a9c61f1a65aaa9",
        "colab_type": "text",
        "id": "f_Hs4w9J4DBb"
      },
      "source": [
        "#### Imports"
      ]
    },
    {
      "cell_type": "code",
      "metadata": {
        "ExecuteTime": {
          "end_time": "2019-02-04T13:03:17.978997Z",
          "start_time": "2019-02-04T13:03:17.973595Z"
        },
        "_uuid": "ff53d2bd4296f89b134eb961832043cce0e43e4d",
        "colab_type": "code",
        "id": "rekP8JB34DBb",
        "colab": {}
      },
      "source": [
        "import torch\n",
        "from torch import nn\n",
        "import torch.nn.functional as F\n",
        "from torchvision import datasets,transforms"
      ],
      "execution_count": 0,
      "outputs": []
    },
    {
      "cell_type": "markdown",
      "metadata": {
        "_uuid": "7a1f47e2928ea88a7c9b45edb08ea75016b6fca6",
        "colab_type": "text",
        "id": "fogM8L7P4DBg"
      },
      "source": [
        "#### Load Data"
      ]
    },
    {
      "cell_type": "code",
      "metadata": {
        "ExecuteTime": {
          "end_time": "2019-02-04T13:07:13.687456Z",
          "start_time": "2019-02-04T13:06:40.910295Z"
        },
        "_uuid": "c2c9d59a82c6bce28a611e1f409ced8b4f8fdc39",
        "colab_type": "code",
        "id": "llRMkr-v4DBg",
        "outputId": "bd256cc2-8a0b-4d9f-a74d-b5e3397d92a6",
        "colab": {
          "base_uri": "https://localhost:8080/",
          "height": 283
        }
      },
      "source": [
        "transform=transforms.Compose([transforms.ToTensor()])\n",
        "trainset=datasets.MNIST('~/.pytorch/MNIST_data/',train=True,transform=transform,download=True)\n",
        "testset=datasets.MNIST('~/.pytorch/MNIST_data/',train=False,transform=transform,download=True)\n",
        "\n",
        "trainloader=torch.utils.data.DataLoader(trainset,batch_size=64,shuffle=True,num_workers=0)\n",
        "#will explain later\n",
        "testloader=torch.utils.data.DataLoader(testset,batch_size=64,shuffle=True,num_workers=0)"
      ],
      "execution_count": 0,
      "outputs": [
        {
          "output_type": "stream",
          "text": [
            "  0%|          | 16384/9912422 [00:00<01:11, 138201.55it/s]"
          ],
          "name": "stderr"
        },
        {
          "output_type": "stream",
          "text": [
            "Downloading http://yann.lecun.com/exdb/mnist/train-images-idx3-ubyte.gz to /root/.pytorch/MNIST_data/MNIST/raw/train-images-idx3-ubyte.gz\n"
          ],
          "name": "stdout"
        },
        {
          "output_type": "stream",
          "text": [
            "9920512it [00:00, 31253957.04it/s]                          \n"
          ],
          "name": "stderr"
        },
        {
          "output_type": "stream",
          "text": [
            "Extracting /root/.pytorch/MNIST_data/MNIST/raw/train-images-idx3-ubyte.gz\n"
          ],
          "name": "stdout"
        },
        {
          "output_type": "stream",
          "text": [
            "32768it [00:00, 445049.83it/s]\n",
            "  1%|          | 16384/1648877 [00:00<00:11, 140432.12it/s]"
          ],
          "name": "stderr"
        },
        {
          "output_type": "stream",
          "text": [
            "Downloading http://yann.lecun.com/exdb/mnist/train-labels-idx1-ubyte.gz to /root/.pytorch/MNIST_data/MNIST/raw/train-labels-idx1-ubyte.gz\n",
            "Extracting /root/.pytorch/MNIST_data/MNIST/raw/train-labels-idx1-ubyte.gz\n",
            "Downloading http://yann.lecun.com/exdb/mnist/t10k-images-idx3-ubyte.gz to /root/.pytorch/MNIST_data/MNIST/raw/t10k-images-idx3-ubyte.gz\n"
          ],
          "name": "stdout"
        },
        {
          "output_type": "stream",
          "text": [
            "1654784it [00:00, 6967617.90it/s]                           \n",
            "8192it [00:00, 160376.67it/s]\n"
          ],
          "name": "stderr"
        },
        {
          "output_type": "stream",
          "text": [
            "Extracting /root/.pytorch/MNIST_data/MNIST/raw/t10k-images-idx3-ubyte.gz\n",
            "Downloading http://yann.lecun.com/exdb/mnist/t10k-labels-idx1-ubyte.gz to /root/.pytorch/MNIST_data/MNIST/raw/t10k-labels-idx1-ubyte.gz\n",
            "Extracting /root/.pytorch/MNIST_data/MNIST/raw/t10k-labels-idx1-ubyte.gz\n",
            "Processing...\n",
            "Done!\n"
          ],
          "name": "stdout"
        }
      ]
    },
    {
      "cell_type": "markdown",
      "metadata": {
        "_uuid": "c7161f89857d013b0f837c620c0ed24657bed1b2",
        "colab_type": "text",
        "id": "OY4Xho394DBk"
      },
      "source": [
        "#### Build a feedforward Network"
      ]
    },
    {
      "cell_type": "code",
      "metadata": {
        "ExecuteTime": {
          "end_time": "2019-02-04T13:03:47.741595Z",
          "start_time": "2019-02-04T13:03:47.735142Z"
        },
        "_uuid": "0e73fc284a626e4d7bbca629f817585aeb06fdd6",
        "colab_type": "code",
        "id": "qzKD0j684DBk",
        "colab": {}
      },
      "source": [
        "# TODO: Build a feed-forward network in one of the three ways mentioned above:\n",
        "model = nn.Sequential(nn.Linear(784, 128),\n",
        "                      nn.ReLU(),\n",
        "                      nn.Linear(128, 64),\n",
        "                      nn.ReLU(),\n",
        "                      nn.Linear(64, 10),\n",
        "                      nn.LogSoftmax(dim=1))\n"
      ],
      "execution_count": 0,
      "outputs": []
    },
    {
      "cell_type": "markdown",
      "metadata": {
        "_uuid": "dfdb486a01347095c7c8d75de1d5b74443bbfd4f",
        "colab_type": "text",
        "id": "XNVJKWay4DBo"
      },
      "source": [
        "#### Lets run one image through the network to check our work"
      ]
    },
    {
      "cell_type": "code",
      "metadata": {
        "ExecuteTime": {
          "end_time": "2019-02-04T13:03:49.422306Z",
          "start_time": "2019-02-04T13:03:49.121144Z"
        },
        "_uuid": "0864af9a75655db17435ef4940945a7d9532c671",
        "colab_type": "code",
        "id": "50EvUnF34DBo",
        "outputId": "e9d2f2e7-87e0-4802-9d4d-4e97b0bd2b94",
        "colab": {
          "base_uri": "https://localhost:8080/",
          "height": 34
        }
      },
      "source": [
        "# Get our data\n",
        "images, labels = next(iter(trainloader))\n",
        "# Flatten images\n",
        "images = images.view(images.shape[0], -1)\n",
        "\n",
        "# Forward pass, get our logits\n",
        "logits = model(images)\n",
        "print(logits.shape)"
      ],
      "execution_count": 0,
      "outputs": [
        {
          "output_type": "stream",
          "text": [
            "torch.Size([64, 10])\n"
          ],
          "name": "stdout"
        }
      ]
    },
    {
      "cell_type": "markdown",
      "metadata": {
        "_uuid": "0d9976b19b6ca3910a3a4855754bdc1e3de1f52f",
        "colab_type": "text",
        "id": "kOqfHHNJ4DBs"
      },
      "source": [
        "#### Define a loss function"
      ]
    },
    {
      "cell_type": "code",
      "metadata": {
        "ExecuteTime": {
          "end_time": "2019-02-04T13:03:52.643210Z",
          "start_time": "2019-02-04T13:03:52.638129Z"
        },
        "_uuid": "22466cb3a58aad481e903428de2642ff67e9bc1f",
        "colab_type": "code",
        "id": "k7KhsCL94DBt",
        "colab": {}
      },
      "source": [
        "criterion = nn.NLLLoss()"
      ],
      "execution_count": 0,
      "outputs": []
    },
    {
      "cell_type": "code",
      "metadata": {
        "ExecuteTime": {
          "end_time": "2019-02-04T13:03:55.680366Z",
          "start_time": "2019-02-04T13:03:55.547651Z"
        },
        "_uuid": "2e3bda9d30daf829a8e19537715860ff7c678329",
        "colab_type": "code",
        "id": "inh-tLMV4DBu",
        "outputId": "e8d550c3-9934-46eb-82f4-f234bee2572c",
        "colab": {
          "base_uri": "https://localhost:8080/",
          "height": 34
        }
      },
      "source": [
        "# Calculate the loss with the logits and the labels\n",
        "loss=criterion(logits,labels)\n",
        "print(loss)"
      ],
      "execution_count": 0,
      "outputs": [
        {
          "output_type": "stream",
          "text": [
            "tensor(2.3049, grad_fn=<NllLossBackward>)\n"
          ],
          "name": "stdout"
        }
      ]
    },
    {
      "cell_type": "markdown",
      "metadata": {
        "_uuid": "8a7dd6c45e94460f48dd048b35229f74a399a988",
        "colab_type": "text",
        "id": "xlkpF1m_4DBw"
      },
      "source": [
        "## Autograd\n",
        "\n",
        "Now that we know how to calculate a loss, how do we use it to perform backpropagation? Torch provides a module, `autograd`, for automatically calculating the gradients of tensors. We can use it to calculate the gradients of all our parameters with respect to the loss. Autograd works by keeping track of operations performed on tensors, then going backwards through those operations, calculating gradients along the way.\n",
        "\n",
        "PyTorch keeps track of operations on a tensor and calculates the gradients, you need to set `requires_grad = True` on a tensor. You can do this at creation with the `requires_grad` keyword, or at any time with `x.requires_grad_(True)`.\n"
      ]
    },
    {
      "cell_type": "markdown",
      "metadata": {
        "_uuid": "d3361f46b9d9dbf06bc4a6b257f472129c2b01e1",
        "colab_type": "text",
        "id": "P6CQP81X4DBw"
      },
      "source": [
        "Let's see an example to understand it better.Then again we will head back to our modelling task"
      ]
    },
    {
      "cell_type": "code",
      "metadata": {
        "_uuid": "5ab21186791f7e319778106ca1ffb327d0847e16",
        "colab_type": "code",
        "id": "0ZYgrLYf4DBx",
        "outputId": "a22e2c03-6e10-4813-805d-1f0ea82329fa",
        "colab": {
          "base_uri": "https://localhost:8080/",
          "height": 210
        }
      },
      "source": [
        "x = torch.randn(2,2, requires_grad=True)\n",
        "print(\"x:\",x)\n",
        "y = x**2\n",
        "print(\"y:\",y)\n",
        "## grad_fn shows the function that generated this variable\n",
        "print(\"y.grad_fn:\",y.grad_fn)\n",
        "z = y.mean()\n",
        "print(\"z:\",z)\n",
        "print(\"x.grad:\",x.grad)\n",
        "z.backward()\n",
        "print(\"x.grad:\",x.grad)\n",
        "print(\"x/2:\",x/2)"
      ],
      "execution_count": 0,
      "outputs": [
        {
          "output_type": "stream",
          "text": [
            "x: tensor([[ 0.5090, -0.1186],\n",
            "        [-0.6671, -0.0789]], requires_grad=True)\n",
            "y: tensor([[0.2591, 0.0141],\n",
            "        [0.4450, 0.0062]], grad_fn=<PowBackward0>)\n",
            "y.grad_fn: <PowBackward0 object at 0x7f3d1d46e6a0>\n",
            "z: tensor(0.1811, grad_fn=<MeanBackward0>)\n",
            "x.grad: None\n",
            "x.grad: tensor([[ 0.2545, -0.0593],\n",
            "        [-0.3335, -0.0394]])\n",
            "x/2: tensor([[ 0.2545, -0.0593],\n",
            "        [-0.3335, -0.0394]], grad_fn=<DivBackward0>)\n"
          ],
          "name": "stdout"
        }
      ]
    },
    {
      "cell_type": "markdown",
      "metadata": {
        "_uuid": "94d46a1835ad4987ff28365b28ee304d366336dc",
        "colab_type": "text",
        "id": "mdd4kzZa4DBy"
      },
      "source": [
        "## Loss and Autograd together"
      ]
    },
    {
      "cell_type": "code",
      "metadata": {
        "ExecuteTime": {
          "end_time": "2019-02-04T13:04:00.684688Z",
          "start_time": "2019-02-04T13:04:00.535643Z"
        },
        "_uuid": "b0c5e229539704b93a5991c27849bd7b41abae80",
        "colab_type": "code",
        "id": "x2Bp2C_14DBz",
        "outputId": "d5b04102-2af4-4b25-b16e-cde6230f562e",
        "colab": {
          "base_uri": "https://localhost:8080/",
          "height": 193
        }
      },
      "source": [
        "# Build a feed-forward network\n",
        "model = nn.Sequential(nn.Linear(784, 128),\n",
        "                      nn.ReLU(),\n",
        "                      nn.Linear(128, 64),\n",
        "                      nn.ReLU(),\n",
        "                      nn.Linear(64, 10),\n",
        "                      nn.LogSoftmax(dim=1))\n",
        "\n",
        "criterion = nn.NLLLoss()\n",
        "images, labels = next(iter(trainloader))\n",
        "images = images.view(images.shape[0], -1)\n",
        "\n",
        "logits = model(images)\n",
        "loss = criterion(logits, labels)\n",
        "\n",
        "\n",
        "print('Before backward pass: \\n', model[0].weight.grad)\n",
        "\n",
        "loss.backward()\n",
        "\n",
        "print('After backward pass: \\n', model[0].weight.grad)"
      ],
      "execution_count": 0,
      "outputs": [
        {
          "output_type": "stream",
          "text": [
            "Before backward pass: \n",
            " None\n",
            "After backward pass: \n",
            " tensor([[0., 0., 0.,  ..., 0., 0., 0.],\n",
            "        [0., 0., 0.,  ..., 0., 0., 0.],\n",
            "        [0., 0., 0.,  ..., 0., 0., 0.],\n",
            "        ...,\n",
            "        [0., 0., 0.,  ..., 0., 0., 0.],\n",
            "        [0., 0., 0.,  ..., 0., 0., 0.],\n",
            "        [0., 0., 0.,  ..., 0., 0., 0.]])\n"
          ],
          "name": "stdout"
        }
      ]
    },
    {
      "cell_type": "markdown",
      "metadata": {
        "_uuid": "d184b346f9ed4194de74a29675da09076e52e0c4",
        "colab_type": "text",
        "id": "iHu0ac6Z4DB1"
      },
      "source": [
        "## Defining the optimizer"
      ]
    },
    {
      "cell_type": "code",
      "metadata": {
        "ExecuteTime": {
          "end_time": "2019-02-04T13:04:04.271653Z",
          "start_time": "2019-02-04T13:04:04.266694Z"
        },
        "_uuid": "efadf9e312ec51f9f36d25f043d011c27f4f8fe2",
        "colab_type": "code",
        "id": "uclj7uN44DB2",
        "colab": {}
      },
      "source": [
        "from torch import optim\n",
        "optimizer=optim.SGD(model.parameters(),lr=0.1)"
      ],
      "execution_count": 0,
      "outputs": []
    },
    {
      "cell_type": "markdown",
      "metadata": {
        "_uuid": "91c0777ba686873bd972d96e384c090c9baae3d8",
        "colab_type": "text",
        "id": "YMzGLiTq4DB3"
      },
      "source": [
        "## Training for real"
      ]
    },
    {
      "cell_type": "code",
      "metadata": {
        "ExecuteTime": {
          "end_time": "2019-02-04T13:05:20.593146Z",
          "start_time": "2019-02-04T13:04:05.998666Z"
        },
        "_uuid": "6b6ac5071aad8b3232596ed1d4807d73aab09df3",
        "colab_type": "code",
        "id": "SG_yue954DB3",
        "outputId": "50a52f08-a800-4e7a-bcb6-ee9cb11f2995",
        "colab": {
          "base_uri": "https://localhost:8080/",
          "height": 105
        }
      },
      "source": [
        "epochs = 5\n",
        "for e in range(epochs):\n",
        "    running_loss = 0\n",
        "    for images, labels in trainloader:\n",
        "        # Flatten MNIST images into a 784 long vector\n",
        "        images = images.view(images.shape[0], -1)\n",
        "        optimizer.zero_grad()\n",
        "        output=model.forward(images)\n",
        "        # TODO: Training pass\n",
        "        \n",
        "        loss = criterion(output,labels)\n",
        "        loss.backward()\n",
        "        optimizer.step()\n",
        "        \n",
        "        running_loss += loss.item()*images.shape[0]\n",
        "    else:\n",
        "        print(f\"Epoch:{e} Training loss: {running_loss/len(trainloader.dataset)}\")"
      ],
      "execution_count": 0,
      "outputs": [
        {
          "output_type": "stream",
          "text": [
            "Epoch:0 Training loss: 1.1391830668767293\n",
            "Epoch:1 Training loss: 1.2300454666773477\n",
            "Epoch:2 Training loss: 1.4402017743428548\n",
            "Epoch:3 Training loss: 1.687267345937093\n",
            "Epoch:4 Training loss: 1.6394379685719809\n"
          ],
          "name": "stdout"
        }
      ]
    },
    {
      "cell_type": "code",
      "metadata": {
        "ExecuteTime": {
          "end_time": "2019-02-04T13:06:05.063846Z",
          "start_time": "2019-02-04T13:06:04.983101Z"
        },
        "_uuid": "6d837662f725dc7196ba3d24130aa23090dc1616",
        "colab_type": "code",
        "id": "nAsqu-lu4DB6",
        "colab": {}
      },
      "source": [
        "%matplotlib inline\n",
        "#import helper\n",
        "\n",
        "images, labels = next(iter(trainloader))\n",
        "\n",
        "img = images[0].view(1, 784)\n",
        "# Turn off gradients to speed up this part\n",
        "with torch.no_grad():\n",
        "    logits = model.forward(img)\n",
        "\n",
        "# Output of the network are logits, need to take softmax for probabilities\n",
        "ps = F.softmax(logits, dim=1)\n",
        "#helper.view_classify(img.view(1, 28, 28), ps)"
      ],
      "execution_count": 0,
      "outputs": []
    },
    {
      "cell_type": "markdown",
      "metadata": {
        "_uuid": "37a44994683bfe1fee884125d2e58ed08b62720b",
        "colab_type": "text",
        "id": "g4hUTb6u4DB9"
      },
      "source": [
        "## Inference and Validation\n",
        "\n",
        "The goal of validation is to measure the model's performance on data that isn't part of the training set. Typically this is just accuracy, the percentage of classes the network predicted correctly. Other options are precision and recall and top-5 error rate. We'll focus on accuracy here. First I'll do a forward pass with one batch from the test set."
      ]
    },
    {
      "cell_type": "markdown",
      "metadata": {
        "_uuid": "e94326ca7cdc742c2c575294d260c257a97cab87",
        "colab_type": "text",
        "id": "KjLRoPhS4DB-"
      },
      "source": [
        "### Inference on a batch of images\n",
        "Let us try to do this for a batch of images.Before that we will make some changes in our architecture"
      ]
    },
    {
      "cell_type": "code",
      "metadata": {
        "ExecuteTime": {
          "end_time": "2019-02-04T13:08:55.536357Z",
          "start_time": "2019-02-04T13:08:55.509217Z"
        },
        "_uuid": "e4ec78de08b2f24f5032ba181ec7a7d79428261a",
        "colab_type": "code",
        "id": "JmXSm5P64DB-",
        "outputId": "d77d894c-a3d8-4c26-bc4b-be538ee69df5",
        "colab": {
          "base_uri": "https://localhost:8080/",
          "height": 34
        }
      },
      "source": [
        "images, labels = next(iter(testloader))\n",
        "images.shape,labels.shape"
      ],
      "execution_count": 0,
      "outputs": [
        {
          "output_type": "execute_result",
          "data": {
            "text/plain": [
              "(torch.Size([64, 1, 28, 28]), torch.Size([64]))"
            ]
          },
          "metadata": {
            "tags": []
          },
          "execution_count": 61
        }
      ]
    },
    {
      "cell_type": "code",
      "metadata": {
        "ExecuteTime": {
          "end_time": "2019-02-04T13:09:03.958533Z",
          "start_time": "2019-02-04T13:09:03.928394Z"
        },
        "_uuid": "3f2244405b587c87c9347abd1ed4ab150f8d80aa",
        "colab_type": "code",
        "id": "g85IuZKD4DCC",
        "outputId": "bed95d0b-1dc1-44d8-cc97-c9eca7287809",
        "colab": {
          "base_uri": "https://localhost:8080/",
          "height": 34
        }
      },
      "source": [
        "images, labels = next(iter(testloader))\n",
        "img = images.view(images.shape[0], 784)\n",
        "# Get the class probabilities\n",
        "ps = torch.exp(model(img))\n",
        "# Make sure the shape is appropriate, we should get 10 class probabilities for 64 examples\n",
        "print(ps.shape)"
      ],
      "execution_count": 0,
      "outputs": [
        {
          "output_type": "stream",
          "text": [
            "torch.Size([64, 10])\n"
          ],
          "name": "stdout"
        }
      ]
    },
    {
      "cell_type": "code",
      "metadata": {
        "ExecuteTime": {
          "end_time": "2019-02-04T13:09:06.432988Z",
          "start_time": "2019-02-04T13:09:06.341035Z"
        },
        "_uuid": "72a2ebdd77e3380b972e24e1565bc7744beedd27",
        "colab_type": "code",
        "id": "YLRbwojf4DCH",
        "outputId": "0f4bc9ae-a938-4233-dc1e-73ceb7b043b4",
        "colab": {
          "base_uri": "https://localhost:8080/",
          "height": 34
        }
      },
      "source": [
        "top_prob,top_class=ps.topk(1,dim=1)\n",
        "top_prob.shape,top_class.shape"
      ],
      "execution_count": 0,
      "outputs": [
        {
          "output_type": "execute_result",
          "data": {
            "text/plain": [
              "(torch.Size([64, 1]), torch.Size([64, 1]))"
            ]
          },
          "metadata": {
            "tags": []
          },
          "execution_count": 63
        }
      ]
    },
    {
      "cell_type": "code",
      "metadata": {
        "ExecuteTime": {
          "end_time": "2019-02-04T13:10:21.313112Z",
          "start_time": "2019-02-04T13:10:21.305216Z"
        },
        "_uuid": "9f6368720bf311e1ee9977f0f2562a02b1afc12f",
        "colab_type": "code",
        "id": "BJ4d8SbF4DCO",
        "outputId": "41fe7554-c4ec-45fe-bec9-bb919e4ef633",
        "colab": {
          "base_uri": "https://localhost:8080/",
          "height": 70
        }
      },
      "source": [
        "top_class.view(64)"
      ],
      "execution_count": 0,
      "outputs": [
        {
          "output_type": "execute_result",
          "data": {
            "text/plain": [
              "tensor([6, 1, 3, 6, 3, 6, 6, 6, 6, 6, 6, 3, 6, 3, 6, 6, 6, 6, 6, 6, 6, 3, 6, 3,\n",
              "        6, 1, 6, 6, 3, 6, 6, 3, 1, 6, 3, 3, 3, 6, 6, 6, 3, 6, 6, 6, 6, 1, 6, 3,\n",
              "        6, 3, 6, 1, 6, 6, 6, 6, 3, 0, 3, 3, 6, 6, 6, 3])"
            ]
          },
          "metadata": {
            "tags": []
          },
          "execution_count": 64
        }
      ]
    },
    {
      "cell_type": "code",
      "metadata": {
        "_uuid": "a9a05d7571a12641d0da644ae00b1608346faf6a",
        "colab_type": "code",
        "id": "sScTfQeQ4DCR",
        "outputId": "ac69ec43-4c4f-4c6b-dc55-bf5ee0ba391e",
        "scrolled": true,
        "colab": {
          "base_uri": "https://localhost:8080/",
          "height": 1000
        }
      },
      "source": [
        "import pandas as pd\n",
        "pd.DataFrame({\"Predicted\":top_class.view(top_class.shape[0]),\"Actual\":labels})"
      ],
      "execution_count": 0,
      "outputs": [
        {
          "output_type": "execute_result",
          "data": {
            "text/html": [
              "<div>\n",
              "<style scoped>\n",
              "    .dataframe tbody tr th:only-of-type {\n",
              "        vertical-align: middle;\n",
              "    }\n",
              "\n",
              "    .dataframe tbody tr th {\n",
              "        vertical-align: top;\n",
              "    }\n",
              "\n",
              "    .dataframe thead th {\n",
              "        text-align: right;\n",
              "    }\n",
              "</style>\n",
              "<table border=\"1\" class=\"dataframe\">\n",
              "  <thead>\n",
              "    <tr style=\"text-align: right;\">\n",
              "      <th></th>\n",
              "      <th>Predicted</th>\n",
              "      <th>Actual</th>\n",
              "    </tr>\n",
              "  </thead>\n",
              "  <tbody>\n",
              "    <tr>\n",
              "      <th>0</th>\n",
              "      <td>6</td>\n",
              "      <td>2</td>\n",
              "    </tr>\n",
              "    <tr>\n",
              "      <th>1</th>\n",
              "      <td>1</td>\n",
              "      <td>1</td>\n",
              "    </tr>\n",
              "    <tr>\n",
              "      <th>2</th>\n",
              "      <td>3</td>\n",
              "      <td>5</td>\n",
              "    </tr>\n",
              "    <tr>\n",
              "      <th>3</th>\n",
              "      <td>6</td>\n",
              "      <td>1</td>\n",
              "    </tr>\n",
              "    <tr>\n",
              "      <th>4</th>\n",
              "      <td>3</td>\n",
              "      <td>9</td>\n",
              "    </tr>\n",
              "    <tr>\n",
              "      <th>5</th>\n",
              "      <td>6</td>\n",
              "      <td>6</td>\n",
              "    </tr>\n",
              "    <tr>\n",
              "      <th>6</th>\n",
              "      <td>6</td>\n",
              "      <td>5</td>\n",
              "    </tr>\n",
              "    <tr>\n",
              "      <th>7</th>\n",
              "      <td>6</td>\n",
              "      <td>0</td>\n",
              "    </tr>\n",
              "    <tr>\n",
              "      <th>8</th>\n",
              "      <td>6</td>\n",
              "      <td>8</td>\n",
              "    </tr>\n",
              "    <tr>\n",
              "      <th>9</th>\n",
              "      <td>6</td>\n",
              "      <td>0</td>\n",
              "    </tr>\n",
              "    <tr>\n",
              "      <th>10</th>\n",
              "      <td>6</td>\n",
              "      <td>7</td>\n",
              "    </tr>\n",
              "    <tr>\n",
              "      <th>11</th>\n",
              "      <td>3</td>\n",
              "      <td>8</td>\n",
              "    </tr>\n",
              "    <tr>\n",
              "      <th>12</th>\n",
              "      <td>6</td>\n",
              "      <td>3</td>\n",
              "    </tr>\n",
              "    <tr>\n",
              "      <th>13</th>\n",
              "      <td>3</td>\n",
              "      <td>9</td>\n",
              "    </tr>\n",
              "    <tr>\n",
              "      <th>14</th>\n",
              "      <td>6</td>\n",
              "      <td>6</td>\n",
              "    </tr>\n",
              "    <tr>\n",
              "      <th>15</th>\n",
              "      <td>6</td>\n",
              "      <td>6</td>\n",
              "    </tr>\n",
              "    <tr>\n",
              "      <th>16</th>\n",
              "      <td>6</td>\n",
              "      <td>6</td>\n",
              "    </tr>\n",
              "    <tr>\n",
              "      <th>17</th>\n",
              "      <td>6</td>\n",
              "      <td>2</td>\n",
              "    </tr>\n",
              "    <tr>\n",
              "      <th>18</th>\n",
              "      <td>6</td>\n",
              "      <td>7</td>\n",
              "    </tr>\n",
              "    <tr>\n",
              "      <th>19</th>\n",
              "      <td>6</td>\n",
              "      <td>7</td>\n",
              "    </tr>\n",
              "    <tr>\n",
              "      <th>20</th>\n",
              "      <td>6</td>\n",
              "      <td>8</td>\n",
              "    </tr>\n",
              "    <tr>\n",
              "      <th>21</th>\n",
              "      <td>3</td>\n",
              "      <td>1</td>\n",
              "    </tr>\n",
              "    <tr>\n",
              "      <th>22</th>\n",
              "      <td>6</td>\n",
              "      <td>8</td>\n",
              "    </tr>\n",
              "    <tr>\n",
              "      <th>23</th>\n",
              "      <td>3</td>\n",
              "      <td>5</td>\n",
              "    </tr>\n",
              "    <tr>\n",
              "      <th>24</th>\n",
              "      <td>6</td>\n",
              "      <td>7</td>\n",
              "    </tr>\n",
              "    <tr>\n",
              "      <th>25</th>\n",
              "      <td>1</td>\n",
              "      <td>1</td>\n",
              "    </tr>\n",
              "    <tr>\n",
              "      <th>26</th>\n",
              "      <td>6</td>\n",
              "      <td>7</td>\n",
              "    </tr>\n",
              "    <tr>\n",
              "      <th>27</th>\n",
              "      <td>6</td>\n",
              "      <td>9</td>\n",
              "    </tr>\n",
              "    <tr>\n",
              "      <th>28</th>\n",
              "      <td>3</td>\n",
              "      <td>4</td>\n",
              "    </tr>\n",
              "    <tr>\n",
              "      <th>29</th>\n",
              "      <td>6</td>\n",
              "      <td>0</td>\n",
              "    </tr>\n",
              "    <tr>\n",
              "      <th>...</th>\n",
              "      <td>...</td>\n",
              "      <td>...</td>\n",
              "    </tr>\n",
              "    <tr>\n",
              "      <th>34</th>\n",
              "      <td>3</td>\n",
              "      <td>8</td>\n",
              "    </tr>\n",
              "    <tr>\n",
              "      <th>35</th>\n",
              "      <td>3</td>\n",
              "      <td>5</td>\n",
              "    </tr>\n",
              "    <tr>\n",
              "      <th>36</th>\n",
              "      <td>3</td>\n",
              "      <td>5</td>\n",
              "    </tr>\n",
              "    <tr>\n",
              "      <th>37</th>\n",
              "      <td>6</td>\n",
              "      <td>6</td>\n",
              "    </tr>\n",
              "    <tr>\n",
              "      <th>38</th>\n",
              "      <td>6</td>\n",
              "      <td>2</td>\n",
              "    </tr>\n",
              "    <tr>\n",
              "      <th>39</th>\n",
              "      <td>6</td>\n",
              "      <td>7</td>\n",
              "    </tr>\n",
              "    <tr>\n",
              "      <th>40</th>\n",
              "      <td>3</td>\n",
              "      <td>3</td>\n",
              "    </tr>\n",
              "    <tr>\n",
              "      <th>41</th>\n",
              "      <td>6</td>\n",
              "      <td>2</td>\n",
              "    </tr>\n",
              "    <tr>\n",
              "      <th>42</th>\n",
              "      <td>6</td>\n",
              "      <td>9</td>\n",
              "    </tr>\n",
              "    <tr>\n",
              "      <th>43</th>\n",
              "      <td>6</td>\n",
              "      <td>4</td>\n",
              "    </tr>\n",
              "    <tr>\n",
              "      <th>44</th>\n",
              "      <td>6</td>\n",
              "      <td>8</td>\n",
              "    </tr>\n",
              "    <tr>\n",
              "      <th>45</th>\n",
              "      <td>1</td>\n",
              "      <td>1</td>\n",
              "    </tr>\n",
              "    <tr>\n",
              "      <th>46</th>\n",
              "      <td>6</td>\n",
              "      <td>2</td>\n",
              "    </tr>\n",
              "    <tr>\n",
              "      <th>47</th>\n",
              "      <td>3</td>\n",
              "      <td>5</td>\n",
              "    </tr>\n",
              "    <tr>\n",
              "      <th>48</th>\n",
              "      <td>6</td>\n",
              "      <td>2</td>\n",
              "    </tr>\n",
              "    <tr>\n",
              "      <th>49</th>\n",
              "      <td>3</td>\n",
              "      <td>3</td>\n",
              "    </tr>\n",
              "    <tr>\n",
              "      <th>50</th>\n",
              "      <td>6</td>\n",
              "      <td>6</td>\n",
              "    </tr>\n",
              "    <tr>\n",
              "      <th>51</th>\n",
              "      <td>1</td>\n",
              "      <td>1</td>\n",
              "    </tr>\n",
              "    <tr>\n",
              "      <th>52</th>\n",
              "      <td>6</td>\n",
              "      <td>7</td>\n",
              "    </tr>\n",
              "    <tr>\n",
              "      <th>53</th>\n",
              "      <td>6</td>\n",
              "      <td>5</td>\n",
              "    </tr>\n",
              "    <tr>\n",
              "      <th>54</th>\n",
              "      <td>6</td>\n",
              "      <td>6</td>\n",
              "    </tr>\n",
              "    <tr>\n",
              "      <th>55</th>\n",
              "      <td>6</td>\n",
              "      <td>4</td>\n",
              "    </tr>\n",
              "    <tr>\n",
              "      <th>56</th>\n",
              "      <td>3</td>\n",
              "      <td>3</td>\n",
              "    </tr>\n",
              "    <tr>\n",
              "      <th>57</th>\n",
              "      <td>0</td>\n",
              "      <td>0</td>\n",
              "    </tr>\n",
              "    <tr>\n",
              "      <th>58</th>\n",
              "      <td>3</td>\n",
              "      <td>8</td>\n",
              "    </tr>\n",
              "    <tr>\n",
              "      <th>59</th>\n",
              "      <td>3</td>\n",
              "      <td>5</td>\n",
              "    </tr>\n",
              "    <tr>\n",
              "      <th>60</th>\n",
              "      <td>6</td>\n",
              "      <td>7</td>\n",
              "    </tr>\n",
              "    <tr>\n",
              "      <th>61</th>\n",
              "      <td>6</td>\n",
              "      <td>4</td>\n",
              "    </tr>\n",
              "    <tr>\n",
              "      <th>62</th>\n",
              "      <td>6</td>\n",
              "      <td>6</td>\n",
              "    </tr>\n",
              "    <tr>\n",
              "      <th>63</th>\n",
              "      <td>3</td>\n",
              "      <td>4</td>\n",
              "    </tr>\n",
              "  </tbody>\n",
              "</table>\n",
              "<p>64 rows × 2 columns</p>\n",
              "</div>"
            ],
            "text/plain": [
              "    Predicted  Actual\n",
              "0           6       2\n",
              "1           1       1\n",
              "2           3       5\n",
              "3           6       1\n",
              "4           3       9\n",
              "5           6       6\n",
              "6           6       5\n",
              "7           6       0\n",
              "8           6       8\n",
              "9           6       0\n",
              "10          6       7\n",
              "11          3       8\n",
              "12          6       3\n",
              "13          3       9\n",
              "14          6       6\n",
              "15          6       6\n",
              "16          6       6\n",
              "17          6       2\n",
              "18          6       7\n",
              "19          6       7\n",
              "20          6       8\n",
              "21          3       1\n",
              "22          6       8\n",
              "23          3       5\n",
              "24          6       7\n",
              "25          1       1\n",
              "26          6       7\n",
              "27          6       9\n",
              "28          3       4\n",
              "29          6       0\n",
              "..        ...     ...\n",
              "34          3       8\n",
              "35          3       5\n",
              "36          3       5\n",
              "37          6       6\n",
              "38          6       2\n",
              "39          6       7\n",
              "40          3       3\n",
              "41          6       2\n",
              "42          6       9\n",
              "43          6       4\n",
              "44          6       8\n",
              "45          1       1\n",
              "46          6       2\n",
              "47          3       5\n",
              "48          6       2\n",
              "49          3       3\n",
              "50          6       6\n",
              "51          1       1\n",
              "52          6       7\n",
              "53          6       5\n",
              "54          6       6\n",
              "55          6       4\n",
              "56          3       3\n",
              "57          0       0\n",
              "58          3       8\n",
              "59          3       5\n",
              "60          6       7\n",
              "61          6       4\n",
              "62          6       6\n",
              "63          3       4\n",
              "\n",
              "[64 rows x 2 columns]"
            ]
          },
          "metadata": {
            "tags": []
          },
          "execution_count": 65
        }
      ]
    },
    {
      "cell_type": "code",
      "metadata": {
        "_uuid": "3f958e5da0aed9b404c743c8798b64e0d4341fdd",
        "colab_type": "code",
        "id": "QPgumHuE4DCV",
        "outputId": "bb3999a7-5b1c-4310-e142-9fc32f11be03",
        "colab": {
          "base_uri": "https://localhost:8080/",
          "height": 34
        }
      },
      "source": [
        "equals=top_class == labels.view(*top_class.shape)\n",
        "accuracy=torch.mean(equals.type(torch.FloatTensor))\n",
        "accuracy.item()"
      ],
      "execution_count": 0,
      "outputs": [
        {
          "output_type": "execute_result",
          "data": {
            "text/plain": [
              "0.265625"
            ]
          },
          "metadata": {
            "tags": []
          },
          "execution_count": 66
        }
      ]
    },
    {
      "cell_type": "code",
      "metadata": {
        "ExecuteTime": {
          "end_time": "2019-02-04T13:27:29.556056Z",
          "start_time": "2019-02-04T13:27:29.541115Z"
        },
        "_uuid": "352673a9d93a8f6b52165952364a7793ff43b8f0",
        "colab_type": "code",
        "id": "QecOZ7Bt4DCZ",
        "colab": {}
      },
      "source": [
        "class Network(nn.Module):\n",
        "    def __init__(self):\n",
        "        super().__init__()\n",
        "        self.fc1 = nn.Linear(784, 256)\n",
        "        self.fc2 = nn.Linear(256, 128)\n",
        "        self.fc3 = nn.Linear(128, 64)\n",
        "        self.fc4 = nn.Linear(64, 10)\n",
        "\n",
        "        # Dropout module with 0.2 drop probability\n",
        "        self.dropout = nn.Dropout(p=0.2)\n",
        "\n",
        "    def forward(self, x):\n",
        "        # make sure input tensor is flattened\n",
        "        x = x.view(x.shape[0], -1)\n",
        "\n",
        "        # Now with dropout\n",
        "        x = self.dropout(F.relu(self.fc1(x)))\n",
        "        x = self.dropout(F.relu(self.fc2(x)))\n",
        "        x = self.dropout(F.relu(self.fc3(x)))\n",
        "\n",
        "        # output so no dropout here\n",
        "        x = F.log_softmax(self.fc4(x), dim=1)\n",
        "\n",
        "        return x\n",
        "        \n",
        "model=Network()\n",
        "optimizer=optim.Adam(model.parameters(),lr=0.01)\n",
        "criterion=nn.NLLLoss()"
      ],
      "execution_count": 0,
      "outputs": []
    },
    {
      "cell_type": "code",
      "metadata": {
        "ExecuteTime": {
          "end_time": "2019-02-04T13:29:20.825396Z",
          "start_time": "2019-02-04T13:27:30.220213Z"
        },
        "_uuid": "d7ef3898265ce167202ee321100129a95e3b748e",
        "colab_type": "code",
        "id": "ZJvxs4ib4DCa",
        "outputId": "d8d7eb58-15ee-4c46-ebab-cbd24bb46d36",
        "colab": {
          "base_uri": "https://localhost:8080/",
          "height": 105
        }
      },
      "source": [
        "epochs=5\n",
        "train_losses,test_losses=[],[]\n",
        "for e in range(epochs):\n",
        "    running_loss=0\n",
        "    for images,labels in trainloader:\n",
        "        model.train()\n",
        "        optimizer.zero_grad()\n",
        "        #images=images.view(images.shape[0],-1)\n",
        "        log_ps=model(images)\n",
        "        loss=criterion(log_ps,labels) # a single value for ex 2.33\n",
        "        loss.backward()\n",
        "        optimizer.step()\n",
        "        running_loss += loss.item() * images.shape[0] ## (2.33*64 + 2.22*64 + 2.12*33) / 138 \n",
        "        \n",
        "    else:\n",
        "        test_loss=0\n",
        "        accuracy=0\n",
        "        \n",
        "        with torch.no_grad():\n",
        "            model.eval()\n",
        "            for images,labels in testloader:\n",
        "                log_ps=model(images)\n",
        "                test_loss+=criterion(log_ps,labels) *images.shape[0]\n",
        "                ps=torch.exp(log_ps)\n",
        "                top_p,top_class=ps.topk(1,dim=1)\n",
        "                equals=top_class==labels.view(*top_class.shape)\n",
        "                accuracy+=torch.sum(equals).item()\n",
        "        model.train()\n",
        "        train_losses.append(running_loss/len(trainloader.dataset))\n",
        "        test_losses.append(test_loss.item()/len(testloader.dataset))\n",
        "\n",
        "        print(\"Epoch: {}/{}.. \".format(e+1, epochs),\n",
        "              \"Training Loss: {:.3f}.. \".format(running_loss/len(trainloader.dataset)),\n",
        "              \"Test Loss: {:.3f}.. \".format(test_loss/len(testloader.dataset)),\n",
        "              \"Test Accuracy: {:.3f}\".format(accuracy/len(testloader.dataset)))    "
      ],
      "execution_count": 0,
      "outputs": [
        {
          "output_type": "stream",
          "text": [
            "Epoch: 1/5..  Training Loss: 0.402..  Test Loss: 0.204..  Test Accuracy: 0.947\n",
            "Epoch: 2/5..  Training Loss: 0.300..  Test Loss: 0.193..  Test Accuracy: 0.952\n",
            "Epoch: 3/5..  Training Loss: 0.319..  Test Loss: 0.197..  Test Accuracy: 0.955\n",
            "Epoch: 4/5..  Training Loss: 0.276..  Test Loss: 0.190..  Test Accuracy: 0.954\n",
            "Epoch: 5/5..  Training Loss: 0.279..  Test Loss: 0.190..  Test Accuracy: 0.960\n"
          ],
          "name": "stdout"
        }
      ]
    },
    {
      "cell_type": "code",
      "metadata": {
        "ExecuteTime": {
          "end_time": "2019-02-04T13:24:46.424543Z",
          "start_time": "2019-02-04T13:24:46.420315Z"
        },
        "colab_type": "code",
        "id": "sDXM694d4DCc",
        "outputId": "b53b8261-bc54-4e85-8814-1ad95da33689",
        "colab": {
          "base_uri": "https://localhost:8080/",
          "height": 34
        }
      },
      "source": [
        "running_loss"
      ],
      "execution_count": 0,
      "outputs": [
        {
          "output_type": "execute_result",
          "data": {
            "text/plain": [
              "16732.30222570896"
            ]
          },
          "metadata": {
            "tags": []
          },
          "execution_count": 69
        }
      ]
    },
    {
      "cell_type": "code",
      "metadata": {
        "_uuid": "086d29056a5322e8c76820fcdc87ddc5424539ff",
        "colab_type": "code",
        "id": "n_iWSBVm4DCe",
        "outputId": "928ff11f-a9d1-4968-dce8-02f35cb708a1",
        "colab": {
          "base_uri": "https://localhost:8080/",
          "height": 285
        }
      },
      "source": [
        "import matplotlib.pyplot as plt\n",
        "%matplotlib inline\n",
        "plt.plot(train_losses, label='Training loss')\n",
        "plt.plot(test_losses, label='Validation loss')\n",
        "plt.legend(frameon=False)"
      ],
      "execution_count": 0,
      "outputs": [
        {
          "output_type": "execute_result",
          "data": {
            "text/plain": [
              "<matplotlib.legend.Legend at 0x7f3d1d5c3fd0>"
            ]
          },
          "metadata": {
            "tags": []
          },
          "execution_count": 71
        },
        {
          "output_type": "display_data",
          "data": {
            "image/png": "[encoded data removed]",
            "text/plain": [
              "<Figure size 432x288 with 1 Axes>"
            ]
          },
          "metadata": {
            "tags": [],
            "image/png": {
              "height": 250,
              "width": 380
            }
          }
        }
      ]
    },
    {
      "cell_type": "markdown",
      "metadata": {
        "_uuid": "5612d928a89de850888b2caa3251617ff1ebc9fc",
        "colab_type": "text",
        "id": "BybjWD-B4DCg"
      },
      "source": [
        "## Inference time"
      ]
    },
    {
      "cell_type": "code",
      "metadata": {
        "_uuid": "e908e92d92cf3f2634fa665acbca4012bacdb3bf",
        "colab_type": "code",
        "id": "l--FFj6x4DCg",
        "outputId": "57dbd226-9bf3-4268-9ced-8ac5c1d32784",
        "colab": {
          "base_uri": "https://localhost:8080/",
          "height": 34
        }
      },
      "source": [
        "model.eval()\n",
        "\n",
        "dataiter = iter(testloader)\n",
        "images, labels = dataiter.next()\n",
        "img = images[0]\n",
        "# Convert 2D image to 1D vector\n",
        "img = img.view(1, 784)\n",
        "\n",
        "# Calculate the class probabilities (softmax) for img\n",
        "with torch.no_grad():\n",
        "    output = model.forward(img)\n",
        "\n",
        "ps = torch.exp(output)\n",
        "top_prob,top_class=ps.topk(1,dim=1)\n",
        "top_class.item(),labels[0]"
      ],
      "execution_count": 0,
      "outputs": [
        {
          "output_type": "execute_result",
          "data": {
            "text/plain": [
              "(8, tensor(8))"
            ]
          },
          "metadata": {
            "tags": []
          },
          "execution_count": 72
        }
      ]
    },
    {
      "cell_type": "markdown",
      "metadata": {
        "_uuid": "086a197d3e597422ee8b592832f811444577b876",
        "colab_type": "text",
        "id": "HLqWHCBM4DCh"
      },
      "source": [
        "The parameters for PyTorch networks are stored in a model's state_dict\n",
        " Optimizer objects (torch.optim) also have a state_dict, which contains information about the optimizer’s state, as well as the hyperparameters used.\n",
        "\n",
        "Because state_dict objects are Python dictionaries, they can be easily saved, updated, altered, and restored, adding a great deal of modularity to PyTorch models and optimizers."
      ]
    },
    {
      "cell_type": "code",
      "metadata": {
        "_uuid": "2dbde41ca47a505766ec29ad2c89443f9a4d8d7a",
        "colab_type": "code",
        "id": "ZtBvFdei4DCi",
        "outputId": "cf437a7b-2c5e-438a-86f8-90eed4369a2d",
        "colab": {
          "base_uri": "https://localhost:8080/",
          "height": 175
        }
      },
      "source": [
        "print(\"Model's state_dict:\")\n",
        "for param_tensor in model.state_dict():\n",
        "    print(param_tensor, \"\\t\", model.state_dict()[param_tensor].size())"
      ],
      "execution_count": 0,
      "outputs": [
        {
          "output_type": "stream",
          "text": [
            "Model's state_dict:\n",
            "fc1.weight \t torch.Size([256, 784])\n",
            "fc1.bias \t torch.Size([256])\n",
            "fc2.weight \t torch.Size([128, 256])\n",
            "fc2.bias \t torch.Size([128])\n",
            "fc3.weight \t torch.Size([64, 128])\n",
            "fc3.bias \t torch.Size([64])\n",
            "fc4.weight \t torch.Size([10, 64])\n",
            "fc4.bias \t torch.Size([10])\n"
          ],
          "name": "stdout"
        }
      ]
    },
    {
      "cell_type": "code",
      "metadata": {
        "_uuid": "67e383a0385379d68f1c4f0d38143504b098a8d5",
        "colab_type": "code",
        "id": "FjWuuhJq4DCj",
        "outputId": "3d8f7fba-4e0d-47df-b333-42c3b4b879b9",
        "colab": {
          "base_uri": "https://localhost:8080/",
          "height": 1000
        }
      },
      "source": [
        "# Print optimizer's state_dict\n",
        "print(\"Optimizer's state_dict:\")\n",
        "for var_name in optimizer.state_dict():\n",
        "    print(var_name, \"\\t\", optimizer.state_dict()[var_name])"
      ],
      "execution_count": 0,
      "outputs": [
        {
          "output_type": "stream",
          "text": [
            "Optimizer's state_dict:\n",
            "state \t {139900461526256: {'step': 4690, 'exp_avg': tensor([[0., 0., 0.,  ..., 0., 0., 0.],\n",
            "        [0., 0., 0.,  ..., 0., 0., 0.],\n",
            "        [0., 0., 0.,  ..., 0., 0., 0.],\n",
            "        ...,\n",
            "        [0., 0., 0.,  ..., 0., 0., 0.],\n",
            "        [0., 0., 0.,  ..., 0., 0., 0.],\n",
            "        [0., 0., 0.,  ..., 0., 0., 0.]]), 'exp_avg_sq': tensor([[0., 0., 0.,  ..., 0., 0., 0.],\n",
            "        [0., 0., 0.,  ..., 0., 0., 0.],\n",
            "        [0., 0., 0.,  ..., 0., 0., 0.],\n",
            "        ...,\n",
            "        [0., 0., 0.,  ..., 0., 0., 0.],\n",
            "        [0., 0., 0.,  ..., 0., 0., 0.],\n",
            "        [0., 0., 0.,  ..., 0., 0., 0.]])}, 139900461526328: {'step': 4690, 'exp_avg': tensor([ 5.6052e-45, -9.0633e-05, -2.0838e-18,  5.6052e-45,  5.6052e-45,\n",
            "        -2.1870e-05, -1.6081e-04, -1.2594e-03, -1.9198e-04,  3.1295e-38,\n",
            "        -4.9848e-04,  2.1075e-03, -1.6403e-23, -4.4465e-04,  2.8305e-04,\n",
            "        -6.0509e-41,  5.6052e-45,  5.6052e-45,  5.6052e-45,  5.6052e-45,\n",
            "         5.7103e-04, -4.9331e-04, -1.4567e-03,  5.6052e-45, -9.3776e-07,\n",
            "         4.8159e-04, -1.2833e-03,  2.9540e-11, -1.3162e-04,  5.6052e-45,\n",
            "         5.6052e-45,  5.6052e-45,  5.6052e-45, -1.6582e-04, -1.9093e-04,\n",
            "        -2.7883e-03, -6.7744e-04,  5.6052e-45, -3.7190e-04,  5.6052e-45,\n",
            "        -9.4714e-05,  5.6052e-45,  5.6052e-45,  5.1016e-26,  5.6052e-45,\n",
            "        -1.4458e-03, -7.5890e-06, -3.3384e-07,  5.6052e-45, -4.6484e-04,\n",
            "        -3.9815e-24,  5.0237e-07,  1.0383e-04, -1.4806e-04, -1.3148e-03,\n",
            "        -5.6060e-06,  1.4278e-03,  5.6052e-45,  5.6052e-45, -1.8632e-06,\n",
            "         5.6052e-45,  5.6052e-45, -1.8906e-04,  1.6491e-04,  5.6052e-45,\n",
            "        -6.2496e-05, -3.7904e-05,  5.6052e-45,  1.0470e-03,  5.6052e-45,\n",
            "         5.5002e-04,  5.6052e-45,  5.6052e-45,  5.6052e-45, -3.3427e-04,\n",
            "        -7.0477e-05,  5.6052e-45,  5.6052e-45, -1.1798e-03, -1.4826e-04,\n",
            "         2.2910e-34, -2.2005e-04,  1.5249e-03, -4.2334e-10,  5.0154e-04,\n",
            "        -6.2739e-04,  5.6052e-45, -1.9690e-03, -5.6052e-45, -4.7854e-04,\n",
            "         5.6052e-45,  5.6052e-45, -3.1894e-04,  2.7461e-03, -5.2178e-04,\n",
            "        -2.8835e-04, -3.6933e-04, -1.4136e-07,  1.8333e-05,  1.9115e-04,\n",
            "        -9.9939e-05,  5.6052e-45,  5.6052e-45,  5.6052e-45,  3.3981e-04,\n",
            "        -1.8277e-04,  7.2033e-04,  5.6052e-45,  3.9305e-17,  5.6052e-45,\n",
            "        -7.5574e-33,  1.9815e-04,  5.6052e-45,  3.8151e-04,  1.2540e-04,\n",
            "         5.6052e-45,  8.0551e-04,  1.3884e-03, -2.5297e-04, -1.6292e-04,\n",
            "         5.6052e-45,  5.1199e-04,  9.6204e-07,  5.6052e-45,  5.6052e-45,\n",
            "        -6.0065e-04, -1.3282e-03,  4.7743e-19, -7.5781e-08,  6.1700e-04,\n",
            "         5.4625e-04, -2.2623e-06, -2.2372e-06,  3.6068e-04, -2.5489e-04,\n",
            "         1.1144e-05,  5.6052e-45,  5.6052e-45,  5.1736e-04,  5.6052e-45,\n",
            "         5.6052e-45, -5.1086e-05,  5.6052e-45, -1.2228e-03, -8.9460e-16,\n",
            "        -2.4032e-07,  5.6052e-45,  5.6052e-45, -3.8343e-07,  5.6052e-45,\n",
            "         5.6052e-45,  5.6052e-45, -4.0377e-04, -1.6527e-04, -7.4107e-04,\n",
            "        -2.5274e-04,  1.3999e-03,  5.6052e-45,  5.6052e-45,  2.2554e-04,\n",
            "         5.6052e-45,  5.6052e-45, -2.1454e-18,  5.6052e-45,  5.6052e-45,\n",
            "         5.6052e-45,  5.6052e-45,  5.6052e-45,  4.8885e-11, -1.1367e-04,\n",
            "         5.6052e-45,  5.6052e-45, -5.6052e-45, -2.6906e-04,  3.3655e-04,\n",
            "         6.2474e-04,  2.1049e-04,  5.6052e-45,  6.8644e-04, -5.0611e-04,\n",
            "        -4.8471e-04, -1.3922e-03,  5.6052e-45, -5.0407e-04,  6.8073e-04,\n",
            "         5.6052e-45,  4.0440e-05,  5.6052e-45,  5.6052e-45,  4.1358e-04,\n",
            "         3.2968e-04, -4.0805e-04,  4.0927e-05,  5.6052e-45,  5.6052e-45,\n",
            "         5.6052e-45,  4.3170e-28, -3.0520e-04,  5.6052e-45,  1.7056e-03,\n",
            "         5.6052e-45,  8.5415e-07,  5.6052e-45,  1.4115e-03,  7.3234e-04,\n",
            "         5.6052e-45, -3.1110e-05,  5.6052e-45,  5.6052e-45, -5.0643e-05,\n",
            "         5.6052e-45,  4.6739e-06, -3.0619e-12,  5.6052e-45, -5.6052e-45,\n",
            "         3.9847e-04,  5.6052e-45,  5.6052e-45,  1.2318e-03, -2.2216e-03,\n",
            "         5.6052e-45, -4.9994e-04, -1.0524e-08,  5.6052e-45,  1.1751e-04,\n",
            "        -7.9131e-04, -2.4598e-04, -1.5322e-04, -8.4084e-07, -4.0460e-04,\n",
            "         5.6052e-45,  5.6052e-45,  1.2803e-16,  5.6052e-45, -1.1575e-03,\n",
            "        -2.4894e-04, -1.0898e-12,  1.1172e-03, -7.2015e-06, -7.3483e-05,\n",
            "        -1.4377e-04,  5.6052e-45, -2.0602e-05,  1.1014e-17,  5.6052e-45,\n",
            "        -2.6173e-05,  3.4547e-04, -8.5269e-04,  2.3448e-24, -1.7872e-05,\n",
            "         6.9672e-05,  5.6052e-45, -9.6096e-04,  3.7348e-04, -2.4987e-04,\n",
            "         1.5859e-03]), 'exp_avg_sq': tensor([2.0160e-11, 2.1008e-06, 1.2720e-07, 8.1500e-12, 7.7864e-11, 6.0178e-06,\n",
            "        2.5515e-06, 3.0802e-05, 7.8533e-06, 6.0529e-08, 1.0237e-05, 2.6508e-05,\n",
            "        5.3380e-08, 1.1060e-05, 2.3833e-05, 2.8277e-08, 2.1225e-12, 6.3951e-12,\n",
            "        1.9235e-11, 1.2461e-10, 1.9305e-05, 9.7068e-06, 2.0388e-05, 7.6511e-13,\n",
            "        1.2754e-06, 7.6364e-06, 1.4660e-05, 8.6858e-08, 1.3502e-05, 4.6380e-12,\n",
            "        1.3879e-11, 1.5353e-09, 1.8678e-11, 6.9552e-07, 9.7127e-06, 3.0020e-05,\n",
            "        5.7284e-06, 4.3043e-11, 1.4089e-05, 6.8081e-12, 1.0286e-06, 7.7298e-14,\n",
            "        5.0995e-08, 7.3316e-07, 2.8563e-11, 2.0212e-05, 3.1870e-06, 1.9183e-06,\n",
            "        8.6649e-12, 1.1835e-05, 1.6193e-07, 1.6386e-05, 2.3852e-05, 1.3492e-06,\n",
            "        1.9181e-05, 4.1632e-06, 2.3369e-05, 7.9263e-13, 1.5977e-11, 1.3816e-06,\n",
            "        5.0661e-12, 6.0988e-12, 1.1294e-05, 1.5424e-05, 1.0193e-12, 4.2645e-06,\n",
            "        1.9336e-05, 6.4664e-12, 1.1046e-05, 8.1666e-11, 1.2267e-05, 1.2778e-10,\n",
            "        3.8073e-08, 1.8938e-13, 6.6783e-06, 2.7694e-05, 1.9329e-12, 2.1069e-07,\n",
            "        6.5967e-06, 2.3123e-05, 1.1079e-07, 2.0135e-05, 1.1243e-05, 9.4523e-08,\n",
            "        4.4590e-06, 7.9489e-06, 1.0393e-11, 2.7172e-05, 6.8948e-08, 8.8119e-06,\n",
            "        1.0062e-10, 5.3416e-10, 5.1183e-06, 1.9165e-05, 1.1489e-05, 1.2823e-05,\n",
            "        2.1543e-05, 3.0763e-06, 1.5846e-05, 3.0736e-05, 2.7274e-05, 1.1226e-11,\n",
            "        8.0351e-12, 1.6604e-11, 1.7078e-05, 1.1072e-05, 1.0692e-05, 3.9794e-08,\n",
            "        1.0354e-08, 2.2004e-08, 1.5030e-08, 1.6517e-06, 3.4152e-12, 3.4401e-05,\n",
            "        1.1921e-05, 2.5089e-11, 2.3087e-05, 1.1648e-05, 1.4296e-05, 2.0518e-06,\n",
            "        2.1707e-07, 1.5897e-05, 1.3711e-05, 6.6077e-12, 4.2163e-12, 1.3388e-05,\n",
            "        1.1029e-05, 6.3954e-07, 4.5353e-06, 2.8117e-05, 2.0157e-05, 3.5936e-06,\n",
            "        5.7601e-06, 2.5753e-05, 2.8817e-05, 1.0194e-05, 7.6028e-12, 8.0913e-11,\n",
            "        1.0208e-05, 6.8632e-12, 3.5391e-12, 6.2860e-06, 7.1457e-11, 6.1707e-06,\n",
            "        3.5247e-08, 5.4233e-06, 1.7449e-11, 3.3822e-07, 6.5717e-06, 7.5350e-12,\n",
            "        9.1023e-09, 1.5383e-08, 3.3088e-05, 8.6880e-07, 7.1587e-06, 1.0490e-05,\n",
            "        2.2026e-05, 8.9084e-12, 3.1643e-11, 1.0487e-05, 3.5097e-09, 2.2138e-11,\n",
            "        1.0931e-06, 1.1192e-09, 5.8274e-11, 3.3750e-12, 7.1008e-12, 7.5826e-12,\n",
            "        1.7436e-06, 1.6265e-05, 3.0266e-12, 3.2127e-12, 2.2556e-08, 1.2205e-05,\n",
            "        1.2238e-05, 7.5882e-06, 2.7635e-05, 5.8003e-11, 2.2000e-05, 1.8573e-05,\n",
            "        6.4704e-06, 2.3237e-05, 4.5839e-09, 1.2010e-05, 3.1836e-05, 6.4275e-12,\n",
            "        9.3727e-06, 1.5362e-15, 5.8506e-08, 1.4453e-05, 2.0889e-05, 1.3129e-05,\n",
            "        3.2019e-06, 1.4059e-11, 2.8743e-11, 3.5082e-10, 5.6549e-08, 7.5633e-06,\n",
            "        2.9774e-11, 2.7921e-05, 5.1786e-12, 6.7535e-07, 1.0596e-11, 1.5241e-05,\n",
            "        5.0772e-06, 4.5000e-12, 4.4615e-06, 6.0049e-11, 2.2792e-10, 1.7014e-05,\n",
            "        6.7951e-08, 9.5301e-07, 2.1374e-07, 5.7570e-12, 6.9692e-09, 8.8905e-06,\n",
            "        1.4452e-11, 3.7032e-08, 1.4276e-05, 2.1252e-05, 3.8762e-12, 7.0415e-06,\n",
            "        3.4788e-07, 1.0391e-11, 1.6392e-06, 2.1311e-05, 1.4133e-05, 1.7716e-06,\n",
            "        1.8970e-05, 1.2725e-05, 1.2128e-11, 1.9355e-11, 3.7479e-12, 3.6879e-08,\n",
            "        1.5979e-05, 5.8590e-06, 5.7794e-08, 1.0580e-05, 8.3609e-06, 1.1806e-05,\n",
            "        6.4650e-06, 5.5602e-08, 1.2513e-06, 4.5440e-08, 1.5930e-11, 7.5485e-06,\n",
            "        1.5942e-05, 1.0589e-05, 4.1900e-07, 1.9761e-05, 2.1407e-05, 2.5238e-11,\n",
            "        2.2480e-05, 7.5331e-06, 1.8760e-05, 1.4502e-05])}, 139900461525392: {'step': 4690, 'exp_avg': tensor([[ 5.6052e-45,  5.9859e-10, -5.6052e-45,  ..., -7.5535e-23,\n",
            "         -8.2570e-22, -1.4431e-24],\n",
            "        [-5.6052e-45,  5.6052e-45,  5.6052e-45,  ..., -9.4061e-06,\n",
            "         -6.5321e-04, -1.9733e-03],\n",
            "        [-5.6052e-45,  4.9055e-07, -5.6052e-45,  ...,  5.4969e-06,\n",
            "         -4.9657e-05, -5.3686e-06],\n",
            "        ...,\n",
            "        [ 5.6052e-45, -5.6052e-45, -5.6052e-45,  ...,  8.9802e-07,\n",
            "          1.7440e-05,  3.9829e-05],\n",
            "        [-5.6052e-45,  8.4629e-07,  5.6052e-45,  ...,  3.0286e-21,\n",
            "         -1.1601e-07, -1.0881e-09],\n",
            "        [-5.6052e-45,  5.6052e-45, -5.6052e-45,  ...,  5.6052e-45,\n",
            "          6.1732e-06,  7.2658e-05]]), 'exp_avg_sq': tensor([[3.3201e-13, 5.3940e-07, 3.7244e-08,  ..., 2.8396e-08, 2.9961e-06,\n",
            "         6.8652e-07],\n",
            "        [6.6013e-12, 4.0142e-08, 2.2513e-08,  ..., 2.0858e-06, 9.8170e-05,\n",
            "         4.5702e-05],\n",
            "        [1.3497e-12, 1.2152e-06, 1.1506e-08,  ..., 6.8172e-08, 2.0846e-05,\n",
            "         3.8204e-05],\n",
            "        ...,\n",
            "        [1.8454e-12, 4.7357e-10, 7.1464e-08,  ..., 4.1053e-08, 1.8037e-06,\n",
            "         1.4767e-06],\n",
            "        [1.3383e-13, 3.9913e-09, 4.3661e-08,  ..., 1.3015e-08, 1.8022e-06,\n",
            "         7.7080e-07],\n",
            "        [8.0929e-13, 1.0355e-07, 6.2716e-08,  ..., 3.7291e-09, 1.6681e-06,\n",
            "         2.5748e-06]])}, 139900461526112: {'step': 4690, 'exp_avg': tensor([-1.2909e-04,  2.4660e-04,  1.5988e-04,  7.3528e-05,  1.8472e-06,\n",
            "        -1.9826e-05, -2.0145e-04, -3.3048e-05, -5.6509e-04, -1.9983e-04,\n",
            "        -1.5285e-04, -4.6748e-05,  8.3083e-04, -4.4042e-06,  8.9194e-06,\n",
            "         4.8256e-04, -1.1667e-04, -1.1729e-04, -1.4312e-04,  5.7649e-04,\n",
            "         1.0127e-04, -1.6241e-06, -3.4087e-04,  2.3752e-04, -3.0360e-05,\n",
            "         3.3750e-07, -5.4022e-04, -1.5422e-05,  5.6052e-45,  3.6990e-04,\n",
            "         3.6851e-04, -4.8492e-04, -3.4300e-05, -1.4492e-05, -5.2315e-04,\n",
            "        -1.7087e-07, -1.8778e-04, -1.1772e-04,  7.2602e-04,  8.2353e-05,\n",
            "         1.1801e-04, -7.6495e-05, -6.1823e-04, -1.9737e-10, -1.3041e-04,\n",
            "        -1.8452e-03, -6.7736e-06, -5.3150e-05, -2.4154e-04,  1.1406e-04,\n",
            "         3.3539e-04, -4.8865e-04, -2.3958e-05, -4.2819e-05, -3.1120e-04,\n",
            "        -1.2215e-05, -1.8287e-04,  1.6531e-04,  9.1417e-05, -4.5539e-04,\n",
            "         1.3994e-04,  4.5136e-05,  9.5200e-06,  3.8422e-05, -1.9843e-04,\n",
            "         1.8433e-04, -9.6962e-04, -1.0862e-04,  5.6458e-04,  2.3610e-04,\n",
            "        -3.7210e-04, -6.0189e-05,  1.0946e-03, -1.0759e-05,  6.2165e-04,\n",
            "        -3.3889e-04, -1.6923e-03,  5.9440e-05,  1.8638e-05,  1.1267e-04,\n",
            "         2.4674e-04,  9.2008e-07,  1.2399e-04,  2.5901e-04, -2.0639e-04,\n",
            "        -6.7167e-04,  5.2466e-04, -2.4921e-04,  2.1985e-04,  4.2930e-04,\n",
            "        -5.4526e-05, -7.0575e-06, -1.0473e-05,  4.1598e-05,  5.5857e-05,\n",
            "        -3.4982e-05,  2.9785e-05,  1.0195e-05, -8.1172e-05, -9.5797e-05,\n",
            "         1.7819e-04,  5.3293e-04,  1.6696e-04,  3.5086e-05,  4.0574e-04,\n",
            "         4.1801e-04,  1.4045e-05,  1.3502e-04,  3.3930e-04,  5.3970e-04,\n",
            "         4.8366e-06, -2.2800e-05,  1.7637e-04, -1.3367e-04,  6.6134e-07,\n",
            "        -7.6568e-05,  2.6509e-05, -1.7254e-04,  5.7555e-04, -4.1443e-05,\n",
            "         8.4460e-05,  7.0156e-04, -2.0258e-05, -6.5623e-04, -9.8701e-05,\n",
            "        -8.1752e-05,  4.7091e-06, -1.0151e-06]), 'exp_avg_sq': tensor([7.6907e-07, 5.6437e-06, 3.1294e-06, 4.6518e-06, 6.0130e-06, 1.5373e-06,\n",
            "        1.0934e-06, 6.7901e-06, 4.5485e-06, 1.8672e-06, 5.1357e-06, 3.7233e-06,\n",
            "        1.5402e-06, 1.8828e-06, 9.2130e-07, 4.2199e-06, 5.5776e-06, 1.1961e-06,\n",
            "        6.4486e-06, 5.2119e-06, 5.0504e-06, 6.1551e-07, 5.6928e-06, 4.0122e-06,\n",
            "        3.5543e-06, 2.7474e-06, 6.1314e-06, 1.0417e-06, 9.0383e-11, 3.3043e-06,\n",
            "        5.8399e-06, 3.6004e-06, 5.0794e-07, 2.6088e-06, 4.9966e-06, 5.0437e-07,\n",
            "        4.2044e-06, 3.0332e-06, 8.4421e-06, 8.7030e-07, 4.9481e-06, 3.1368e-08,\n",
            "        5.8931e-06, 4.3666e-09, 5.1971e-06, 9.2423e-06, 6.4350e-07, 2.8997e-06,\n",
            "        2.5190e-06, 3.8955e-07, 2.1700e-06, 4.1142e-06, 3.0168e-07, 3.9488e-06,\n",
            "        1.2919e-06, 6.6820e-07, 2.9851e-06, 1.9923e-06, 1.5860e-06, 5.5307e-06,\n",
            "        5.0241e-07, 7.1609e-06, 1.2631e-06, 3.4589e-06, 3.9030e-06, 1.2609e-06,\n",
            "        6.8581e-06, 1.1345e-06, 5.5086e-06, 5.2100e-07, 3.1832e-06, 3.3962e-06,\n",
            "        3.9177e-06, 6.0988e-07, 4.0214e-06, 3.9222e-06, 4.3557e-06, 1.6606e-06,\n",
            "        9.7263e-07, 8.2460e-06, 3.2286e-06, 5.8069e-07, 2.3252e-06, 5.9235e-06,\n",
            "        4.2597e-07, 6.0506e-06, 5.4456e-06, 5.8790e-06, 2.0797e-06, 4.8118e-06,\n",
            "        6.4540e-07, 5.6915e-07, 1.6480e-07, 4.4769e-06, 1.2334e-07, 6.0121e-07,\n",
            "        1.1480e-06, 9.6727e-07, 2.4759e-06, 1.1378e-05, 2.1714e-06, 7.4186e-07,\n",
            "        4.1942e-06, 1.1270e-06, 9.1601e-07, 6.8907e-06, 4.8703e-07, 1.9495e-06,\n",
            "        2.0869e-06, 5.0826e-06, 7.2962e-07, 2.1816e-07, 4.7466e-06, 4.6380e-06,\n",
            "        1.2959e-06, 2.4143e-06, 1.1162e-06, 1.8269e-06, 4.9407e-06, 1.3954e-06,\n",
            "        7.0093e-06, 6.1579e-06, 1.3861e-06, 6.8897e-06, 1.0757e-06, 1.7799e-06,\n",
            "        3.2545e-07, 8.2589e-07])}, 139900461526040: {'step': 4690, 'exp_avg': tensor([[-3.0439e-08, -1.2409e-08,  3.4250e-04,  ..., -5.5884e-12,\n",
            "         -8.4041e-07, -5.6052e-45],\n",
            "        [ 4.3944e-40,  3.4023e-05, -1.9848e-04,  ...,  1.1912e-06,\n",
            "          3.4964e-08,  4.7000e-07],\n",
            "        [ 1.1539e-38, -4.2105e-08,  1.0535e-03,  ..., -2.6653e-07,\n",
            "         -5.0220e-07, -3.4162e-05],\n",
            "        ...,\n",
            "        [ 5.6052e-45, -3.8936e-33,  1.7960e-03,  ...,  3.6836e-08,\n",
            "          3.6358e-10, -1.0499e-06],\n",
            "        [-6.7221e-37,  5.6052e-45, -6.8850e-07,  ..., -4.7001e-26,\n",
            "          5.6052e-45, -1.4941e-31],\n",
            "        [-1.3073e-19,  3.9909e-16, -3.0864e-06,  ...,  4.5565e-09,\n",
            "         -1.1513e-06, -3.4462e-05]]), 'exp_avg_sq': tensor([[5.5368e-06, 1.3295e-06, 3.6648e-05,  ..., 4.4462e-07, 4.1638e-06,\n",
            "         3.2714e-06],\n",
            "        [1.6893e-08, 3.1863e-07, 1.0157e-04,  ..., 2.0351e-06, 9.8976e-06,\n",
            "         8.9255e-06],\n",
            "        [2.3075e-07, 7.5221e-06, 1.1583e-04,  ..., 1.7064e-06, 4.6344e-06,\n",
            "         9.6035e-06],\n",
            "        ...,\n",
            "        [8.4200e-08, 1.6446e-06, 6.8540e-05,  ..., 1.3699e-06, 8.0277e-07,\n",
            "         1.1968e-06],\n",
            "        [2.1728e-10, 3.1512e-08, 1.0583e-05,  ..., 1.3092e-06, 1.2653e-08,\n",
            "         1.5370e-09],\n",
            "        [1.7704e-06, 6.0989e-07, 1.3985e-05,  ..., 1.5147e-07, 4.0570e-07,\n",
            "         1.7411e-06]])}, 139900461525248: {'step': 4690, 'exp_avg': tensor([-2.2409e-04, -1.0514e-04, -2.2531e-05,  1.1361e-04,  2.1007e-05,\n",
            "        -7.5251e-05, -1.6207e-04, -2.6700e-05, -5.5658e-04, -3.2277e-04,\n",
            "        -4.9651e-16, -3.2694e-04,  2.3576e-04,  2.2112e-04, -6.9036e-04,\n",
            "        -3.5538e-06, -1.1465e-04,  1.7443e-04,  4.8515e-04, -6.5063e-04,\n",
            "        -3.7166e-04,  1.1352e-11,  2.0714e-07, -4.5680e-05, -5.8665e-04,\n",
            "        -1.0959e-06,  1.3370e-03, -7.2549e-04,  5.1173e-05,  5.9709e-04,\n",
            "        -9.6832e-04,  6.1406e-04, -4.4309e-04, -6.8583e-06, -6.7363e-04,\n",
            "         1.0745e-39,  6.8978e-05, -2.8864e-04, -6.5218e-07, -4.4942e-05,\n",
            "        -8.8874e-05, -2.6537e-04,  2.1660e-08, -3.9327e-04,  4.3083e-18,\n",
            "        -6.9570e-05,  1.8185e-04,  6.1726e-05,  8.5478e-10,  4.1923e-07,\n",
            "         2.6255e-04,  7.3841e-06,  1.7282e-05,  1.2687e-08,  1.2880e-04,\n",
            "        -3.3075e-05, -9.1281e-04,  7.3394e-04,  1.1153e-10,  4.5372e-04,\n",
            "         1.5997e-03,  4.6362e-04, -1.8101e-05, -8.4351e-04]), 'exp_avg_sq': tensor([4.0402e-06, 3.5730e-06, 6.8574e-06, 7.6486e-07, 1.6507e-06, 3.3100e-06,\n",
            "        6.2310e-06, 5.0227e-06, 8.1812e-06, 3.7582e-06, 2.7292e-07, 3.3632e-06,\n",
            "        3.7643e-06, 1.1877e-06, 6.9635e-06, 5.0682e-06, 2.3374e-06, 5.3952e-06,\n",
            "        1.2488e-06, 9.0824e-06, 3.4307e-06, 2.0671e-07, 6.5342e-07, 4.5825e-06,\n",
            "        3.4935e-06, 2.0613e-07, 8.4145e-06, 6.0097e-06, 2.6297e-06, 7.9023e-06,\n",
            "        1.1026e-05, 5.2180e-06, 3.0439e-06, 1.0718e-06, 4.8543e-06, 3.6846e-09,\n",
            "        4.3594e-06, 7.5386e-06, 4.8594e-07, 4.6684e-06, 6.2848e-07, 7.2960e-06,\n",
            "        5.4032e-07, 3.3385e-06, 4.4825e-07, 3.0315e-06, 6.7744e-06, 4.7726e-07,\n",
            "        6.9378e-07, 8.7345e-08, 2.4895e-06, 1.3262e-06, 1.1211e-06, 4.1199e-07,\n",
            "        3.7932e-06, 3.8700e-06, 6.2931e-06, 4.7584e-06, 1.1123e-07, 5.7224e-06,\n",
            "        7.9200e-06, 4.3516e-06, 7.1062e-07, 4.8290e-06])}, 139900461525680: {'step': 4690, 'exp_avg': tensor([[ 6.0655e-05, -1.2791e-02, -9.2147e-04,  2.1673e-05, -4.1058e-04,\n",
            "          2.2092e-04,  9.3630e-04, -8.4244e-04,  1.1652e-03, -2.9285e-02,\n",
            "          3.1146e-20,  2.5363e-05, -2.6613e-03,  7.2318e-05,  4.5017e-04,\n",
            "         -4.3325e-04,  4.0996e-07, -2.2132e-03,  6.3804e-05,  3.9406e-03,\n",
            "         -8.2670e-03,  7.2933e-12,  1.5404e-10, -4.9675e-03,  3.6926e-04,\n",
            "          2.1772e-08, -2.3323e-03,  3.3699e-04,  1.5331e-05,  1.0594e-03,\n",
            "          2.3482e-03, -2.7367e-03,  3.2953e-04,  1.3379e-06,  2.6193e-04,\n",
            "          6.3114e-42,  1.3882e-04,  9.2218e-04,  8.5543e-09,  1.8975e-03,\n",
            "          3.7938e-05, -1.7319e-03,  4.5561e-07, -3.8550e-03,  2.8505e-20,\n",
            "          6.2950e-02, -9.5540e-05,  9.2063e-06,  4.8318e-12,  2.0646e-09,\n",
            "          3.6704e-04, -1.2727e-03,  1.1521e-10,  2.3292e-08, -8.8260e-03,\n",
            "         -6.6115e-05,  4.3013e-04, -4.1527e-03,  1.2339e-20, -1.0495e-02,\n",
            "          7.0002e-04, -3.3688e-03,  2.8396e-06,  1.6550e-04],\n",
            "        [ 6.4342e-04, -7.0615e-04, -1.7810e-03,  3.9195e-05,  1.8642e-04,\n",
            "          3.3421e-04,  2.8177e-04, -1.4400e-02,  3.6164e-05,  1.5856e-04,\n",
            "          2.2252e-21,  2.1819e-04,  3.7965e-04,  1.6275e-03,  8.4986e-04,\n",
            "          3.5819e-03, -4.8866e-04,  2.3106e-03,  3.1386e-05,  1.4170e-03,\n",
            "         -4.9496e-04,  9.1555e-13,  3.0923e-09,  1.5971e-03, -1.3562e-02,\n",
            "          2.4855e-08,  1.0632e-02,  8.3045e-04, -2.3467e-04,  1.0786e-03,\n",
            "          2.4902e-03,  6.2346e-04,  4.5365e-04,  1.3266e-06,  3.2794e-04,\n",
            "          6.1097e-42, -2.6325e-03,  1.1108e-03,  2.8952e-08,  1.4671e-02,\n",
            "          2.4318e-05, -2.0775e-04,  1.5423e-06,  2.2969e-04,  4.5046e-21,\n",
            "          2.8734e-04, -9.6467e-03,  7.2479e-05,  6.7430e-11,  2.7392e-06,\n",
            "          4.4603e-02,  3.7826e-05,  9.4647e-10,  5.6905e-12, -3.3269e-03,\n",
            "          3.9343e-03,  2.8985e-03, -5.2099e-03,  6.3759e-11, -3.5141e-03,\n",
            "          1.1085e-03, -2.1191e-03,  8.5595e-06, -6.2178e-03],\n",
            "        [-1.1279e-03,  1.0543e-04,  1.6612e-03,  3.4101e-05,  2.0064e-05,\n",
            "          3.1949e-03,  1.2260e-03,  3.9997e-03,  2.9635e-03,  4.1801e-03,\n",
            "          3.0246e-18,  6.1391e-04,  1.8425e-04,  9.9576e-06, -9.1689e-04,\n",
            "          7.2249e-05,  1.9875e-05,  1.2135e-03,  1.2557e-04,  4.0164e-03,\n",
            "          5.7576e-03, -6.3479e-10, -9.9287e-07, -1.8478e-03,  1.7606e-03,\n",
            "          4.1317e-07, -1.0264e-02,  3.6387e-03, -1.1257e-02,  2.7415e-04,\n",
            "         -2.1603e-03,  1.0014e-02,  3.1992e-04,  2.4815e-06, -7.5049e-04,\n",
            "          5.8587e-41,  7.6634e-04,  4.6535e-04,  5.2662e-08,  2.2997e-03,\n",
            "          2.3940e-05,  1.5604e-03,  2.8048e-06,  2.3474e-03,  3.3118e-20,\n",
            "         -7.3655e-02,  1.3692e-03,  1.2989e-05,  7.3255e-12, -7.9618e-06,\n",
            "          2.5449e-04, -3.6612e-04,  6.9422e-10,  1.9942e-10,  7.1586e-04,\n",
            "          1.0598e-02,  2.2502e-02, -3.0736e-03,  5.1294e-11,  8.0015e-04,\n",
            "          3.7301e-03,  3.4588e-04,  4.6960e-05,  5.2406e-03],\n",
            "        [ 9.7803e-04, -5.7591e-03,  2.8518e-03, -7.3398e-05,  2.5469e-05,\n",
            "          1.7901e-03,  2.4835e-03,  3.5200e-04,  3.3197e-03, -1.0286e-03,\n",
            "          5.8132e-20,  1.9056e-04,  1.8554e-04,  3.3539e-05,  3.4421e-03,\n",
            "         -1.6499e-02,  4.6298e-05,  3.6397e-03,  2.0179e-05, -2.4890e-03,\n",
            "          2.0947e-04,  7.2090e-12,  1.2930e-08,  4.4958e-03,  2.3325e-04,\n",
            "          7.2660e-07, -5.8211e-03,  7.4462e-04,  3.0254e-02, -1.2488e-03,\n",
            "          3.8391e-03,  1.3244e-04,  1.8818e-03,  6.5810e-06,  5.2162e-04,\n",
            "          2.2190e-41, -1.9189e-03,  3.3726e-03,  1.9136e-07,  1.9461e-03,\n",
            "          5.6933e-06,  3.4045e-04,  1.0193e-05,  9.9102e-04,  2.0472e-20,\n",
            "         -1.7063e-04,  6.7598e-03,  9.5516e-05, -2.4221e-09,  4.9838e-06,\n",
            "         -4.8239e-04, -1.6009e-03,  2.7525e-10,  1.0924e-10,  3.1977e-04,\n",
            "         -1.6310e-02, -3.8442e-02,  3.0997e-02,  1.2784e-10,  6.0948e-03,\n",
            "          1.9830e-03, -1.9069e-03,  2.3035e-05,  7.5605e-04],\n",
            "        [-4.5912e-05,  4.8757e-04,  1.2643e-04,  5.5841e-05,  1.1495e-05,\n",
            "          1.3659e-04, -4.0086e-03,  1.6297e-03,  5.6420e-04,  8.8125e-04,\n",
            "          3.0042e-16,  1.9286e-04, -1.4206e-02,  3.5235e-03,  4.1370e-02,\n",
            "          2.1637e-03,  8.2001e-05,  2.1773e-03,  3.8327e-03,  6.3733e-03,\n",
            "         -1.8607e-03,  2.4579e-13,  3.5993e-08,  3.1144e-04, -1.2892e-02,\n",
            "          1.5482e-07, -9.1971e-04,  2.5765e-02,  1.8947e-05,  3.6488e-04,\n",
            "          2.5485e-02,  8.4330e-04,  1.3146e-03, -2.0034e-05, -6.5345e-03,\n",
            "          2.3262e-41,  3.1501e-03, -2.3027e-02, -7.7443e-07,  6.3521e-04,\n",
            "         -4.2126e-04, -1.5364e-02, -4.2412e-05, -1.6689e-03, -1.2324e-17,\n",
            "          3.5199e-04,  3.9292e-02, -6.4763e-04,  1.5920e-10,  1.0208e-07,\n",
            "         -2.6229e-03,  2.8661e-05,  1.1051e-08,  5.4056e-12, -1.3071e-02,\n",
            "         -3.2830e-04,  6.1126e-03,  4.1686e-04,  1.8591e-10,  4.6347e-04,\n",
            "          1.2427e-02,  1.2250e-04,  3.1720e-06,  7.9513e-03],\n",
            "        [ 8.6165e-04,  1.1891e-02, -5.9651e-03,  6.7274e-05, -1.2139e-04,\n",
            "          5.6340e-04, -1.7675e-02,  1.5725e-03, -1.5175e-02,  2.0766e-02,\n",
            "          4.0862e-14,  1.1383e-04, -8.0797e-03,  1.2325e-05,  6.3148e-03,\n",
            "          3.5843e-03,  4.1690e-06,  8.0564e-04, -3.6879e-03,  8.4207e-03,\n",
            "          2.3316e-04,  1.0453e-13,  1.6824e-09,  5.8055e-04,  1.8235e-03,\n",
            "         -7.2947e-06, -6.8145e-04, -5.1994e-03, -1.8644e-02, -4.0514e-03,\n",
            "         -1.8055e-04,  1.0952e-03, -1.9157e-04,  2.1720e-06,  6.6323e-04,\n",
            "          4.0198e-41,  5.6886e-04, -6.1873e-03,  6.8599e-08,  1.6068e-03,\n",
            "          1.8089e-05,  3.1182e-04,  3.8937e-06,  1.5155e-03,  2.0718e-20,\n",
            "          1.2753e-02, -1.5339e-02,  6.1533e-05,  2.4695e-09,  4.0058e-09,\n",
            "          5.7953e-04,  1.7506e-03, -2.6567e-05, -2.5048e-08,  3.4162e-03,\n",
            "          5.8968e-04,  6.1135e-04, -2.0262e-02,  3.2702e-15, -9.9731e-05,\n",
            "          1.3353e-03,  6.3181e-03,  4.5248e-06,  3.0445e-04],\n",
            "        [ 8.3590e-05,  1.5211e-03,  8.4773e-04,  1.7138e-05,  6.4443e-04,\n",
            "         -9.4895e-03,  7.9392e-03,  2.7951e-03,  3.9809e-03,  5.4222e-03,\n",
            "          2.7446e-20,  2.6707e-05,  2.2772e-02,  1.2406e-06,  1.4238e-04,\n",
            "          2.3956e-03,  2.8610e-07,  7.5274e-04,  4.0841e-05,  9.5999e-04,\n",
            "          3.0001e-03,  3.2045e-14,  1.5596e-11,  1.4300e-04,  1.6838e-02,\n",
            "          1.4031e-07, -2.4844e-03,  5.2618e-04,  9.2018e-07, -1.6985e-04,\n",
            "          8.8030e-04, -1.3556e-03, -5.0838e-03,  6.1005e-08,  5.1764e-03,\n",
            "          3.7975e-43,  2.9285e-05,  1.1486e-04,  2.3927e-10, -1.8018e-02,\n",
            "          5.3103e-06,  1.8788e-02,  9.3153e-07, -1.5259e-03,  7.4597e-25,\n",
            "         -5.0114e-03,  4.8150e-04,  1.1210e-06, -2.8871e-10,  3.5563e-09,\n",
            "         -4.3094e-02,  7.8910e-05,  2.6555e-05,  1.5047e-10,  1.9773e-02,\n",
            "          2.1260e-04,  2.6984e-04,  2.5723e-04,  3.0052e-22,  9.8502e-05,\n",
            "         -9.6666e-04,  4.8448e-05,  3.6815e-07,  6.8641e-05],\n",
            "        [-3.0544e-03,  3.7554e-04,  1.9600e-04, -2.3234e-04,  5.2573e-07,\n",
            "          2.4601e-04,  3.1509e-05,  1.3949e-03,  3.9377e-04, -6.7361e-03,\n",
            "          2.6346e-21, -1.2944e-03,  9.5232e-05,  9.0406e-06,  7.2170e-03,\n",
            "          2.8510e-03, -2.4961e-04,  1.4493e-03,  5.4571e-05,  7.2805e-03,\n",
            "          3.2949e-04,  6.1733e-10,  4.8037e-07,  1.5017e-02,  4.9188e-03,\n",
            "          5.0866e-07, -9.1993e-03,  4.7141e-03, -2.8186e-04,  3.5682e-04,\n",
            "          4.1818e-03, -9.4393e-03,  1.5570e-04, -2.0763e-06,  5.3853e-04,\n",
            "         -2.0982e-40,  5.1340e-05,  2.8537e-03,  6.5580e-08,  3.8495e-03,\n",
            "          9.7204e-05,  2.1208e-04,  3.4928e-06,  2.7584e-04,  1.1974e-17,\n",
            "          4.2425e-04, -4.9946e-03,  1.0017e-04,  1.4705e-12,  1.2567e-07,\n",
            "         -1.2158e-04,  6.3444e-04,  3.7228e-11,  4.3327e-10,  2.6831e-04,\n",
            "          5.1502e-04,  2.3114e-03,  9.1195e-04, -7.4339e-10,  1.1900e-03,\n",
            "          9.0714e-03,  1.3563e-04, -1.1799e-04, -1.1163e-02],\n",
            "        [ 4.6634e-04,  1.6397e-03,  1.1240e-03,  2.6158e-05, -3.5681e-04,\n",
            "          2.5724e-03,  6.3749e-03,  1.5753e-03,  1.5058e-03,  2.0195e-03,\n",
            "          1.0866e-20,  4.2717e-05,  2.6325e-04,  2.5235e-04,  1.4457e-03,\n",
            "          1.9416e-03,  9.8937e-07,  9.1179e-04,  9.9483e-05, -2.5729e-04,\n",
            "          9.2125e-04,  2.8425e-13,  1.1911e-09,  6.8082e-04,  1.3983e-03,\n",
            "          1.7459e-07,  2.3272e-02,  1.2354e-03,  4.7895e-05,  5.0578e-03,\n",
            "          1.6723e-03, -7.3700e-04,  4.8377e-04,  1.2666e-06, -2.8294e-04,\n",
            "          2.3780e-42, -2.1041e-04,  9.5778e-04,  3.1583e-08, -6.5431e-03,\n",
            "          1.9087e-05, -4.9716e-03,  1.6822e-06,  2.4183e-03,  1.0229e-22,\n",
            "          1.7014e-03,  1.1845e-03,  8.0721e-05,  8.8632e-11,  1.0727e-09,\n",
            "          7.4483e-04,  3.1628e-04, -3.2164e-10,  3.9585e-10,  3.1032e-04,\n",
            "          5.6509e-04,  1.5096e-03,  3.7662e-04,  2.1429e-17,  2.6395e-04,\n",
            "          2.1676e-03,  2.2728e-04,  2.4134e-05,  7.8617e-04],\n",
            "        [ 1.1345e-03,  3.2359e-03,  1.8605e-03,  4.4360e-05,  3.6574e-07,\n",
            "          4.3105e-04,  2.4107e-03,  1.9232e-03,  1.2456e-03,  3.6221e-03,\n",
            "          2.1307e-21, -1.2978e-04,  1.0668e-03, -5.5418e-03, -6.0315e-02,\n",
            "          3.4172e-04,  5.8420e-04, -1.1047e-02, -5.8058e-04, -2.9662e-02,\n",
            "          1.7160e-04,  1.3778e-12,  4.5743e-07, -1.6010e-02, -8.8802e-04,\n",
            "          5.1299e-06, -2.2019e-03, -3.2592e-02,  7.9672e-05, -2.7215e-03,\n",
            "         -3.8556e-02,  1.5604e-03,  3.3649e-04,  6.8843e-06,  7.8335e-05,\n",
            "          5.0396e-41,  5.7114e-05,  1.9418e-02,  3.2690e-07, -2.3451e-03,\n",
            "          1.8968e-04,  1.0626e-03,  1.7417e-05, -7.2778e-04,  2.4169e-19,\n",
            "          3.6981e-04, -1.9011e-02,  2.1390e-04,  9.0513e-11,  3.2138e-10,\n",
            "         -2.2816e-04,  3.9303e-04,  1.0763e-11,  4.5653e-10,  4.2132e-04,\n",
            "          2.8941e-04,  1.7965e-03, -2.6072e-04,  3.2005e-10,  5.1979e-03,\n",
            "         -3.1556e-02,  1.9705e-04,  4.4002e-06,  2.1080e-03]]), 'exp_avg_sq': tensor([[2.4164e-05, 1.5559e-04, 4.9004e-04, 4.2817e-03, 4.2696e-03, 5.6991e-05,\n",
            "         7.0878e-04, 2.2812e-03, 4.1725e-04, 1.0499e-02, 1.2936e-05, 8.0487e-04,\n",
            "         1.0903e-02, 5.0636e-06, 6.3305e-05, 7.6545e-04, 6.0395e-05, 3.6449e-04,\n",
            "         1.1528e-05, 4.7764e-04, 1.1837e-02, 4.2758e-06, 2.2903e-06, 1.3890e-04,\n",
            "         3.8392e-04, 1.6142e-06, 6.0205e-04, 2.6468e-05, 7.2946e-06, 3.0632e-04,\n",
            "         2.9315e-04, 2.2921e-04, 9.0373e-04, 3.9224e-05, 2.0212e-04, 2.8421e-10,\n",
            "         1.9488e-04, 1.4723e-04, 1.0936e-04, 8.0113e-05, 2.1675e-05, 1.5725e-03,\n",
            "         1.4320e-04, 7.7003e-03, 5.7100e-06, 1.0897e-02, 9.5812e-05, 2.5235e-05,\n",
            "         1.6631e-05, 1.4318e-06, 9.2698e-05, 2.4159e-04, 1.5199e-05, 2.6125e-06,\n",
            "         8.6782e-04, 3.5281e-04, 6.5236e-05, 1.3798e-03, 9.2791e-08, 1.5916e-04,\n",
            "         9.3519e-05, 9.0455e-05, 1.1131e-05, 1.2766e-03],\n",
            "        [3.8587e-04, 1.4561e-04, 1.3880e-04, 1.7641e-05, 1.3557e-04, 6.7983e-03,\n",
            "         8.5566e-03, 3.0924e-04, 2.6288e-04, 2.4972e-05, 5.4221e-06, 1.4623e-04,\n",
            "         2.8628e-05, 1.6132e-04, 9.1792e-05, 2.5228e-03, 6.9330e-03, 5.2217e-04,\n",
            "         2.0897e-05, 3.0695e-04, 4.2437e-05, 6.0857e-06, 8.2916e-06, 5.9907e-04,\n",
            "         2.1935e-04, 5.2916e-07, 7.7861e-03, 1.3107e-04, 4.8548e-05, 6.3602e-04,\n",
            "         3.9591e-04, 5.4950e-04, 8.4956e-05, 5.5988e-06, 1.6118e-04, 1.4550e-11,\n",
            "         3.7867e-03, 9.7725e-05, 4.9165e-07, 7.7912e-03, 2.6635e-06, 5.5492e-04,\n",
            "         6.8113e-05, 2.1415e-04, 4.1019e-07, 1.1067e-04, 8.8134e-03, 1.5215e-04,\n",
            "         8.7193e-06, 1.1796e-06, 7.8883e-03, 9.6584e-06, 5.7494e-05, 1.5763e-05,\n",
            "         1.4339e-04, 3.8076e-03, 4.4477e-03, 1.6352e-04, 3.9365e-07, 5.3115e-04,\n",
            "         3.2113e-04, 1.9658e-04, 5.0106e-06, 2.9971e-03],\n",
            "        [8.7349e-04, 2.3135e-04, 2.6037e-04, 8.6410e-06, 7.6225e-04, 7.8016e-04,\n",
            "         8.6167e-04, 1.2492e-03, 3.8084e-04, 5.5150e-04, 7.7308e-06, 3.1419e-04,\n",
            "         1.8014e-03, 5.4168e-06, 3.2804e-05, 1.5210e-02, 1.8171e-04, 1.1814e-02,\n",
            "         7.8643e-05, 6.6446e-04, 6.4680e-04, 9.3659e-05, 5.1863e-04, 1.1150e-02,\n",
            "         6.9256e-04, 2.6569e-05, 1.5326e-02, 6.4267e-04, 3.4477e-04, 2.5281e-03,\n",
            "         4.6229e-04, 3.1563e-03, 5.0051e-05, 1.5863e-04, 2.2743e-03, 9.8059e-07,\n",
            "         1.2086e-02, 8.6680e-05, 3.5019e-05, 4.5565e-04, 9.2292e-05, 1.5800e-03,\n",
            "         2.9017e-05, 1.3727e-03, 6.8679e-06, 6.3272e-03, 7.8440e-04, 3.1849e-05,\n",
            "         3.4480e-05, 1.5630e-05, 3.4464e-04, 4.5204e-05, 3.0621e-03, 1.6238e-06,\n",
            "         3.5814e-03, 7.5220e-03, 2.9363e-03, 1.3859e-03, 4.6726e-06, 8.8095e-04,\n",
            "         2.9528e-03, 1.9689e-03, 1.8962e-04, 6.4042e-04],\n",
            "        [1.6313e-03, 5.7322e-03, 1.2792e-02, 1.2909e-05, 7.4644e-05, 2.7810e-04,\n",
            "         2.1825e-03, 6.4218e-05, 3.1835e-03, 1.1975e-03, 7.9596e-06, 2.0242e-04,\n",
            "         2.0739e-04, 1.0373e-06, 1.3368e-03, 2.7470e-03, 3.8988e-04, 4.6680e-03,\n",
            "         3.8751e-05, 4.5940e-03, 1.4962e-04, 1.6152e-04, 2.2023e-04, 5.1635e-03,\n",
            "         6.4286e-05, 9.9271e-06, 5.5220e-03, 9.1891e-05, 2.0917e-03, 5.1408e-03,\n",
            "         1.1389e-03, 5.9105e-04, 2.6039e-03, 1.1157e-04, 1.7617e-04, 1.6455e-11,\n",
            "         5.1003e-03, 6.9596e-04, 3.7354e-05, 1.6628e-04, 7.4673e-05, 5.3079e-04,\n",
            "         1.8227e-05, 2.0775e-04, 1.0798e-06, 2.2224e-03, 4.2448e-04, 3.2899e-05,\n",
            "         2.2465e-06, 4.6429e-06, 1.2599e-04, 6.5327e-04, 4.7178e-06, 1.5826e-05,\n",
            "         1.0118e-03, 1.8432e-03, 1.2135e-02, 4.9859e-03, 5.5584e-06, 1.5345e-02,\n",
            "         6.4265e-03, 5.6669e-03, 4.7562e-05, 4.9257e-04],\n",
            "        [3.3014e-04, 4.8402e-05, 4.1317e-05, 6.2709e-06, 9.0085e-04, 2.3317e-04,\n",
            "         1.1321e-03, 4.9914e-03, 1.4513e-04, 4.8733e-05, 1.4850e-05, 3.6200e-03,\n",
            "         1.9137e-03, 1.8203e-05, 3.6546e-03, 4.3683e-04, 1.3802e-04, 6.5039e-04,\n",
            "         6.0821e-04, 1.5325e-03, 2.4236e-04, 7.1910e-06, 2.1294e-04, 3.5259e-04,\n",
            "         4.8553e-03, 3.2577e-05, 3.2449e-04, 7.9946e-03, 6.4820e-07, 1.8158e-04,\n",
            "         9.2142e-03, 2.2787e-04, 8.3153e-05, 9.6754e-05, 7.4774e-03, 9.8169e-07,\n",
            "         3.5174e-04, 8.7753e-03, 3.8230e-05, 5.7265e-03, 3.4879e-05, 5.3198e-03,\n",
            "         4.6136e-04, 5.1934e-03, 4.3138e-06, 2.3609e-04, 1.5536e-02, 2.5896e-05,\n",
            "         1.3583e-03, 3.5339e-07, 3.6742e-04, 7.7368e-06, 3.8906e-05, 9.8683e-06,\n",
            "         1.9202e-03, 1.8554e-04, 2.8577e-04, 1.0176e-04, 9.7532e-07, 1.7562e-05,\n",
            "         1.1038e-03, 7.7931e-06, 1.3094e-05, 7.2228e-04],\n",
            "        [3.1145e-04, 7.3497e-03, 1.5531e-02, 4.4441e-03, 3.8136e-03, 4.9348e-04,\n",
            "         1.8772e-02, 2.0943e-03, 1.2333e-02, 1.1015e-02, 7.4249e-06, 3.2444e-04,\n",
            "         2.4073e-03, 2.9479e-07, 1.8238e-03, 3.6008e-04, 1.9831e-04, 1.9424e-04,\n",
            "         5.2191e-05, 4.7311e-03, 2.9817e-03, 1.9319e-06, 5.5457e-06, 6.3013e-04,\n",
            "         2.3417e-04, 1.7613e-06, 6.3445e-04, 1.6621e-04, 9.7612e-04, 1.3269e-03,\n",
            "         5.1305e-04, 2.3724e-04, 8.8587e-03, 1.1898e-04, 8.9317e-04, 2.6590e-09,\n",
            "         1.3051e-04, 2.7351e-04, 7.1842e-06, 5.0460e-04, 4.7999e-06, 6.8255e-03,\n",
            "         5.3463e-04, 3.9659e-04, 3.3184e-07, 8.5956e-04, 4.3205e-04, 3.6133e-05,\n",
            "         1.8923e-04, 4.9614e-06, 3.3949e-04, 1.0495e-03, 2.0700e-04, 1.1520e-05,\n",
            "         2.8843e-03, 1.8133e-04, 5.6089e-03, 1.8066e-03, 2.0722e-06, 1.1993e-02,\n",
            "         7.4974e-04, 2.7766e-03, 4.6744e-05, 1.6356e-04],\n",
            "        [2.6879e-05, 6.1430e-04, 8.0586e-04, 6.8625e-06, 6.3279e-03, 4.8947e-04,\n",
            "         1.9013e-02, 1.2145e-02, 1.2341e-03, 1.8458e-03, 5.7258e-05, 1.1582e-04,\n",
            "         1.4309e-02, 6.4429e-07, 4.7125e-05, 7.6980e-03, 3.2862e-05, 2.4731e-04,\n",
            "         4.6082e-05, 3.2475e-04, 1.9050e-03, 4.7876e-06, 2.5992e-06, 2.3457e-05,\n",
            "         1.0385e-03, 4.0828e-06, 4.9824e-04, 4.5297e-04, 1.2199e-05, 1.3741e-04,\n",
            "         1.2760e-04, 1.6559e-04, 2.2031e-03, 2.0861e-06, 2.2734e-03, 7.5066e-11,\n",
            "         8.8238e-04, 2.3420e-05, 6.7687e-06, 9.3732e-04, 5.4162e-06, 1.5915e-02,\n",
            "         1.3420e-03, 2.3563e-03, 6.8302e-07, 2.2981e-03, 1.7282e-04, 8.3618e-05,\n",
            "         1.2795e-03, 4.1999e-06, 1.7416e-03, 3.0051e-04, 3.3097e-03, 1.2884e-06,\n",
            "         8.1157e-03, 1.3881e-04, 2.3500e-05, 1.7407e-04, 2.2427e-07, 1.6615e-05,\n",
            "         6.9270e-06, 5.4169e-06, 1.9349e-05, 4.5128e-06],\n",
            "        [5.0843e-03, 1.2056e-05, 7.7608e-05, 4.4238e-07, 3.6010e-05, 7.6961e-04,\n",
            "         4.6192e-04, 1.4441e-04, 7.4425e-05, 1.9038e-03, 5.2849e-06, 4.1401e-03,\n",
            "         3.4912e-04, 6.1149e-06, 1.7145e-03, 1.4852e-03, 1.3541e-03, 8.4019e-03,\n",
            "         9.8086e-05, 1.4835e-02, 1.6850e-03, 1.6450e-04, 6.5570e-04, 1.1556e-02,\n",
            "         9.1652e-04, 1.3033e-05, 1.5697e-03, 1.3320e-03, 2.8942e-04, 8.6521e-05,\n",
            "         2.2637e-03, 7.3743e-04, 2.0854e-04, 1.0903e-03, 5.9329e-04, 3.3587e-09,\n",
            "         1.1817e-03, 2.2900e-03, 8.7853e-05, 1.0963e-03, 3.2603e-04, 3.6227e-05,\n",
            "         1.8476e-04, 9.6693e-04, 6.4800e-06, 2.8987e-04, 3.5510e-03, 4.4714e-05,\n",
            "         2.1768e-06, 1.2286e-05, 3.2108e-03, 1.9310e-04, 4.4242e-05, 2.5936e-06,\n",
            "         3.5847e-05, 2.5237e-03, 1.4915e-03, 1.8955e-04, 1.6115e-05, 4.8602e-04,\n",
            "         1.1438e-02, 1.4020e-04, 2.5649e-04, 6.1717e-03],\n",
            "        [1.0891e-04, 7.6459e-04, 1.2062e-03, 2.6042e-06, 5.1874e-04, 5.0040e-03,\n",
            "         3.8758e-03, 1.7160e-03, 1.0466e-02, 1.2049e-03, 1.4538e-05, 8.4335e-05,\n",
            "         5.5011e-04, 1.5327e-04, 5.6150e-04, 8.3712e-04, 5.7238e-03, 3.1252e-04,\n",
            "         1.4978e-05, 7.8303e-04, 6.0714e-04, 1.3621e-05, 4.1742e-06, 2.5527e-04,\n",
            "         1.1156e-04, 4.3493e-07, 8.8517e-03, 1.2171e-04, 5.6126e-04, 6.3933e-03,\n",
            "         5.8039e-03, 4.5366e-03, 2.9123e-03, 2.5333e-06, 2.8578e-04, 4.6301e-10,\n",
            "         3.8033e-04, 6.2766e-04, 2.9803e-06, 1.1533e-03, 5.8022e-07, 6.4181e-03,\n",
            "         6.5587e-05, 5.5509e-04, 8.7293e-07, 1.4502e-03, 1.2992e-03, 1.5177e-04,\n",
            "         3.4890e-06, 3.8776e-06, 1.9870e-03, 1.1059e-04, 3.4291e-05, 2.2495e-07,\n",
            "         4.5465e-04, 4.1793e-04, 8.5964e-04, 1.3323e-03, 3.5328e-07, 4.8181e-04,\n",
            "         4.1762e-04, 2.4789e-04, 1.1756e-05, 1.2546e-04],\n",
            "        [2.2024e-03, 2.9902e-04, 1.9882e-03, 1.8885e-05, 9.8413e-06, 3.6813e-04,\n",
            "         6.4192e-04, 5.0374e-04, 7.0906e-04, 2.1616e-03, 8.7569e-06, 1.1760e-03,\n",
            "         1.1912e-03, 3.7721e-05, 8.6972e-03, 1.7531e-05, 2.6118e-04, 6.7387e-04,\n",
            "         4.6890e-04, 1.5202e-02, 5.4383e-03, 6.6620e-06, 1.9690e-04, 1.8621e-03,\n",
            "         1.6581e-03, 1.1339e-05, 2.8631e-04, 7.0603e-03, 1.3334e-05, 1.0759e-03,\n",
            "         1.5021e-02, 3.3081e-04, 6.6050e-04, 6.8880e-04, 2.8214e-03, 4.5196e-10,\n",
            "         4.2421e-05, 1.2701e-02, 4.4204e-05, 7.8267e-04, 9.9904e-05, 3.1756e-04,\n",
            "         1.0566e-04, 3.2786e-03, 6.5071e-06, 2.0823e-03, 1.2363e-02, 2.8420e-06,\n",
            "         6.0493e-06, 1.4831e-06, 2.7018e-04, 4.4944e-05, 3.4502e-05, 2.0980e-05,\n",
            "         1.6774e-04, 3.1850e-05, 1.8613e-03, 1.0287e-03, 6.3262e-06, 1.1435e-03,\n",
            "         4.6527e-03, 2.1994e-04, 1.7640e-05, 6.2338e-03]])}, 139900461525608: {'step': 4690, 'exp_avg': tensor([-1.3817e-03, -1.5057e-03,  5.2111e-03,  1.2903e-03,  4.3707e-03,\n",
            "        -8.3946e-05, -1.6424e-03, -1.2887e-03,  5.8877e-04, -5.5585e-03]), 'exp_avg_sq': tensor([1.1082e-04, 9.8747e-05, 2.1626e-04, 2.3502e-04, 1.9139e-04, 2.0084e-04,\n",
            "        1.3883e-04, 1.6299e-04, 2.7077e-04, 2.8351e-04])}}\n",
            "param_groups \t [{'lr': 0.01, 'betas': (0.9, 0.999), 'eps': 1e-08, 'weight_decay': 0, 'amsgrad': False, 'params': [139900461526256, 139900461526328, 139900461525392, 139900461526112, 139900461526040, 139900461525248, 139900461525680, 139900461525608]}]\n"
          ],
          "name": "stdout"
        }
      ]
    },
    {
      "cell_type": "markdown",
      "metadata": {
        "colab_type": "text",
        "id": "gjnCMjxF5_R8"
      },
      "source": [
        "#  Try Running the below codes on  Kaggle Kernel\n",
        "\n",
        "[Check for reference](https://www.kaggle.com/u6yuvi/digit-recognizer-pytorch/output?scriptVersionId=16485375)"
      ]
    },
    {
      "cell_type": "markdown",
      "metadata": {
        "_uuid": "98bee7eaf09d225730006f2b24ca5662d28cfb65",
        "colab_type": "text",
        "id": "BSWPI5_K4DCk"
      },
      "source": [
        "# Kaggle- Multilayered Perceptron (MLP) implemention on MNIST dataset\n",
        "Untill now we were using the MNIST dataset that is available in torchvision.dataset.Let us now load the dataset from Kaggle repo and train our model"
      ]
    },
    {
      "cell_type": "code",
      "metadata": {
        "_uuid": "4e83a9e422c10eb07cbfb779be01803d2b8a5334",
        "colab_type": "code",
        "id": "DtAM0yxR4DCl",
        "colab": {}
      },
      "source": [
        "import os\n",
        "from pathlib import Path\n",
        "import torch\n",
        "from torch.utils.data import TensorDataset ,DataLoader\n",
        "from torch import nn,optim\n",
        "import torch.nn.functional as F\n",
        "import numpy as np\n",
        "import pandas as pd\n",
        "from sklearn.model_selection import train_test_split\n",
        "PATH=Path(\"../input/digit-recognizer\")\n",
        "print(os.listdir(\"../input/digit-recognizer\"))"
      ],
      "execution_count": 0,
      "outputs": []
    },
    {
      "cell_type": "markdown",
      "metadata": {
        "_uuid": "661e23266c2c882d34cdae4c9074d26c0d2ac040",
        "colab_type": "text",
        "id": "Gj48dSJg4DCm"
      },
      "source": [
        "## Load Data "
      ]
    },
    {
      "cell_type": "code",
      "metadata": {
        "_uuid": "72b61aac15c29fc295d77130b07d1110c9cb1825",
        "colab_type": "code",
        "id": "mdn255g54DCm",
        "colab": {}
      },
      "source": [
        "train=pd.read_csv(PATH/'train.csv')\n",
        "test=pd.read_csv(PATH/'test.csv')\n",
        "train.shape,test.shape"
      ],
      "execution_count": 0,
      "outputs": []
    },
    {
      "cell_type": "markdown",
      "metadata": {
        "_uuid": "6d5eb02dbfc5e385ffd113560494e0b2275e5f66",
        "colab_type": "text",
        "id": "Hf9bGVDH4DCn"
      },
      "source": [
        "## Extracting Input and Target Variable"
      ]
    },
    {
      "cell_type": "code",
      "metadata": {
        "_uuid": "858a074c0e1dea92562d0f1bd93ff5302f861643",
        "colab_type": "code",
        "id": "XF2vEl_t4DCo",
        "colab": {}
      },
      "source": [
        "x=train.drop(\"label\",axis=1)\n",
        "y=np.array(train['label'])\n",
        "x.shape,y.shape"
      ],
      "execution_count": 0,
      "outputs": []
    },
    {
      "cell_type": "markdown",
      "metadata": {
        "_uuid": "387109d77b8c6f76d4de868158340faf1a38b2dc",
        "colab_type": "text",
        "id": "TUVHsCvR4DCp"
      },
      "source": [
        "## Normalization "
      ]
    },
    {
      "cell_type": "code",
      "metadata": {
        "_uuid": "b8ff683f50227c31ee39ec05a7bb8b4e2a8c5f94",
        "colab_type": "code",
        "id": "BFgs691V4DCp",
        "colab": {}
      },
      "source": [
        "#x_train=x/255"
      ],
      "execution_count": 0,
      "outputs": []
    },
    {
      "cell_type": "markdown",
      "metadata": {
        "_uuid": "614e6245bdf2e3372dca00d5111b3fbe8e993a64",
        "colab_type": "text",
        "id": "R5TxccEk4DCq"
      },
      "source": [
        "## Train Test Split"
      ]
    },
    {
      "cell_type": "code",
      "metadata": {
        "_uuid": "65e189e8b8c6232146d0dde1fceb773353ad8389",
        "colab_type": "code",
        "id": "iPIQfMjR4DCr",
        "colab": {}
      },
      "source": [
        "#x_train, x_test, y_train, y_test = train_test_split(x, y, test_size=0.15)"
      ],
      "execution_count": 0,
      "outputs": []
    },
    {
      "cell_type": "markdown",
      "metadata": {
        "_uuid": "8f37069db924850a07cd3e98378ae9c61bab1f8f",
        "colab_type": "text",
        "id": "0c7XjTMH4DCs"
      },
      "source": [
        "## Train Test in Pytorch"
      ]
    },
    {
      "cell_type": "code",
      "metadata": {
        "_uuid": "709aaea373c664fad6fd42d8779ae091145b8308",
        "colab_type": "code",
        "id": "Jst9e0mK4DCs",
        "colab": {}
      },
      "source": [
        "'''\n",
        "# create feature and targets tensor for train set.\n",
        "torch_X_train = torch.from_numpy(x_train.values).type(torch.FloatTensor)\n",
        "torch_y_train = torch.from_numpy(y_train).type(torch.LongTensor)\n",
        "\n",
        "# create feature and targets tensor for test set.\n",
        "torch_X_test = torch.from_numpy(x_test.values).type(torch.FloatTensor)\n",
        "torch_y_test = torch.from_numpy(y_test).type(torch.LongTensor)\n",
        "\n",
        "# Pytorch train and test sets\n",
        "train = torch.utils.data.TensorDataset(torch_X_train,torch_y_train)\n",
        "test = torch.utils.data.TensorDataset(torch_X_test,torch_y_test)\n",
        "'''"
      ],
      "execution_count": 0,
      "outputs": []
    },
    {
      "cell_type": "code",
      "metadata": {
        "_uuid": "80525db377fe319e7a3fc538ef8b76639c28c995",
        "colab_type": "code",
        "id": "Rk2ZdrHj4DCu",
        "colab": {}
      },
      "source": [
        "'''\n",
        "BATCH_SIZE=64\n",
        "# data loader\n",
        "train_loader = torch.utils.data.DataLoader(train, batch_size = BATCH_SIZE, shuffle = False)\n",
        "test_loader = torch.utils.data.DataLoader(test, batch_size = BATCH_SIZE, shuffle = False)\n",
        "'''"
      ],
      "execution_count": 0,
      "outputs": []
    },
    {
      "cell_type": "markdown",
      "metadata": {
        "_uuid": "454f4fb8e0a416e60aed471a49850c01a64a77e6",
        "colab_type": "text",
        "id": "0ZOWCRtq4DCw"
      },
      "source": [
        "## Train -Test Split -Pytorch"
      ]
    },
    {
      "cell_type": "code",
      "metadata": {
        "_uuid": "d616496f4e453322efe8aecfa71b17fcdddaa8dd",
        "colab_type": "code",
        "id": "ni3rH-Pi4DCw",
        "colab": {}
      },
      "source": [
        "torch_X_train = torch.from_numpy(x.values).type(torch.FloatTensor)/255\n",
        "torch_y_train = torch.from_numpy(y).type(torch.LongTensor)\n",
        "myDataset = torch.utils.data.TensorDataset(torch_X_train,torch_y_train)\n",
        "valid_no  = int(0.2 * len(myDataset))\n",
        "# so divide the data into trainset and testset\n",
        "trainSet,testSet = torch.utils.data.random_split(myDataset,(len(myDataset)-valid_no,valid_no))\n",
        "print(f\"len of trainSet {len(trainSet)} , len of testSet {len(testSet)}\")\n",
        "batch_size=64\n",
        "train_loader  = DataLoader(trainSet , batch_size=batch_size ,shuffle=True) \n",
        "test_loader  = DataLoader(testSet , batch_size=batch_size ,shuffle=True)"
      ],
      "execution_count": 0,
      "outputs": []
    },
    {
      "cell_type": "markdown",
      "metadata": {
        "_uuid": "a06249ad57104d74d0258fd5972961f720bdc3cf",
        "colab_type": "text",
        "id": "DhlKN0Y34DCy"
      },
      "source": [
        "trainData = torch.from_numpy(x_train.values)\n",
        "trainLabel=torch.from_numpy(y_train)\n",
        "testData = torch.from_numpy(x_test.values)\n",
        "testLabel = torch.from_numpy(y_test)\n",
        "trainData, testData = trainData.type(torch.FloatTensor), testData.type(torch.LongTensor)\n",
        "trainLabel, testLabel = trainLabel.type(torch.FloatTensor), testLabel.type(torch.LongTensor)\n",
        "trainData.shape,testData.shape\n",
        "trainData = trainData.unsqueeze_(dim=1)\n",
        "testData = testData.unsqueeze_(dim=1)\n",
        "trainData.shape,testData.shape\n",
        "transforms =transforms.Compose(transforms.ToTensor())\n",
        "train_dataset = TensorDataset(trainData,trainLabel)\n",
        "train_loader = DataLoader(train_dataset,batch_size=64,shuffle=True)\n",
        "\n",
        "test_dataset = TensorDataset(testData,testLabel)\n",
        "test_loader = DataLoader(test_dataset,batch_size=64,shuffle=True)"
      ]
    },
    {
      "cell_type": "markdown",
      "metadata": {
        "_uuid": "97b2925a24f59b10a16864a76f00e02a4c92b36f",
        "colab_type": "text",
        "id": "_hGrdIVq4DCy"
      },
      "source": [
        "## Network"
      ]
    },
    {
      "cell_type": "code",
      "metadata": {
        "_uuid": "8cbe1c508bacadbb875014318a35fed17ab6a3a1",
        "colab_type": "code",
        "id": "nW1wypfS4DCy",
        "colab": {}
      },
      "source": [
        "class Network(nn.Module):\n",
        "    def __init__(self):\n",
        "        super().__init__()\n",
        "        self.fc1 = nn.Linear(784, 256)\n",
        "        self.fc2 = nn.Linear(256, 128)\n",
        "        self.fc3 = nn.Linear(128, 64)\n",
        "        self.fc4 = nn.Linear(64, 10)\n",
        "\n",
        "        # Dropout module with 0.2 drop probability\n",
        "        self.dropout = nn.Dropout(p=0.2)\n",
        "\n",
        "    def forward(self, x):\n",
        "        # make sure input tensor is flattened\n",
        "        x = x.view(x.shape[0], -1)\n",
        "\n",
        "        # Now with dropout\n",
        "        x = self.dropout(F.relu(self.fc1(x)))\n",
        "        x = self.dropout(F.relu(self.fc2(x)))\n",
        "        x = self.dropout(F.relu(self.fc3(x)))\n",
        "\n",
        "        # output so no dropout here\n",
        "        x = F.log_softmax(self.fc4(x), dim=1)\n",
        "\n",
        "        return x\n",
        "        \n",
        "model=Network()\n",
        "optimizer=optim.Adam(model.parameters(),lr=0.01)\n",
        "criterion=nn.NLLLoss()"
      ],
      "execution_count": 0,
      "outputs": []
    },
    {
      "cell_type": "markdown",
      "metadata": {
        "_uuid": "2bea512cd5bd9f4f41bd77044f471e644505a5fa",
        "colab_type": "text",
        "id": "wr91w0-X4DCz"
      },
      "source": [
        "## Train "
      ]
    },
    {
      "cell_type": "code",
      "metadata": {
        "_uuid": "2df4882ed86f9b17b4bba52d56adfde46d1f718d",
        "colab_type": "code",
        "id": "9x_1PS6x4DC0",
        "colab": {}
      },
      "source": [
        "epochs=5\n",
        "train_losses,test_losses=[],[]\n",
        "for e in range(epochs):\n",
        "    running_loss=0\n",
        "    for images,labels in train_loader:\n",
        "        optimizer.zero_grad()\n",
        "        log_ps=model(images)\n",
        "        loss=criterion(log_ps,labels)\n",
        "        loss.backward()\n",
        "        optimizer.step()\n",
        "        running_loss+=loss.item()\n",
        "        \n",
        "    else:\n",
        "        test_loss=0\n",
        "        accuracy=0\n",
        "        \n",
        "        with torch.no_grad():\n",
        "            model.eval()\n",
        "            for images,labels in test_loader:\n",
        "                log_ps=model(images)\n",
        "                test_loss+=criterion(log_ps,labels)\n",
        "                ps=torch.exp(log_ps)\n",
        "                top_p,top_class=ps.topk(1,dim=1)\n",
        "                equals=top_class==labels.view(*top_class.shape)\n",
        "                accuracy+=torch.mean(equals.type(torch.FloatTensor))\n",
        "        model.train()\n",
        "        train_losses.append(running_loss/len(train_loader))\n",
        "        test_losses.append(test_loss/len(test_loader))\n",
        "\n",
        "        print(\"Epoch: {}/{}.. \".format(e+1, epochs),\n",
        "              \"Training Loss: {:.3f}.. \".format(running_loss/len(train_loader)),\n",
        "              \"Test Loss: {:.3f}.. \".format(test_loss/len(test_loader)),\n",
        "              \"Test Accuracy: {:.3f}\".format(accuracy/len(test_loader)))    "
      ],
      "execution_count": 0,
      "outputs": []
    },
    {
      "cell_type": "markdown",
      "metadata": {
        "_uuid": "9373aea13cc5891684fb8b801cbcd0ac17eff458",
        "colab_type": "text",
        "id": "_vC0Y7z34DC1"
      },
      "source": [
        "## Save our model"
      ]
    },
    {
      "cell_type": "code",
      "metadata": {
        "_uuid": "bfcc3f17cadca0bf48cec130586b907965905ed6",
        "colab_type": "code",
        "id": "5gmUDHdA4DC2",
        "colab": {}
      },
      "source": [
        "print(\"Our model: \\n\\n\", model, '\\n')\n",
        "print(\"The state dict keys: \\n\\n\", model.state_dict().keys())"
      ],
      "execution_count": 0,
      "outputs": []
    },
    {
      "cell_type": "code",
      "metadata": {
        "_uuid": "f83335753469344d38ac362053a74fad30b0ca3e",
        "colab_type": "code",
        "id": "5xfl0hTJ4DC3",
        "colab": {}
      },
      "source": [
        "torch.save(model.state_dict(), 'checkpoint.pth')"
      ],
      "execution_count": 0,
      "outputs": []
    },
    {
      "cell_type": "markdown",
      "metadata": {
        "_uuid": "70b1a508fd748a8823a9e1af57538e4cacb0621d",
        "colab_type": "text",
        "id": "9zyso_in4DC4"
      },
      "source": [
        "## Load our model"
      ]
    },
    {
      "cell_type": "code",
      "metadata": {
        "_uuid": "abd854b1c8bfed532cb4e64578c40fd29dea9a36",
        "colab_type": "code",
        "id": "nnS5Suqe4DC4",
        "colab": {}
      },
      "source": [
        "state_dict = torch.load('checkpoint.pth')\n",
        "print(state_dict.keys())"
      ],
      "execution_count": 0,
      "outputs": []
    },
    {
      "cell_type": "code",
      "metadata": {
        "_uuid": "7a889737952161eb1834f521476f0f1c8448570a",
        "colab_type": "code",
        "id": "0iHEd3Nk4DC6",
        "colab": {}
      },
      "source": [
        "model.load_state_dict(state_dict)"
      ],
      "execution_count": 0,
      "outputs": []
    },
    {
      "cell_type": "code",
      "metadata": {
        "_uuid": "a08eff1adeb3a8f8f7a31356828ee732a557c3d5",
        "colab_type": "code",
        "id": "EOVzZilI4DC7",
        "colab": {}
      },
      "source": [
        "checkpoint = {'input_size': 784,\n",
        "              'output_size': 10,\n",
        "              'hidden_layers': [256,128,64],\n",
        "              'state_dict': model.state_dict()}\n",
        "\n",
        "torch.save(checkpoint, 'checkpoint.pth')"
      ],
      "execution_count": 0,
      "outputs": []
    },
    {
      "cell_type": "markdown",
      "metadata": {
        "_uuid": "b3356c9580d6c01685a52a11f906ee1c9dbe7ef1",
        "colab_type": "text",
        "id": "B-j6vcfk4DC9"
      },
      "source": [
        "## Load Test Data"
      ]
    },
    {
      "cell_type": "code",
      "metadata": {
        "_uuid": "34abb15aa48ad4f133ee15a2f9a5268b45692c36",
        "colab_type": "code",
        "id": "8oA5JqIJ4DC9",
        "colab": {}
      },
      "source": [
        "test_images = pd.read_csv(\"../input/digit-recognizer/test.csv\")\n",
        "test_image = test_images.loc[:,test_images.columns != \"label\"].values\n",
        "test_dataset = torch.from_numpy(test_image).type(torch.FloatTensor)/255\n",
        "print(test_dataset.shape)\n",
        "#test_dataset = torch.utils.data.TensorDataset(test_dataset)\n",
        "new_test_loader = torch.utils.data.DataLoader(test_dataset, batch_size = 100, shuffle = False)"
      ],
      "execution_count": 0,
      "outputs": []
    },
    {
      "cell_type": "code",
      "metadata": {
        "_uuid": "790dd7f94c59a6de5441827b999b6cff6f686154",
        "colab_type": "code",
        "id": "dwpwU0h04DC-",
        "colab": {}
      },
      "source": [
        "results = []\n",
        "with torch.no_grad():\n",
        "    model.eval()\n",
        "    for images in new_test_loader:\n",
        "        output = model(images)\n",
        "        ps = torch.exp(output)\n",
        "        top_p, top_class = ps.topk(1, dim = 1)\n",
        "        results += top_class.numpy().tolist()"
      ],
      "execution_count": 0,
      "outputs": []
    },
    {
      "cell_type": "markdown",
      "metadata": {
        "_uuid": "0f9b334b1c25c4bb1a48fda6b64634f1f90b7565",
        "colab_type": "text",
        "id": "4ZwCEHs24DC_"
      },
      "source": [
        "## Check the results"
      ]
    },
    {
      "cell_type": "code",
      "metadata": {
        "_uuid": "56ffd3051274596232af3ca4d1a9ee7d6322881a",
        "colab_type": "code",
        "id": "iJ2mowPf4DDA",
        "colab": {}
      },
      "source": [
        "predictions = np.array(results).flatten()\n",
        "print(predictions[:5])\n",
        "print(predictions.shape)"
      ],
      "execution_count": 0,
      "outputs": []
    },
    {
      "cell_type": "markdown",
      "metadata": {
        "_uuid": "f946013a3eab6274d1becd93dfe99aa9f7491cf9",
        "colab_type": "text",
        "id": "dMLPVy7c4DDB"
      },
      "source": [
        "## Submit for Scoring"
      ]
    },
    {
      "cell_type": "code",
      "metadata": {
        "_uuid": "655160a6e2d490651c0fe70b8ba7480ed8ba1fcc",
        "colab_type": "code",
        "id": "xFG3HrNH4DDC",
        "colab": {}
      },
      "source": [
        "submissions=pd.DataFrame({\"ImageId\": list(range(1,len(predictions)+1)),\n",
        "                         \"Label\": predictions})\n",
        "submissions.to_csv(\"my_submissions.csv\", index=False, header=True)"
      ],
      "execution_count": 0,
      "outputs": []
    },
    {
      "cell_type": "markdown",
      "metadata": {
        "_uuid": "177c548a264bbaaa76e216eeaf1d747db88b1030",
        "colab_type": "text",
        "id": "psW9Ie4t4DDF"
      },
      "source": [
        "# Reference\n",
        "\n",
        "[Introduction to Pytorch-Udacity](https://github.com/udacity/deep-learning-v2-pytorch/tree/master/intro-to-pytorch)"
      ]
    }
  ]
}