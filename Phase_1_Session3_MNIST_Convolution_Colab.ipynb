{
  "nbformat": 4,
  "nbformat_minor": 0,
  "metadata": {
    "colab": {
      "name": "Phase - 1_Session3_MNIST_Convolution_Colab.ipynb",
      "version": "0.3.2",
      "provenance": [],
      "collapsed_sections": [],
      "include_colab_link": true
    },
    "kernelspec": {
      "name": "python3",
      "display_name": "Python 3"
    },
    "accelerator": "GPU"
  },
  "cells": [
    {
      "cell_type": "markdown",
      "metadata": {
        "id": "view-in-github",
        "colab_type": "text"
      },
      "source": [
        "<a href=\"https://colab.research.google.com/github/maheshwarineha/Deep-Learning/blob/master/Phase_1_Session3_MNIST_Convolution_Colab.ipynb\" target=\"_parent\"><img src=\"https://colab.research.google.com/assets/colab-badge.svg\" alt=\"Open In Colab\"/></a>"
      ]
    },
    {
      "cell_type": "markdown",
      "metadata": {
        "id": "DM1xWRMKd7TQ",
        "colab_type": "text"
      },
      "source": [
        "# Imports"
      ]
    },
    {
      "cell_type": "code",
      "metadata": {
        "id": "kcRqhpxudhMR",
        "colab_type": "code",
        "outputId": "2ad9cb23-72b5-435e-bfe8-c9c8536b0f93",
        "colab": {
          "base_uri": "https://localhost:8080/",
          "height": 34
        }
      },
      "source": [
        "import numpy as np # linear algebra\n",
        "import pandas as pd # data processing, CSV file I/O (e.g. pd.read_csv)\n",
        "\n",
        "import torch\n",
        "\n",
        "print(\"Torch Version:\",torch.__version__)\n"
      ],
      "execution_count": 29,
      "outputs": [
        {
          "output_type": "stream",
          "text": [
            "Torch Version: 1.1.0\n"
          ],
          "name": "stdout"
        }
      ]
    },
    {
      "cell_type": "code",
      "metadata": {
        "id": "Z8z_KTKad5N2",
        "colab_type": "code",
        "colab": {}
      },
      "source": [
        "from torch import nn\n",
        "import torch.nn.functional as F\n",
        "from torchvision import datasets,transforms"
      ],
      "execution_count": 0,
      "outputs": []
    },
    {
      "cell_type": "code",
      "metadata": {
        "id": "Ix2Gexw7d6cp",
        "colab_type": "code",
        "outputId": "41b753da-8109-4a8a-d681-e88742f71772",
        "colab": {
          "base_uri": "https://localhost:8080/",
          "height": 34
        }
      },
      "source": [
        "train_on_gpu = torch.cuda.is_available()\n",
        "\n",
        "if not train_on_gpu:\n",
        "    print('CUDA is not available.  Training on CPU ...')\n",
        "else:\n",
        "    print('CUDA is available!  Training on GPU ...')"
      ],
      "execution_count": 31,
      "outputs": [
        {
          "output_type": "stream",
          "text": [
            "CUDA is available!  Training on GPU ...\n"
          ],
          "name": "stdout"
        }
      ]
    },
    {
      "cell_type": "code",
      "metadata": {
        "id": "hDuJD3ebd5Qr",
        "colab_type": "code",
        "colab": {}
      },
      "source": [
        "transform=transforms.Compose([transforms.ToTensor(),transforms.Normalize((0.1307,), (0.3081,))])\n",
        "trainset=datasets.MNIST('~/.pytorch/MNIST_data/',train=True,transform=transform,download=True)\n",
        "validset=datasets.MNIST('~/.pytorch/MNIST_data/',train=False,transform=transform,download=True)\n",
        "\n",
        "train_loader=torch.utils.data.DataLoader(trainset,batch_size=64,shuffle=True,num_workers=0)\n",
        "valid_loader=torch.utils.data.DataLoader(validset,batch_size=64,shuffle=True,num_workers=0)"
      ],
      "execution_count": 0,
      "outputs": []
    },
    {
      "cell_type": "markdown",
      "metadata": {
        "id": "QJ7vf0g8eYSx",
        "colab_type": "text"
      },
      "source": [
        "# Network"
      ]
    },
    {
      "cell_type": "code",
      "metadata": {
        "id": "6V3_8Yns5uAm",
        "colab_type": "code",
        "outputId": "1b25a05e-6464-4a03-cdeb-5413e856158a",
        "colab": {
          "base_uri": "https://localhost:8080/",
          "height": 119
        }
      },
      "source": [
        "class Net(nn.Module):\n",
        "    def __init__(self):\n",
        "        super(Net, self).__init__()\n",
        "        self.conv1 = nn.Conv2d(1,10, 3, 1)      #[in_channel,out_channel,filter_size,stride=1]\n",
        "        self.conv2 = nn.Conv2d(10, 16, 5, 1)\n",
        "       \n",
        "        self.fc1 = nn.Linear(4*4*16, 56)\n",
        "        self.fc2 = nn.Linear(56, 10)\n",
        "\n",
        "    def forward(self, x):\n",
        "        x = F.relu(self.conv1(x))\n",
        "        x = F.max_pool2d(x,2)\n",
        "        x = F.relu(self.conv2(x))\n",
        "        x = F.max_pool2d(x,2)\n",
        "       # print(x.shape)\n",
        "        x = x.view(-1, 4*4*16)\n",
        "        x = F.relu(self.fc1(x))\n",
        "        x = self.fc2(x)\n",
        "        return F.log_softmax(x, dim=1)\n",
        "      \n",
        "# create a complete CNN\n",
        "model = Net()\n",
        "print(model)\n",
        "\n",
        "# move tensors to GPU if CUDA is available\n",
        "if train_on_gpu:\n",
        "    model.cuda()"
      ],
      "execution_count": 51,
      "outputs": [
        {
          "output_type": "stream",
          "text": [
            "Net(\n",
            "  (conv1): Conv2d(1, 10, kernel_size=(3, 3), stride=(1, 1))\n",
            "  (conv2): Conv2d(10, 16, kernel_size=(5, 5), stride=(1, 1))\n",
            "  (fc1): Linear(in_features=256, out_features=56, bias=True)\n",
            "  (fc2): Linear(in_features=56, out_features=10, bias=True)\n",
            ")\n"
          ],
          "name": "stdout"
        }
      ]
    },
    {
      "cell_type": "markdown",
      "metadata": {
        "id": "cUSBYYk3hWiB",
        "colab_type": "text"
      },
      "source": [
        "input Image  [1,28,28] <br> \n",
        "conv1 -          [10,26,26] <br>\n",
        "Maxpool       [10,13,13] <br>\n",
        "Conv2 -         [16,9,9] <br>\n",
        "Maxpool -     [16,4,4] <br>\n",
        "fc1 -               [16x4x4 , 200] <br>\n",
        "fc2 -               [200,10]"
      ]
    },
    {
      "cell_type": "code",
      "metadata": {
        "id": "2AcPrNy398cs",
        "colab_type": "code",
        "outputId": "43430e19-2969-4352-85be-d940319bea59",
        "colab": {
          "base_uri": "https://localhost:8080/",
          "height": 51
        }
      },
      "source": [
        "pytorch_total_params = sum(p.numel() for p in model.parameters())\n",
        "print(\"Total_params\",pytorch_total_params)\n",
        "pytorch_total_params = sum(p.numel() for p in model.parameters() if p.requires_grad)\n",
        "print(\"Trainable_params\",pytorch_total_params)"
      ],
      "execution_count": 52,
      "outputs": [
        {
          "output_type": "stream",
          "text": [
            "Total_params 19078\n",
            "Trainable_params 19078\n"
          ],
          "name": "stdout"
        }
      ]
    },
    {
      "cell_type": "code",
      "metadata": {
        "id": "EwfV1JZ5d5Vy",
        "colab_type": "code",
        "colab": {}
      },
      "source": [
        "import torch.optim as optim\n",
        "criterion = nn.NLLLoss()\n",
        "\n",
        "# specify optimizer\n",
        "optimizer = optim.SGD(model.parameters(), lr=0.01)"
      ],
      "execution_count": 0,
      "outputs": []
    },
    {
      "cell_type": "code",
      "metadata": {
        "id": "jzxWxIhDd5Xt",
        "colab_type": "code",
        "outputId": "935d5131-0c0b-4123-e541-be9929799e23",
        "colab": {
          "base_uri": "https://localhost:8080/",
          "height": 340
        }
      },
      "source": [
        "# number of epochs to train the model\n",
        "n_epochs = 10\n",
        "\n",
        "valid_loss_min = np.Inf # track change in validation loss\n",
        "\n",
        "for epoch in range(1, n_epochs+1):\n",
        "\n",
        "    # keep track of training and validation loss\n",
        "    train_loss = 0.0\n",
        "    valid_loss = 0.0\n",
        "    \n",
        "    ###################\n",
        "    # train the model #\n",
        "    ###################\n",
        "    model.train()\n",
        "    for data, target in train_loader:\n",
        "        # move tensors to GPU if CUDA is available\n",
        "        if train_on_gpu:\n",
        "            data, target = data.cuda(), target.cuda()\n",
        "        # clear the gradients of all optimized variables\n",
        "        optimizer.zero_grad()\n",
        "        # forward pass: compute predicted outputs by passing inputs to the model\n",
        "        output = model(data)\n",
        "        # calculate the batch loss\n",
        "        loss = criterion(output, target)\n",
        "        # backward pass: compute gradient of the loss with respect to model parameters\n",
        "        loss.backward()\n",
        "        # perform a single optimization step (parameter update)\n",
        "        optimizer.step()\n",
        "        # update training loss\n",
        "        train_loss += loss.item()*data.size(0)\n",
        "        \n",
        "    ######################    \n",
        "    # validate the model #\n",
        "    ######################\n",
        "    model.eval()\n",
        "    for data, target in valid_loader:\n",
        "        # move tensors to GPU if CUDA is available\n",
        "        if train_on_gpu:\n",
        "            data, target = data.cuda(), target.cuda()\n",
        "        # forward pass: compute predicted outputs by passing inputs to the model\n",
        "        output = model(data)\n",
        "        # calculate the batch loss\n",
        "        loss = criterion(output, target)\n",
        "        # update average validation loss \n",
        "        valid_loss += loss.item()*data.size(0)\n",
        "    \n",
        "    # calculate average losses\n",
        "    train_loss = train_loss/len(train_loader.sampler)\n",
        "    valid_loss = valid_loss/len(valid_loader.sampler)\n",
        "        \n",
        "    # print training/validation statistics \n",
        "    print('Epoch: {} \\tTraining Loss: {:.6f} \\tValidation Loss: {:.6f}'.format(\n",
        "        epoch, train_loss, valid_loss))\n",
        "    \n",
        "    # save model if validation loss has decreased\n",
        "    if valid_loss <= valid_loss_min:\n",
        "        print('Validation loss decreased ({:.6f} --> {:.6f}).  Saving model ...'.format(\n",
        "        valid_loss_min,\n",
        "        valid_loss))\n",
        "        torch.save(model.state_dict(), 'model_mnist.pt')\n",
        "        valid_loss_min = valid_loss"
      ],
      "execution_count": 54,
      "outputs": [
        {
          "output_type": "stream",
          "text": [
            "Epoch: 1 \tTraining Loss: 0.625262 \tValidation Loss: 0.223410\n",
            "Validation loss decreased (inf --> 0.223410).  Saving model ...\n",
            "Epoch: 2 \tTraining Loss: 0.175703 \tValidation Loss: 0.127465\n",
            "Validation loss decreased (0.223410 --> 0.127465).  Saving model ...\n",
            "Epoch: 3 \tTraining Loss: 0.122361 \tValidation Loss: 0.106515\n",
            "Validation loss decreased (0.127465 --> 0.106515).  Saving model ...\n",
            "Epoch: 4 \tTraining Loss: 0.098356 \tValidation Loss: 0.097670\n",
            "Validation loss decreased (0.106515 --> 0.097670).  Saving model ...\n",
            "Epoch: 5 \tTraining Loss: 0.085128 \tValidation Loss: 0.074624\n",
            "Validation loss decreased (0.097670 --> 0.074624).  Saving model ...\n",
            "Epoch: 6 \tTraining Loss: 0.074677 \tValidation Loss: 0.068400\n",
            "Validation loss decreased (0.074624 --> 0.068400).  Saving model ...\n",
            "Epoch: 7 \tTraining Loss: 0.067114 \tValidation Loss: 0.057710\n",
            "Validation loss decreased (0.068400 --> 0.057710).  Saving model ...\n",
            "Epoch: 8 \tTraining Loss: 0.061561 \tValidation Loss: 0.053057\n",
            "Validation loss decreased (0.057710 --> 0.053057).  Saving model ...\n",
            "Epoch: 9 \tTraining Loss: 0.056758 \tValidation Loss: 0.051913\n",
            "Validation loss decreased (0.053057 --> 0.051913).  Saving model ...\n",
            "Epoch: 10 \tTraining Loss: 0.052586 \tValidation Loss: 0.053618\n"
          ],
          "name": "stdout"
        }
      ]
    },
    {
      "cell_type": "code",
      "metadata": {
        "id": "uFfrCDUzqWo8",
        "colab_type": "code",
        "colab": {}
      },
      "source": [
        "# specify the image classes\n",
        "classes = ['0', '1', '2', '3', '4',\n",
        "           '5', '6', '7', '8', '9']"
      ],
      "execution_count": 0,
      "outputs": []
    },
    {
      "cell_type": "code",
      "metadata": {
        "id": "2cja3x2tpeRz",
        "colab_type": "code",
        "outputId": "9cecb1be-1f03-4d6b-a596-40d1cc707d78",
        "colab": {
          "base_uri": "https://localhost:8080/",
          "height": 255
        }
      },
      "source": [
        "batch_size=16\n",
        "# track test loss\n",
        "test_loss = 0.0\n",
        "class_correct = list(0. for i in range(10))\n",
        "class_total = list(0. for i in range(10))\n",
        "\n",
        "model.eval()\n",
        "# iterate over test data\n",
        "for data, target in valid_loader:\n",
        "    # move tensors to GPU if CUDA is available\n",
        "    if train_on_gpu:\n",
        "        data, target = data.cuda(), target.cuda()\n",
        "    # forward pass: compute predicted outputs by passing inputs to the model\n",
        "    output = model(data)\n",
        "    # calculate the batch loss\n",
        "    loss = criterion(output, target)\n",
        "    # update test loss \n",
        "    test_loss += loss.item()*data.size(0)\n",
        "    # convert output probabilities to predicted class\n",
        "    _, pred = torch.max(output, 1)    \n",
        "    # compare predictions to true label\n",
        "    correct_tensor = pred.eq(target.data.view_as(pred))\n",
        "    correct = np.squeeze(correct_tensor.numpy()) if not train_on_gpu else np.squeeze(correct_tensor.cpu().numpy())\n",
        "    # calculate test accuracy for each object class\n",
        "    for i in range(batch_size):\n",
        "        label = target.data[i]\n",
        "        class_correct[label] += correct[i].item()\n",
        "        class_total[label] += 1\n",
        "\n",
        "# average test loss\n",
        "test_loss = test_loss/len(valid_loader.dataset)\n",
        "print('Test Loss: {:.6f}\\n'.format(test_loss))\n",
        "\n",
        "for i in range(10):\n",
        "    if class_total[i] > 0:\n",
        "        print('Test Accuracy of %5s: %2d%% (%2d/%2d)' % (\n",
        "            classes[i], 100 * class_correct[i] / class_total[i],\n",
        "            np.sum(class_correct[i]), np.sum(class_total[i])))\n",
        "    else:\n",
        "        print('Test Accuracy of %5s: N/A (no training examples)' % (classes[i]))\n",
        "\n",
        "print('\\nTest Accuracy (Overall): %2d%% (%2d/%2d)' % (\n",
        "    100. * np.sum(class_correct) / np.sum(class_total),\n",
        "    np.sum(class_correct), np.sum(class_total)))"
      ],
      "execution_count": 50,
      "outputs": [
        {
          "output_type": "stream",
          "text": [
            "Test Loss: 0.051231\n",
            "\n",
            "Test Accuracy of     0: 99% (786/791)\n",
            "Test Accuracy of     1: 99% (902/906)\n",
            "Test Accuracy of     2: 98% (800/810)\n",
            "Test Accuracy of     3: 97% (786/803)\n",
            "Test Accuracy of     4: 99% (790/796)\n",
            "Test Accuracy of     5: 97% (694/713)\n",
            "Test Accuracy of     6: 98% (750/763)\n",
            "Test Accuracy of     7: 97% (816/833)\n",
            "Test Accuracy of     8: 98% (749/764)\n",
            "Test Accuracy of     9: 97% (797/821)\n",
            "\n",
            "Test Accuracy (Overall): 98% (7870/8000)\n"
          ],
          "name": "stdout"
        }
      ]
    },
    {
      "cell_type": "code",
      "metadata": {
        "id": "tiiMSFdatHaL",
        "colab_type": "code",
        "colab": {}
      },
      "source": [
        "import matplotlib.pyplot as plt\n",
        "%matplotlib inline\n",
        "# helper function to de-normalize and display an image\n",
        "def imshow(img):\n",
        "    #img = img / 2 + 0.5  # unnormalize\n",
        "    plt.imshow(np.transpose(img, (1, 2, 0)).squeeze())  # convert from Tensor image"
      ],
      "execution_count": 0,
      "outputs": []
    },
    {
      "cell_type": "code",
      "metadata": {
        "id": "3F1H_mBOsnyG",
        "colab_type": "code",
        "outputId": "f05bb54a-5255-4b12-d995-06719ec8de38",
        "colab": {
          "base_uri": "https://localhost:8080/",
          "height": 288
        }
      },
      "source": [
        "valid_loader=torch.utils.data.DataLoader(validset,batch_size=20,shuffle=True,num_workers=0)\n",
        "\n",
        "\n",
        "# obtain one batch of test images\n",
        "dataiter = iter(valid_loader)\n",
        "images, labels = dataiter.next()\n",
        "images.numpy()\n",
        "\n",
        "\n",
        "# move model inputs to cuda, if GPU available\n",
        "if train_on_gpu:\n",
        "    images = images.cuda()\n",
        "\n",
        "# get sample outputs\n",
        "output = model(images)\n",
        "# convert output probabilities to predicted class\n",
        "_, preds_tensor = torch.max(output, 1)\n",
        "preds = np.squeeze(preds_tensor.numpy()) if not train_on_gpu else np.squeeze(preds_tensor.cpu().numpy())\n",
        "\n",
        "# plot the images in the batch, along with predicted and true labels\n",
        "fig = plt.figure(figsize=(25, 4))\n",
        "for idx in np.arange(20):\n",
        "    ax = fig.add_subplot(2, 20/2, idx+1, xticks=[], yticks=[])\n",
        "    imshow(images.cpu()[idx])\n",
        "    ax.set_title(\"{} ({})\".format(classes[preds[idx]], classes[labels[idx]]),\n",
        "                 color=(\"green\" if preds[idx]==labels[idx].item() else \"red\"))"
      ],
      "execution_count": 42,
      "outputs": [
        {
          "output_type": "display_data",
          "data": {
            "image/png": "[encoded data removed]",
            "text/plain": [
              "<Figure size 1800x288 with 20 Axes>"
            ]
          },
          "metadata": {
            "tags": []
          }
        }
      ]
    }
  ]
}